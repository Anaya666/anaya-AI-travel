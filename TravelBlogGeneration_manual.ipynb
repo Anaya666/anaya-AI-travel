{
 "cells": [
  {
   "cell_type": "markdown",
   "metadata": {},
   "source": [
    "This notebook will generate blogs given links"
   ]
  },
  {
   "cell_type": "code",
   "execution_count": null,
   "metadata": {},
   "outputs": [],
   "source": [
    "pip install selenium\n",
    "pip install bs4"
   ]
  },
  {
   "cell_type": "code",
   "execution_count": 1,
   "metadata": {},
   "outputs": [],
   "source": [
    "from selenium import webdriver\n",
    "from selenium.webdriver.chrome.options import Options\n",
    "import requests\n",
    "from bs4 import BeautifulSoup\n",
    "import os"
   ]
  },
  {
   "cell_type": "code",
   "execution_count": 2,
   "metadata": {},
   "outputs": [],
   "source": [
    "def scrape_blog(html_links, title, target, tags, attributes):\n",
    "    # Set up Chrome options\n",
    "    options = Options()\n",
    "    options.add_argument(\"--disable-extensions\")\n",
    "    options.add_argument(\"--disable-gpu\")\n",
    "\n",
    "    # Create a new Chrome driver instance\n",
    "    driver = webdriver.Chrome(options=options)\n",
    "\n",
    "    # Navigate to the webpage\n",
    "    driver.get(html_links)\n",
    "\n",
    "    # Extract the HTML content\n",
    "    html_content = driver.page_source\n",
    "\n",
    "    # Close the browser\n",
    "    driver.quit()\n",
    "\n",
    "    # Parse the HTML content\n",
    "    soup = BeautifulSoup(html_content, 'html.parser')\n",
    "\n",
    "    if(attributes == None):\n",
    "        article = soup.find(target)\n",
    "    else:\n",
    "        article = soup.find(target, class_=attributes)\n",
    "        \n",
    "    elements = []\n",
    "    for element in article.find_all(tags):\n",
    "        elements.append(element.text)\n",
    "    elements.append('\\n')\n",
    "\n",
    "    file_path = os.path.join('./TravelBlogs', title + '.txt')\n",
    "\n",
    "    with open(file_path, 'w') as f:\n",
    "        for line in elements:\n",
    "            f.write(line + '\\n')\n"
   ]
  },
  {
   "cell_type": "code",
   "execution_count": 14,
   "metadata": {},
   "outputs": [],
   "source": [
    "html_links = 'https://www.tripadvisor.com/Articles-l39uvX4HATVQ-2_days_in_philadelphia_itinerary.html#b20b1376-cc22-4cbd-9da1-818569f0c51e'\n",
    "title = '2 Perfect days in Philadelphia'\n",
    "target = 'article'\n",
    "attributes = None\n",
    "tags = ['h1','h2','h3','p','ul']\n",
    "scrape_blog(html_links, title, target, tags, attributes)"
   ]
  },
  {
   "cell_type": "code",
   "execution_count": 15,
   "metadata": {},
   "outputs": [],
   "source": [
    "html_links = 'https://www.waywardblog.com/36-hours-philadelphia-pennsylvania/'\n",
    "title = '36 Hours in Philadelphia, Pennsylvania'\n",
    "target = 'article'\n",
    "attributes = None\n",
    "tags = ['h1','h2','h3','p','figcaption']\n",
    "scrape_blog(html_links, title, target, tags,attributes)"
   ]
  },
  {
   "cell_type": "code",
   "execution_count": 16,
   "metadata": {},
   "outputs": [],
   "source": [
    "html_links = 'https://acupofkims.com/a-5-day-itinerary-in-philadelphia-from-a-locals-perspective-ro/'\n",
    "title = 'A 5 day itinerary in philadelphia from a locals perspective'\n",
    "target = 'article'\n",
    "attributes = None\n",
    "tags = ['h1','p','ol']\n",
    "scrape_blog(html_links, title, target, tags, attributes)"
   ]
  },
  {
   "cell_type": "code",
   "execution_count": 22,
   "metadata": {},
   "outputs": [],
   "source": [
    "html_links = 'https://lhseagle-eye.com/28185/opinion/philadelphia-travel-blog/'\n",
    "title = 'Philadelphia: Travel Blog'\n",
    "target = 'div'\n",
    "attributes = 'sno-story-wrap'\n",
    "tags = ['h1','p','ol']\n",
    "scrape_blog(html_links, title, target, tags, attributes)"
   ]
  },
  {
   "cell_type": "code",
   "execution_count": 25,
   "metadata": {},
   "outputs": [],
   "source": [
    "html_links = 'https://www.amylittleson.com/travel-guide-philadelphia/'\n",
    "title = 'Travel Guide: Philadelphia'\n",
    "target = 'div'\n",
    "attributes = 'post__content container container--full'\n",
    "tags = ['h1','h2','h3','h5','p','figcaption']\n",
    "scrape_blog(html_links, title, target, tags, attributes)"
   ]
  },
  {
   "cell_type": "code",
   "execution_count": 26,
   "metadata": {},
   "outputs": [],
   "source": [
    "html_links = 'https://www.nomadicmatt.com/travel-guides/united-states-travel-guide/philadelphia/'\n",
    "title = 'Philadelphia Travel Guide'\n",
    "target = 'article'\n",
    "attributes = None\n",
    "tags = ['p','h1','h3','h4','h5','ul']\n",
    "scrape_blog(html_links, title, target, tags, attributes)"
   ]
  },
  {
   "cell_type": "code",
   "execution_count": 27,
   "metadata": {},
   "outputs": [],
   "source": [
    "html_links = 'https://dametraveler.com/an-insiders-guide-to-philadelphia/'\n",
    "title = 'An Insider’s Guide to Philadelphia'\n",
    "target = 'article'\n",
    "attributes = None\n",
    "tags = ['p','h1','h2','h3','h4']\n",
    "scrape_blog(html_links, title, target, tags, attributes)\n"
   ]
  },
  {
   "cell_type": "code",
   "execution_count": 28,
   "metadata": {},
   "outputs": [],
   "source": [
    "html_links = 'https://www.thenomadexperiment.com/first-philly-philadelphia-trip-travel/'\n",
    "title = 'Philly, PA USA – “You’re thinking of going to Philly? Don’t.” …And Other Annoying Things People Say'\n",
    "target = 'article'\n",
    "attributes = None\n",
    "tags = ['p','h1','h2']\n",
    "scrape_blog(html_links, title, target, tags, attributes)\n",
    "\n"
   ]
  },
  {
   "cell_type": "code",
   "execution_count": 30,
   "metadata": {},
   "outputs": [],
   "source": [
    "html_links = 'https://thenextsomewhere.com/2024/05/05/city-guide-philadelphia/'\n",
    "title = 'City Guide Philadelphia'\n",
    "target = 'article'\n",
    "attributes = None\n",
    "tags = ['h3','h2','p','h4']\n",
    "scrape_blog(html_links, title, target, tags, attributes)"
   ]
  },
  {
   "cell_type": "code",
   "execution_count": 31,
   "metadata": {},
   "outputs": [],
   "source": [
    "html_links = 'https://www.visitphilly.com/features/essential-guide-to-philadelphia/'\n",
    "title = 'Philly 101: The Essential Guide To Philadelphia'\n",
    "target = 'main'\n",
    "attributes = None\n",
    "tags = ['h1','h3','p','h2']\n",
    "scrape_blog(html_links, title, target, tags, attributes)\n"
   ]
  },
  {
   "cell_type": "code",
   "execution_count": 32,
   "metadata": {},
   "outputs": [],
   "source": [
    "html_links = 'https://danlikestoeat.com/2024/06/16/philadelphia-visitor-guide/'\n",
    "title = 'Philadelphia Visitor Guide'\n",
    "target = 'article'\n",
    "attributes = None\n",
    "tags = ['h1','p','h2','h3']\n",
    "scrape_blog(html_links, title, target, tags, attributes)"
   ]
  },
  {
   "cell_type": "code",
   "execution_count": 4,
   "metadata": {},
   "outputs": [],
   "source": [
    "html_links = 'https://danlikestoeat.com/2024/06/16/philadelphia-visitor-guide/'\n",
    "title = 'Weekend in Philadelphia: The Perfect 2 Day Itinerary for 2023'\n",
    "target = 'article'\n",
    "attributes = None\n",
    "tags = ['h1','p','h2','h3','h4','ul']\n",
    "scrape_blog(html_links, title, target, tags, attributes)"
   ]
  },
  {
   "cell_type": "code",
   "execution_count": 5,
   "metadata": {},
   "outputs": [],
   "source": [
    "\n",
    "html_links = 'https://wheatlesswanderlust.com/weekend-in-philadelphia-itinerary/'\n",
    "title = 'A Perfect Weekend in Philadelphia: Complete 2 Day Itinerary'\n",
    "target = 'article'\n",
    "attributes = None\n",
    "tags = ['h1','p','h2','h3','h4','ul']\n",
    "scrape_blog(html_links, title, target, tags, attributes)"
   ]
  },
  {
   "cell_type": "code",
   "execution_count": 3,
   "metadata": {},
   "outputs": [],
   "source": [
    "html_links = 'https://www.ourescapeclause.com/3-day-weekend-in-philadelphia-itinerary/'\n",
    "title = '3 Days in Philly: The Perfect Weekend in Philadelphia Itinerary'\n",
    "target = 'article'\n",
    "attributes = None\n",
    "tags = ['h1','p','h2','h3','h4','h5','ul']\n",
    "scrape_blog(html_links, title, target, tags, attributes)"
   ]
  },
  {
   "cell_type": "code",
   "execution_count": 3,
   "metadata": {},
   "outputs": [],
   "source": [
    "html_links = 'https://www.kevinandamanda.com/philadelphia/'\n",
    "title = 'Best Things To Do In Philadelphia'\n",
    "target = 'article'\n",
    "attributes = None\n",
    "tags = ['h1','p','h2']\n",
    "scrape_blog(html_links, title, target, tags, attributes)"
   ]
  },
  {
   "cell_type": "code",
   "execution_count": 4,
   "metadata": {},
   "outputs": [],
   "source": [
    "html_links = 'https://www.livingandlocal.net/livingandlocal-blog/2021/4/21/how-to-spend-24-hours-in-philadelphia-pennsylvania'\n",
    "title = 'How to Spend 24 Hours in Philadelphia, Pennsylvania'\n",
    "target = 'article'\n",
    "attributes = None\n",
    "tags = ['h1','p','h2','h3']\n",
    "scrape_blog(html_links, title, target, tags, attributes)"
   ]
  },
  {
   "cell_type": "code",
   "execution_count": 5,
   "metadata": {},
   "outputs": [],
   "source": [
    "html_links = 'https://ninanearandfar.com/2-days-in-philadelphia/'\n",
    "title = '2 Days in Philadelphia: A Visitor’s Guide and Suggested Itinerary'\n",
    "target = 'article'\n",
    "attributes = None\n",
    "tags = ['h4','p','h2','h3','ul','h1']\n",
    "scrape_blog(html_links, title, target, tags, attributes)"
   ]
  },
  {
   "cell_type": "code",
   "execution_count": 7,
   "metadata": {},
   "outputs": [],
   "source": [
    "html_links = 'https://www.adventurouskate.com/a-different-24-hours-in-philadelphia-my-former-least-favorite-city/'\n",
    "title = 'A Different 24 Hours in Philadelphia, My Former Least Favorite City'\n",
    "target = 'article'\n",
    "attributes = None\n",
    "tags = ['h1','p','h3']\n",
    "scrape_blog(html_links, title, target, tags, attributes)"
   ]
  },
  {
   "cell_type": "code",
   "execution_count": 8,
   "metadata": {},
   "outputs": [],
   "source": [
    "html_links = 'https://roadtripqueens.blog/2021/08/07/philadelphia-with-kids/'\n",
    "title = 'Philadelphia with Kids'\n",
    "target = 'article'\n",
    "attributes = None\n",
    "tags = ['h1','p','h2']\n",
    "scrape_blog(html_links, title, target, tags, attributes)"
   ]
  },
  {
   "cell_type": "code",
   "execution_count": 10,
   "metadata": {},
   "outputs": [],
   "source": [
    "html_links = 'https://eccontessa.com/philadelphia-pennsylvania/'\n",
    "title = 'A First Timer’s Guide to Philadelphia, Pennsylvania'\n",
    "target = 'main'\n",
    "attributes = None\n",
    "tags = ['h1','p']\n",
    "scrape_blog(html_links, title, target, tags, attributes)"
   ]
  },
  {
   "cell_type": "code",
   "execution_count": null,
   "metadata": {},
   "outputs": [],
   "source": []
  }
 ],
 "metadata": {
  "kernelspec": {
   "display_name": "pytorch",
   "language": "python",
   "name": "python3"
  },
  "language_info": {
   "codemirror_mode": {
    "name": "ipython",
    "version": 3
   },
   "file_extension": ".py",
   "mimetype": "text/x-python",
   "name": "python",
   "nbconvert_exporter": "python",
   "pygments_lexer": "ipython3",
   "version": "3.12.5"
  }
 },
 "nbformat": 4,
 "nbformat_minor": 2
}
