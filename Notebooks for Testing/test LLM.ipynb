{
 "cells": [
  {
   "cell_type": "code",
   "execution_count": 1,
   "metadata": {},
   "outputs": [],
   "source": [
    "import numpy as np\n",
    "import pandas as pd\n",
    "import os\n",
    "import torch\n",
    "import transformers\n",
    "\n",
    "from transformers import AutoTokenizer, AutoModelForCausalLM"
   ]
  },
  {
   "cell_type": "code",
   "execution_count": 2,
   "metadata": {},
   "outputs": [],
   "source": [
    "access_token = os.getenv('HUGGINGFACE_TOKEN')"
   ]
  },
  {
   "cell_type": "code",
   "execution_count": 3,
   "metadata": {},
   "outputs": [
    {
     "data": {
      "application/vnd.jupyter.widget-view+json": {
       "model_id": "7d0e3add04ff4befb2b67fcb4bae08f7",
       "version_major": 2,
       "version_minor": 0
      },
      "text/plain": [
       "Loading checkpoint shards:   0%|          | 0/4 [00:00<?, ?it/s]"
      ]
     },
     "metadata": {},
     "output_type": "display_data"
    }
   ],
   "source": [
    "# Load model directly\n",
    "tokenizer = AutoTokenizer.from_pretrained(\"meta-llama/Llama-3.1-8B\", token=access_token)\n",
    "model = AutoModelForCausalLM.from_pretrained(\"meta-llama/Llama-3.1-8B\", token=access_token)"
   ]
  },
  {
   "cell_type": "code",
   "execution_count": 4,
   "metadata": {},
   "outputs": [
    {
     "name": "stdout",
     "output_type": "stream",
     "text": [
      "NVIDIA GeForce RTX 3090 Ti\n"
     ]
    }
   ],
   "source": [
    "print(torch.cuda.get_device_name(torch.cuda.current_device()))"
   ]
  },
  {
   "cell_type": "code",
   "execution_count": 14,
   "metadata": {},
   "outputs": [],
   "source": [
    "# Move the model to the GPU\n",
    "device = torch.device(\"cuda\" if torch.cuda.is_available() else \"cpu\")\n",
    "model.to(device)\n",
    "\n",
    "# Define a function to generate text\n",
    "def generate_text(prompt):\n",
    "    inputs = tokenizer.encode_plus(\n",
    "        prompt,\n",
    "        add_special_tokens=True,\n",
    "        return_attention_mask=True,\n",
    "        max_length=10000,\n",
    "        return_tensors='pt'\n",
    "    )\n",
    "\n",
    "    # Move the input tensors to the GPU\n",
    "    inputs['input_ids'] = inputs['input_ids'].to(device)\n",
    "    inputs['attention_mask'] = inputs['attention_mask'].to(device)\n",
    "\n",
    "    outputs = model.generate(\n",
    "        inputs['input_ids'],\n",
    "        max_length=10000,\n",
    "        attention_mask=inputs['attention_mask']\n",
    "        \n",
    "    )\n",
    "\n",
    "    generated_text = tokenizer.decode(outputs[0], skip_special_tokens=True)\n",
    "    return generated_text"
   ]
  },
  {
   "cell_type": "code",
   "execution_count": 8,
   "metadata": {},
   "outputs": [],
   "source": [
    "with open('../Datasets/all_prompts_random50.json', 'r') as f:\n",
    "    text = f.read()"
   ]
  },
  {
   "cell_type": "code",
   "execution_count": 15,
   "metadata": {},
   "outputs": [
    {
     "name": "stderr",
     "output_type": "stream",
     "text": [
      "Setting `pad_token_id` to `eos_token_id`:None for open-end generation.\n"
     ]
    },
    {
     "name": "stdout",
     "output_type": "stream",
     "text": [
      "Give me a travel plan in Philadelphia for 2 days, given the information of the following business[\n",
      "    {\n",
      "        \"Description\": \"Accommodations in Philadelphia\",\n",
      "        \"Content\": \"'name', 'address','stars', 'price'. Four Points by Sheraton Philadelphia Airport,4101A Island Ave,2.5,$$. The Inn at The Union League,1450 Sansom,3.5,$$$. The Rittenhouse Hotel,210 W Rittenhouse Sq,4.0,$$$. Thomas Bond House,129 S 2nd St,4.5,Unknown price. North American Motor Inns,4444 City Ave,1.0,$. Kimpton Hotel Palomar Philadelphia,117 S 17th St,4.0,$$$. Microtel Inn & Suites by Wyndham Philadelphia Airport,8840 Tinicum Boulevard,2.0,$. AKA University City,2929 Walnut St,4.0,Unknown price. Kimpton Hotel Monaco Philadelphia,433 Chestnut St,4.0,$$$. The Warwick Hotel Rittenhouse Square,220 S 17th St,3.0,$$$. Four Points by Sheraton Philadelphia City Center,1201 Race St,3.0,$$. Four Seasons Hotel Philadelphia at Comcast Center,1 N 19th St,4.0,Unknown price. Fairfield Inn by Marriott Philadelphia Airport,8800 Bartram Ave,3.0,$$. Lokal Hotel,139 N 3rd St,4.5,$$$. Club Quarters Philadelphia,1628 Chestnut St,3.0,$$. Hilton Philadelphia at Penn's Landing,201 S Christopher Columbus Blvd,3.5,$$$. Sheraton Suites Philadelphia Airport,4101 B Island Ave,2.5,$$. Microtel Inn & Suites,8840 Tincm Ave,2.5,Unknown price. Hampton Inn Philadelphia Center City-Convention Center,1301 Race St,3.5,$$. Chestnut Hill Tower Apartments,7600 Stenton Ave,2.0,Unknown price. Tokio Sushi Bistro & Bed & Breakfast,124 Lombard St,2.5,Unknown price. DoubleTree by Hilton Hotel Philadelphia Center City,237 S Broad St,3.0,$$. Le Meridien Philadelphia,1421 Arch Street,3.5,$$$. The Windsor Suites,1700 Benjamin Franklin Pkwy,3.5,$$. Extended Stay America - Philadelphia - Airport - Bartram Ave.,8880 Bartram Ave.,1.5,$$. AKA Rittenhouse Square,135 S 18th St,4.5,$$$. Motto By Hilton Philadelphia Rittenhouse Square,31 S 19th St,4.0,$$. The Logan Philadelphia, Curio Collection by Hilton,1 Logan Sq,3.5,$$$. Keystone Concierge,,4.5,Unknown price. Aloft Philadelphia Downtown,101 North Broad St,3.5,$$. Hilton Philadelphia City Avenue,4200 City Ave,2.5,$$$. DoubleTree by Hilton Hotel Philadelphia Airport,4509 Island Ave,2.5,$$. Leneghan's Crusader Inn,7412 Frankford Ave,5.0,$. Philadelphia Marriott Downtown,1201 Market Street, (guest entrance at 1200 Filbert Street).,3.0,$$. Four Points by Sheraton Philadelphia Northeast,9461 Roosevelt Blvd,2.5,$$. Penn Tower Hotel,3400 Civic Center Blvd,1.5,$$. Live! Casino & Hotel Philadelphia,900 Packer Ave,2.5,Unknown price. Penrose Hotel,2033 Penrose Ave,1.0,$$$. Courtyard by Marriott Philadelphia South at The Navy Yard,1001 Intrepid Ave,4.0,$$. Embassy Suites by Hilton Philadelphia Airport,9000 Bartram Ave,2.5,$$. The Study at University City,20 S 33rd St,4.0,$$. Extended Stay America - Philadelphia - Airport - Tinicum Blvd.,9000 Tinicum Blvd,1.5,$$. The Ritz-Carlton, Philadelphia,10 Avenue of the Arts,3.5,$$$. Sofitel Philadelphia,120 S 17th St,4.0,$$. Philadelphia Marriott Old City,One Dock St, 2nd and Walnut St,3.0,$$$. Peking Inn,2020 Penrose Ave, Ste D,2.5,$$. Cornerstone Bed & Breakfast,3300 Baring St,4.5,Unknown price. The Conwell Inn,1331 Pollet Walk,3.5,$$. Minute Suites,Terminal A-B Link,4.0,$$$. Hampton Inn Philadelphia-International Airport,8600 Bartram Ave,3.0,$$. \"\n",
      "    },\n",
      "    {\n",
      "        \"Description\": \"Attractions in Philadelphia\",\n",
      "        \"Content\": \"'name', 'address','stars', 'categories', 'price'. Philly Tour Hub,7 N. Columbus Blvd,5.0,Hotels & Travel, Local Flavor, Walking Tours, Active Life, Scavenger Hunts, Tours,Unknown price. Fishtown Rivercity Festival,1199 N Delaware Ave,4.5,Arts & Entertainment, Local Flavor, Festivals,Unknown price. Pollyodd,1908 E Passyunk Ave,5.0,Flowers & Gifts, Gift Shops, Local Flavor, Beer, Wine & Spirits, Shopping, Food,$$. Thaddeus Kosciuszko National Memorial,301 Pine St,4.0,Public Services & Government, Landmarks & Historical Buildings,Unknown price. South Street Headhouse District,2nd And Lombard St,4.0,Local Flavor, Landmarks & Historical Buildings, Public Services & Government,Unknown price. Orianna Hill Dog Park,901-913 N Orianna St,3.5,Parks, Professional Services, Active Life, Dog Parks,Unknown price. Schuylkill Banks,2501 Walnut St, Ste 206,4.5,Boating, Parks, Active Life, Hotels & Travel, Tours,Unknown price. Walt Whitman Bridge,3100 S Front St,3.5,Public Services & Government, Landmarks & Historical Buildings, Local Flavor,Unknown price. The Big Bus Company,600 Market St,3.5,Event Planning & Services, Tours, Transportation, Hotels & Travel, Wedding Planning, Bus Tours,Unknown price. University Family Fun Center,4006 Spruce St,4.0,Active Life, Local Flavor, Arcades, Arts & Entertainment, Kids Activities,Unknown price. The Wanamaker Eagle,1300 Market St,5.0,Public Services & Government, Landmarks & Historical Buildings,Unknown price. Louis I. Kahn Memorial Park,11th & Pine St,3.5,Parks, Active Life,Unknown price. Reading Terminal Market,51 N 12th St,4.5,Candy Stores, Shopping, Department Stores, Fast Food, Beer, Wine & Spirits, Fruits & Veggies, Chinese, Food, Ice Cream & Frozen Yogurt, Desserts, Seafood, Health Markets, Bagels, Cheese Shops, Shopping Centers, Chocolatiers & Shops, Meat Shops, Public Markets, Food Court, Wineries, Local Flavor, Ethnic Food, Restaurants, Specialty Food, Arts & Entertainment, Juice Bars & Smoothies, Seafood Markets, Farmers Market, Coffee & Tea, Bakeries, Food Stands, Dinner Theater, Sporting Goods, Grocery, Fashion,$$. The Philadelphia Shakespeare Theatre,2111 Sansom St,4.5,Venues & Event Spaces, Event Planning & Services, Local Flavor, Arts & Entertainment, Cinema, Performing Arts,Unknown price. Jules Goldman Books and Antiques,29 N 2nd St,4.0,Shopping, Antiques, Books, Mags, Music & Video, Local Flavor, Bookstores,$$. Elfreth's Alley,126 Elfreths Aly,4.5,Landmarks & Historical Buildings, Tours, Public Services & Government, Hotels & Travel,Unknown price. Strawberry Green Driving Range,1500 N 33rd St,3.0,Local Flavor, Active Life, Golf,Unknown price. Philadelphia Weekly Taste of Philly,100 East Penn Square,2.5,Arts & Entertainment, Local Flavor, Food, Festivals,$$. Marian Anderson Recreation Center,740 S 17th St,4.0,Recreation Centers, Active Life, Local Flavor,Unknown price. Eastern State Penitentiary Historic Site,2027 Fairmount Ave,4.5,Landmarks & Historical Buildings, Public Services & Government,Unknown price. Christ Church Burial Ground,20 N American St,4.0,Religious Organizations, Parks, Churches, Active Life,Unknown price. Meredith Kleiber Photography,Unknown address,5.0,Local Flavor, Session Photography, Photographers, Event Photography, Event Planning & Services,Unknown price. Philly Souvenir,64 N 3rd St Philadelphia,4.5,Specialty Food, Souvenir Shops, Food, Gift Shops, Shopping, Candy Stores, Flowers & Gifts,$$. Avril 50,3406 Sansom St,4.5,Food, Cards & Stationery, Coffee & Tea, Flowers & Gifts, Mass Media, Local Flavor, Print Media, Newspapers & Magazines, Candy Stores, Event Planning & Services, Specialty Food, Books, Mags, Music & Video, Tobacco Shops, Arts & Crafts, Restaurants, Shopping,$$. Cherry Street Pier,121 N Columbus Blvd,4.0,Public Services & Government, Public Markets, Event Planning & Services, Landmarks & Historical Buildings, Venues & Event Spaces, Local Flavor, Shopping,$$. Wissahickon Valley Trail,Valley Green Rd At Wissahickon,4.5,Hiking, Parks, Active Life,Unknown price. Spirit of Philadelphia,401 S Columbus Blvd,3.0,Event Planning & Services, American (New), Venues & Event Spaces, Active Life, Boating, Boat Tours, American (Traditional), Restaurants, Tours, Hotels & Travel, Buffets, Boat Charters,$$$. The M\\u00fctter Museum,19 S 22nd St,4.0,Arts & Entertainment, Museums, Local Flavor,Unknown price. Bui's,38th St & Spruce St,4.5,Restaurants, Vietnamese, Sandwiches, Local Flavor, Food Stands,$. Old City District,231 Market St,4.0,Shopping, Landmarks & Historical Buildings, Restaurants, Local Flavor, Public Services & Government,Unknown price. Franklin Square Mini Golf,200 N 6th St,4.0,Kids Activities, Golf, Parks, Active Life, Mini Golf,Unknown price. Juniata Golf Club,1391 E Cayuga St,2.5,Active Life, Golf, Venues & Event Spaces, Local Flavor, Event Planning & Services,Unknown price. Pennypack Park,8635 Pine Rd,4.0,Parks, Active Life,Unknown price. James G. Kaskey Memorial Park,Unknown address,5.0,Botanical Gardens, Arts & Entertainment, Parks, Active Life,Unknown price. Comcast,One Comcast Ctr,2.0,Internet Service Providers, Professional Services, Home Services, Landmarks & Historical Buildings, Public Services & Government,Unknown price. Philly Pretzel Factory,1532 Sansom St,4.0,Food, Pretzels, Hot Dogs, Bakeries, Restaurants, Local Flavor,$. Schuylkill River Park,300 S 25th St,4.5,Parks, Amateur Sports Teams, Tennis, Active Life, Playgrounds,Unknown price. Ebenezer Maxwell Mansion,200 W Tulpehocken St,3.5,Landmarks & Historical Buildings, Public Services & Government, Arts & Entertainment, Museums,Unknown price. Neon Museum of Philadelphia,1800 N American St, Unit E,4.5,Museums, Arts & Entertainment, Art Galleries, Venues & Event Spaces, Event Planning & Services, Shopping,Unknown price. Penn Museum,3260 South St,4.5,Colleges & Universities, Education, Museums, Venues & Event Spaces, Arts & Entertainment, Event Planning & Services,Unknown price. National Liberty Museum,321 Chestnut St,4.0,Museums, Arts & Entertainment,Unknown price. John's Water Ice,701 Christian St,4.5,Local Flavor, Ice Cream & Frozen Yogurt, Food,$. Declaration House,599 S 7th St,2.5,Parking, Public Services & Government, Landmarks & Historical Buildings, Local Flavor, Automotive,Unknown price. Indy Hall,399 Market St, Ste 360,4.5,Local Flavor, Event Planning & Services, Shared Office Spaces, Community Centers, Public Services & Government, Venues & Event Spaces, Social Clubs, Home Services, Real Estate, Arts & Entertainment,Unknown price. Dickinson Square Park,1600 E Moyamensing Ave,4.0,Active Life, Playgrounds, Parks,Unknown price. Philadelphia Brewing Company,2440 Frankford Ave,4.5,Breweries, Food, Local Flavor,$. A Love Letter for You,Market St,5.0,Art Galleries, Shopping, Arts & Entertainment, Local Flavor, Public Art,Unknown price. Rocky Steps,2600 Benjamin Franklin Pkw,4.5,Local Flavor,Unknown price. Simeone Foundation Automotive Museum,6825-31 Norwitch Dr,5.0,Museums, Arts & Entertainment,Unknown price. John F. Collins Park,1707 Chestnut St,4.5,Parks, Active Life,Unknown price. \"\n",
      "    },\n",
      "    {\n",
      "        \"Description\": \"Restaurants in Philadelphia\",\n",
      "        \"Content\": \"'name', 'address','stars', 'good_for_meal', 'categories', 'price'. Chengdu Famous Food,3635 Lancaster Ave,4.0,lunch, dinner,Noodles, Chinese, Restaurants, Szechuan, Seafood,$$. Positano Coast by Aldo Lamberti,212 Walnut St, Fl 2,3.5,dinner,Breakfast & Brunch, Lounges, Seafood, Bars, Nightlife, Restaurants, Italian, Tapas Bars,$$. Max Brenner - Philadelphia,1500 Walnut St,3.5,dessert,American (Traditional), Restaurants, Desserts, Food, Chocolatiers & Shops, American (New), Specialty Food, Breakfast & Brunch,$$. The Cheesecake Factory,1430 Walnut St,3.0,dessert, lunch, dinner, brunch,Restaurants, Salad, American (Traditional), American (New), Seafood, Food, Desserts,$$. Foghorn,4213 Ridge Ave,4.0,lunch, dinner,Restaurants, Chicken Shop, Southern,$$. The Couch Tomato Cafe,102 Rector St,4.0,lunch, dinner,Italian, Restaurants, Sandwiches, Food Delivery Services, Salad, Food, Pizza, Gluten-Free,$$. Terakawa Ramen,125 S 40th St,4.0,dinner,Restaurants, Japanese, Ramen,$$. Bredenbeck's Bakery & Ice Cream Parlor,8126 Germantown Ave,4.0,Unknown,Food, Restaurants, Bakeries, Custom Cakes, Ice Cream & Frozen Yogurt, Desserts,$$. Miles Table,1620 South St,4.5,lunch, brunch, breakfast,Restaurants, Coffee & Tea, Food, Breakfast & Brunch, Event Planning & Services, American (Traditional), Caterers,$$. Joe's Steaks + Soda Shop,1 W Girard Ave,4.0,latenight, lunch, dinner,Restaurants, Ice Cream & Frozen Yogurt, Cheesesteaks, Food, Sandwiches, American (Traditional),$$. Butcher Bar,2034 Chestnut St,4.0,dinner,Steakhouses, Comfort Food, Butcher, Bars, Specialty Food, Food, Nightlife, Whiskey Bars, Restaurants, Gastropubs,$$. Bleu Sushi,262 S 10th St,4.5,lunch, dinner,Sushi Bars, Japanese, Restaurants, Asian Fusion, Tapas/Small Plates,$$. Ed's Buffalo Wings & Pizza,3513 Lancaster Ave,3.0,latenight, lunch, dinner,Event Planning & Services, Restaurants, Sandwiches, Pizza, Middle Eastern, Caterers, Seafood, Vegetarian, Italian, Chicken Wings,$. Joe Santucci's Square Pizza Bar & Grill,4050 Woodhaven Rd,3.5,lunch, dinner,Food, Bars, Grocery, Pizza, Italian, Restaurants, Sandwiches, Nightlife, Salad, Seafood,$$. The Victoria Freehouse,10 S Front St,4.0,latenight, dinner,Bars, Nightlife, British, Pubs, Breakfast & Brunch, Restaurants,$$. Alice Pizza,235 S 15th St,4.5,dessert, lunch, dinner,Pizza, Restaurants, Nightlife, Italian, Bars, Gelato, Food, Wine Bars,$$. Dutch Eating Place,1136 Arch St,4.5,lunch, brunch, breakfast,Sandwiches, Restaurants, Juice Bars & Smoothies, Food, Breakfast & Brunch,$$. Ambrosia Ristorante BYOB,231 S 24th St,4.5,dessert, dinner,Restaurants, Italian,. L'anima,1001 S 17th St,4.0,dinner,Italian, Seafood, Mediterranean, Restaurants,$$. Lucky 13 Pub,1820 S 13th St,4.0,latenight, dinner,Pubs, Bars, American (New), Restaurants, Nightlife,$$. Cake,8501 Germantown Ave,4.0,brunch,Bakeries, Food, American (New), Restaurants, Cupcakes,$$. Bellini,220 S 16th St,3.0,dinner,Wine Bars, Venues & Event Spaces, Event Planning & Services, Restaurants, Cocktail Bars, Italian, Bars, Nightlife,$$. Joe's Steaks + Soda Shop,6030 Torresdale Ave,4.5,lunch, dinner,Sandwiches, Restaurants, Cheesesteaks,$. Pizzeria Beddia,1313 North Lee St,4.0,dinner,Italian, Specialty Food, Pizza, Food, Restaurants, Nightlife, Bars, Juice Bars & Smoothies,$$. Yakitori Boy,211 N 11th St,3.5,latenight, dinner,Japanese, Sushi Bars, Karaoke, Nightlife, Restaurants,$$. Function Coffee Labs,1001 S 10th St,4.5,dessert, breakfast,Bakeries, Restaurants, Breakfast & Brunch, Desserts, Food, Coffee Roasteries, Coffee & Tea,$. Vernick Fish,1876 Arch St,4.5,dinner,Food, Tapas/Small Plates, Desserts, Restaurants, Live/Raw Food, Seafood,$$$. Bodhi Coffee,410 S 2nd St,4.0,breakfast,Sandwiches, Breakfast & Brunch, Food, Coffee & Tea, Restaurants,$. El Jarocho,1138 S 13th St,4.0,lunch, dinner,Restaurants, Mexican,$. Marrakesh,517 S Leithgow St,4.5,dinner,Restaurants, Mediterranean, Moroccan,$$$. Punch Line Philly,33 E Laurel St,3.5,latenight, dinner,American (New), Nightlife, Restaurants, Arts & Entertainment, Comedy Clubs, Performing Arts, Bars,$$. Flying Monkey Bakery,12th St & Arch St,3.5,Unknown,Food, Restaurants, Desserts, Local Flavor,$. Rib Rack,2100 Tyson Ave,4.0,dinner,Salad, Restaurants, Barbeque, Burgers, Chicken Wings,$$. National Mechanics,22 S 3rd St,4.0,dinner,Pubs, Food, Breakfast & Brunch, Dance Clubs, Bars, American (New), American (Traditional), Beer, Wine & Spirits, Restaurants, Nightlife,$$. The Happy Rooster,118 S 16th St,3.5,latenight, dinner,Bars, Nightlife, American (New), Pubs, Restaurants,$$. Pinefish,1138 Pine St,3.5,dinner,Breakfast & Brunch, Restaurants, Cocktail Bars, Seafood, Salad, Bars, Nightlife,$$. Vedge,1221 Locust St,4.5,dinner,Restaurants, Vegetarian, Beer, Wine & Spirits, Vegan, Food,$$$. Nick's Old Original Roast Beef,2149 S 20th St,4.5,lunch, dinner,Bars, Sandwiches, Dive Bars, Nightlife, Restaurants,$. Jansen,7402 Germantown Ave,4.5,dinner,American (New), Restaurants,$$$. The Bakeshop on 20th,269 S 20th St,4.5,dessert, lunch, brunch, breakfast,Coffee & Tea, Bakeries, Food, Soup, Breakfast & Brunch, Restaurants,$. Bok Bar,800 Mifflin St,4.0,latenight,Wine Bars, Bars, Beer Bar, Filipino, Vietnamese, Mexican, Nightlife, Mediterranean, Restaurants, Tacos, Lounges, Kebab, Falafel,$$. Four Seasons Diner,2811 Cottman Ave,3.5,dessert, latenight, lunch, dinner, brunch, breakfast,Diners, Restaurants,$$. The Bagel Place,404 Queen St,4.0,,Bagels, Food, Restaurants, Event Planning & Services, Caterers, Sandwiches, Coffee & Tea,$. Pod,3636 Sansom St,3.5,dinner,Restaurants, Lounges, Asian Fusion, Nightlife, Sushi Bars, Bars,$$. Booker's Restaurant and Bar,5021 Baltimore Ave,3.5,dessert, lunch, dinner, brunch,Bars, Event Planning & Services, Nightlife, Salad, American (Traditional), Tapas/Small Plates, Venues & Event Spaces, Breakfast & Brunch, Restaurants, American (New),$$. Effie's Restaurant,1127 Pine St,3.5,dinner,Greek, Mediterranean, Restaurants,$$. Pat's King of Steaks,1237 E Passyunk Ave,3.0,latenight, lunch, dinner,Italian, American (Traditional), Sandwiches, Fast Food, Restaurants, Local Flavor, Cheesesteaks,$$. Seorabol Korean Restaurant,5734 Old 2nd St,4.0,lunch, dinner,Korean, Restaurants, Japanese,$$. Down Home Diner,51 N 12th St,3.0,lunch, breakfast,Restaurants, American (New), Breakfast & Brunch, Diners,$$. Yiro Yiro,6024 Ridge Ave,4.5,dessert, lunch, dinner,Greek, Food, Mediterranean, Falafel, Restaurants, Salad, Caterers, Event Planning & Services,$$. \"\n",
      "    }\n",
      "]\n"
     ]
    }
   ],
   "source": [
    "# Test the function\n",
    "prompt = \"Give me a travel plan in Philadelphia for 2 days, given the information of the following business\" + text\n",
    "generated_text = generate_text(prompt)\n",
    "print(generated_text)"
   ]
  },
  {
   "cell_type": "code",
   "execution_count": 16,
   "metadata": {},
   "outputs": [],
   "source": [
    "with open(\"test_output.txt\", \"w\") as f:\n",
    "    f.write(generated_text)"
   ]
  },
  {
   "cell_type": "code",
   "execution_count": null,
   "metadata": {},
   "outputs": [],
   "source": []
  }
 ],
 "metadata": {
  "kernelspec": {
   "display_name": "torchgpu",
   "language": "python",
   "name": "python3"
  },
  "language_info": {
   "codemirror_mode": {
    "name": "ipython",
    "version": 3
   },
   "file_extension": ".py",
   "mimetype": "text/x-python",
   "name": "python",
   "nbconvert_exporter": "python",
   "pygments_lexer": "ipython3",
   "version": "3.11.0"
  }
 },
 "nbformat": 4,
 "nbformat_minor": 2
}
