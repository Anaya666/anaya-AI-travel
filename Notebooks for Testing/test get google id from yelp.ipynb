{
 "cells": [
  {
   "cell_type": "code",
   "execution_count": 1,
   "metadata": {},
   "outputs": [],
   "source": [
    "import numpy as np\n",
    "import pandas as pd\n",
    "import json\n",
    "import matplotlib.pyplot as plt\n",
    "from pprint import pprint\n",
    "import googlemaps\n",
    "import json\n",
    "import os\n",
    "import requests"
   ]
  },
  {
   "cell_type": "code",
   "execution_count": 2,
   "metadata": {},
   "outputs": [],
   "source": [
    "API_KEY= os.getenv('GOOGLE_MAP_API_KEY')\n",
    "gmap = googlemaps.Client(API_KEY)"
   ]
  },
  {
   "cell_type": "code",
   "execution_count": null,
   "metadata": {},
   "outputs": [],
   "source": [
    "hotels = []\n",
    "\n",
    "# Open the file and read it line by line\n",
    "with open('Datasets/Hotels.jsonl', 'r') as file:\n",
    "    for line in file:\n",
    "        # Parse each line as a JSON object and append to the list\n",
    "        json_obj = json.loads(line.strip())  # strip() removes any leading/trailing whitespace\n",
    "        hotels.append(json_obj)"
   ]
  },
  {
   "cell_type": "code",
   "execution_count": 4,
   "metadata": {},
   "outputs": [
    {
     "name": "stdout",
     "output_type": "stream",
     "text": [
      "{'address': '1200 Market St',\n",
      " 'attributes': {'Alcohol': \"u'full_bar'\",\n",
      "                'BusinessAcceptsCreditCards': 'True',\n",
      "                'BusinessParking': \"{'garage': False, 'street': False, \"\n",
      "                                   \"'validated': False, 'lot': False, 'valet': \"\n",
      "                                   'True}',\n",
      "                'Caters': 'True',\n",
      "                'DogsAllowed': 'True',\n",
      "                'GoodForKids': 'True',\n",
      "                'HasTV': 'True',\n",
      "                'NoiseLevel': \"u'average'\",\n",
      "                'OutdoorSeating': 'False',\n",
      "                'RestaurantsAttire': \"u'casual'\",\n",
      "                'RestaurantsDelivery': 'False',\n",
      "                'RestaurantsPriceRange2': '3',\n",
      "                'RestaurantsReservations': 'True',\n",
      "                'WiFi': \"u'paid'\"},\n",
      " 'business_id': 'D5V0Fawd6ODVgqCY8xngsw',\n",
      " 'categories': 'Event Planning & Services, Hotels & Travel, Restaurants, '\n",
      "               'Hotels, Seafood',\n",
      " 'city': 'Philadelphia',\n",
      " 'hours': None,\n",
      " 'is_open': 1,\n",
      " 'latitude': 39.9517461,\n",
      " 'longitude': -75.1602286,\n",
      " 'name': 'Loews Philadelphia Hotel',\n",
      " 'postal_code': '19107',\n",
      " 'review_count': 505,\n",
      " 'stars': 3.5,\n",
      " 'state': 'PA'}\n"
     ]
    }
   ],
   "source": [
    "pprint(hotels[10])"
   ]
  },
  {
   "cell_type": "code",
   "execution_count": 92,
   "metadata": {},
   "outputs": [
    {
     "name": "stdout",
     "output_type": "stream",
     "text": [
      "Best Western Center City, 501 N 22nd St, Philadelphia\n",
      "{'candidates': [{'formatted_address': '501 N 22nd St, Philadelphia, PA 19130, United States', 'name': 'Best Western Center City Hotel', 'place_id': 'ChIJXcugoMvHxokRTfET8k8ACXo'}], 'status': 'OK'}\n"
     ]
    }
   ],
   "source": [
    "#a working example\n",
    "name = 'Best Western Center City' #name + address + city\n",
    "address = '501 N 22nd St'\n",
    "city = 'Philadelphia'\n",
    "\n",
    "query = f'{name}, {address}, {city}'\n",
    "print(query)\n",
    "\n",
    "\n",
    "url = f'https://maps.googleapis.com/maps/api/place/findplacefromtext/json?fields=formatted_address%2Cname%2Cplace_id&input={query}&inputtype=textquery&key={API_KEY}'\n",
    "\n",
    "response = requests.get(url)\n",
    "\n",
    "if response.status_code == 200:\n",
    "    data = response.json()\n",
    "    print(data)\n",
    "else:\n",
    "    print(\"Error:\", response.status_code)"
   ]
  },
  {
   "cell_type": "code",
   "execution_count": 98,
   "metadata": {},
   "outputs": [
    {
     "name": "stdout",
     "output_type": "stream",
     "text": [
      "{'candidates': [{'formatted_address': '1208 Walnut St, Philadelphia, PA 19107, United States', 'name': 'Quality Inn - Center City', 'place_id': 'ChIJn3S9ub3HxokR5697EmTqp5U'}, {'formatted_address': '1208 Walnut St, Philadelphia, PA 19107, United States', 'name': 'Rodeway Inn Center City', 'place_id': 'ChIJPRoD-CXGxokR3XOibY2ErZc'}], 'status': 'OK'}\n"
     ]
    }
   ],
   "source": [
    "#try on a business that is closed but shown as still open on yelp (yelp dataset is old!) already\n",
    "query = 'Rodeway Inn Center City, 1208 Walnut St, Philadelphia' #name + address + city\n",
    "\n",
    "url = f'https://maps.googleapis.com/maps/api/place/findplacefromtext/json?fields=name%2Cformatted_address%2Cplace_id&input={query}&inputtype=textquery&key={API_KEY}'\n",
    "\n",
    "response = requests.get(url)\n",
    "\n",
    "if response.status_code == 200:\n",
    "    data = response.json()\n",
    "    print(data)\n",
    "else:\n",
    "    print(\"Error:\", response.status_code)\n",
    "\n",
    "#it will return us the current business and the one before. We can just take the last one. "
   ]
  },
  {
   "cell_type": "code",
   "execution_count": 3,
   "metadata": {},
   "outputs": [
    {
     "name": "stdout",
     "output_type": "stream",
     "text": [
      "{'candidates': [{'formatted_address': '2033 Penrose Ave, Philadelphia, PA 19145, United States', 'name': 'Holiday Inn Philadelphia Arpt-Stadium Area, an IHG Hotel', 'place_id': 'ChIJ8QkIp9zFxokRq5byqpgOLeg'}, {'formatted_address': '2033 Penrose Ave, Philadelphia, PA 19145, United States', 'name': 'Radisson Hotel Philadelphia, PA', 'place_id': 'ChIJtaufYTHFxokR7RKXTt1Ysi4'}], 'status': 'OK'}\n"
     ]
    }
   ],
   "source": [
    "\n",
    "#try on a business that is closed already on yelp dataset\n",
    "query = 'Skyview Plaza Hotel, 2033 Penrose Ave, Philadelphia' #name + address + city\n",
    "\n",
    "url = f'https://maps.googleapis.com/maps/api/place/findplacefromtext/json?fields=name%2Cformatted_address%2Cplace_id&input={query}&inputtype=textquery&key={API_KEY}'\n",
    "\n",
    "response = requests.get(url)\n",
    "\n",
    "if response.status_code == 200:\n",
    "    data = response.json()\n",
    "    print(data)\n",
    "else:\n",
    "    print(\"Error:\", response.status_code)\n",
    "\n",
    "#it will return us random stuff, so we need to get rid of all is_open = 0 businesses"
   ]
  },
  {
   "cell_type": "code",
   "execution_count": null,
   "metadata": {},
   "outputs": [],
   "source": []
  },
  {
   "cell_type": "code",
   "execution_count": 5,
   "metadata": {},
   "outputs": [
    {
     "data": {
      "text/plain": [
       "{'html_attributions': [],\n",
       " 'result': {'address_components': [{'long_name': '1208',\n",
       "    'short_name': '1208',\n",
       "    'types': ['street_number']},\n",
       "   {'long_name': 'Walnut Street',\n",
       "    'short_name': 'Walnut St',\n",
       "    'types': ['route']},\n",
       "   {'long_name': 'Washington Square West',\n",
       "    'short_name': 'Washington Square West',\n",
       "    'types': ['neighborhood', 'political']},\n",
       "   {'long_name': 'Philadelphia',\n",
       "    'short_name': 'Philadelphia',\n",
       "    'types': ['locality', 'political']},\n",
       "   {'long_name': 'Philadelphia County',\n",
       "    'short_name': 'Philadelphia County',\n",
       "    'types': ['administrative_area_level_2', 'political']},\n",
       "   {'long_name': 'Pennsylvania',\n",
       "    'short_name': 'PA',\n",
       "    'types': ['administrative_area_level_1', 'political']},\n",
       "   {'long_name': 'United States',\n",
       "    'short_name': 'US',\n",
       "    'types': ['country', 'political']},\n",
       "   {'long_name': '19107', 'short_name': '19107', 'types': ['postal_code']}],\n",
       "  'adr_address': '<span class=\"street-address\">1208 Walnut St</span>, <span class=\"locality\">Philadelphia</span>, <span class=\"region\">PA</span> <span class=\"postal-code\">19107</span>, <span class=\"country-name\">USA</span>',\n",
       "  'business_status': 'CLOSED_PERMANENTLY',\n",
       "  'editorial_summary': {'language': 'en',\n",
       "   'overview': 'Understated budget lodging with a fitness room & a business center, plus free Wi-Fi.'},\n",
       "  'formatted_address': '1208 Walnut St, Philadelphia, PA 19107, USA',\n",
       "  'geometry': {'location': {'lat': 39.948766, 'lng': -75.1610692},\n",
       "   'viewport': {'northeast': {'lat': 39.9502068802915,\n",
       "     'lng': -75.1596887697085},\n",
       "    'southwest': {'lat': 39.9475089197085, 'lng': -75.16238673029152}}},\n",
       "  'icon': 'https://maps.gstatic.com/mapfiles/place_api/icons/v1/png_71/lodging-71.png',\n",
       "  'icon_background_color': '#909CE1',\n",
       "  'icon_mask_base_uri': 'https://maps.gstatic.com/mapfiles/place_api/icons/v2/hotel_pinlet',\n",
       "  'name': 'Rodeway Inn Center City',\n",
       "  'permanently_closed': True,\n",
       "  'photos': [{'height': 3120,\n",
       "    'html_attributions': ['<a href=\"https://maps.google.com/maps/contrib/105243812891822292721\">Erik Johansen</a>'],\n",
       "    'photo_reference': 'AdCG2DNTm5Mr6-mVimgcdZr7nLW88-sxfA-STA49vrQ1UakNjhwBZRJQCfpNNx_toV2afC_icMOKuREAJVb16DEm9Bac5pKw4McvvOisIVrbDxKAyeU7cex1NIl4qX0a5rB_VfZv-2EZ2dOSPlBCW2Z9g5Bt2A3uMXaVEx2BL0D-ohbTZT67',\n",
       "    'width': 4160},\n",
       "   {'height': 1836,\n",
       "    'html_attributions': ['<a href=\"https://maps.google.com/maps/contrib/105634868648602780727\">Sal Hanna</a>'],\n",
       "    'photo_reference': 'AdCG2DPXnvdXvJIN-Ej4jmawJ2ipQk5H4Kcllp69rpXV8fsYeZQH9lh96LqfmwGkPLFxrcVgCft_GXRWezq4oGCw2-BkSl4PcHTaOGDt-5k7Tcg9u0xH8fqwa2C0LUNznJrMs9oLcr7WZHtaQs1y5NyoQw6laf13mmcBmcQJmKBoF8tBF7zS',\n",
       "    'width': 3264},\n",
       "   {'height': 4032,\n",
       "    'html_attributions': ['<a href=\"https://maps.google.com/maps/contrib/110065854295757161776\">Rashmi Shantharam</a>'],\n",
       "    'photo_reference': 'AdCG2DOSNyeMSb9FLQG-agKxyYCZOkfZM0vVPHZfYroBV5NaCwv-Ysj6XknS6D7YQ5j_1Wah5ExmlEkyPUXmJAHcoHapM4ZIkQf8BEnn0Amxm3jTqKvXRwTh8Sopuy1Vu3Nsndb0CQ-SURHio2zgKV6c62sDjLgY2_j0x4Lp-UBzuzS_WamO',\n",
       "    'width': 2268},\n",
       "   {'height': 2048,\n",
       "    'html_attributions': ['<a href=\"https://maps.google.com/maps/contrib/103622658818999338577\">Wilder Eagle Sky</a>'],\n",
       "    'photo_reference': 'AdCG2DPCO9KCYUTwtgyXntnptk6JfzP9kybJpERxo6btT2gXKI9lxZ1T3QSBJGRri30JDcSh-kihnPXrx62WsFsE4qX9egUUygMqD9SMnYBfbk0gbA39uz7-aO9jGIdF-RxHMUI0jKFepAT2pC8922dxZP8n8z5uFdOn9p80v2WWdAV9x5hG',\n",
       "    'width': 1536},\n",
       "   {'height': 1836,\n",
       "    'html_attributions': ['<a href=\"https://maps.google.com/maps/contrib/110673911109076664956\">Rev. Greg Ellis</a>'],\n",
       "    'photo_reference': 'AdCG2DOMb76HP8_5Y7XratAbIPryZdjTQfRUr3CswdYUZu_ehmu_394kNTNOLgZGKrQlMgADfNju3AvUBJSC9RsLsXzhRDnUtZqgy5aLZj_B73B0n1yNwrRAV7Qt35LQL_2XvRidZWXj_KWo3JuKlH1tfSARDExS_1CbBJdNccdP9ARP7h5Z',\n",
       "    'width': 3264},\n",
       "   {'height': 3024,\n",
       "    'html_attributions': ['<a href=\"https://maps.google.com/maps/contrib/115344254970398623556\">koo</a>'],\n",
       "    'photo_reference': 'AdCG2DP128J6rMvFIrHYrivSWbOtUQZ42XnaUVxuaPq07AERJSOtJ0LuGGHpwUaqBIiHOnOuWRQwT5APsX33aniX6gGG0HzFghUwm9HE0NsC7-NUPi_YwDDNLufvVUeaS40u8mXAUa2am-kWk9coNFKGcDxEAL48UF9kEigzrgWelRy0QrPU',\n",
       "    'width': 4032},\n",
       "   {'height': 3036,\n",
       "    'html_attributions': ['<a href=\"https://maps.google.com/maps/contrib/111729030788532373753\">Kevin Mullins</a>'],\n",
       "    'photo_reference': 'AdCG2DOoQP-pDn335WKhJ0Z5zzkuID4aYP9o4vHnCM6eBbC8lPfXWyIVuc3DxSajuhb7UAkrL9Uw6TSyRkRHqfKcUJvqEof2opLfGNdX7fabgbSCOV84K8VyHOo37VgJYialxTXtfaR1FjxEZNgNAS24ieTrHPEJ-VoQLaAxbgN6y4Iu0dBN',\n",
       "    'width': 4048},\n",
       "   {'height': 4032,\n",
       "    'html_attributions': ['<a href=\"https://maps.google.com/maps/contrib/112337178497108434096\">Gregorio Feldman Sánchez</a>'],\n",
       "    'photo_reference': 'AdCG2DOtQOxPuUJrq55MnJc4uliG70mlBMIuCqKeZhW1x0X9Qlqy_3OBUc0EN61V-ekvQjhUTfAmn4Tu9hWm-mZIvDX3IHoJ844YE_2wRXOeQifJoqtLnQ34Nxdc6e3n5ELNqSV44RD2nQxkd_lMRsniKO2aPezpyd_iyk93wxIBT2Y9nAI2',\n",
       "    'width': 3024},\n",
       "   {'height': 2988,\n",
       "    'html_attributions': ['<a href=\"https://maps.google.com/maps/contrib/100093575728698923019\">Michael Mcdonel</a>'],\n",
       "    'photo_reference': 'AdCG2DNYuDr66G3uFSGJm_6ppbGPLwsQ0nbpzq6FEoOMyzh0qHRoVs1fqSQm_XJSy45HjHPMY3VXqo2rDQvBJOay3LSHTbxibNQvdQLUS5xGEU7qlSb3b2F7Olc_zKUbrY7WJ9Kb1jnvj1LIx7QRqjvVnhadpOamzbf7QqaDy0ugqbxi6TeJ',\n",
       "    'width': 5312},\n",
       "   {'height': 2970,\n",
       "    'html_attributions': ['<a href=\"https://maps.google.com/maps/contrib/107889779549179281395\">Gothic Serpant-99</a>'],\n",
       "    'photo_reference': 'AdCG2DMCSoz8uwW745XB7VBgCl96giZIDNDonMDTKxTTFYbyPgoznflXvnNcR_E_omytT8RWHM4CY0Kop9zc1OF3w7b9LZQO1KDiuEmHenZ6kNap1IbGHgeEFULKLSYjqHTcAQaFDp4tE1Or27uj_AYM_LWtiNaxi4ov0ATHzxN20qkVEzu-',\n",
       "    'width': 2301}],\n",
       "  'place_id': 'ChIJPRoD-CXGxokR3XOibY2ErZc',\n",
       "  'plus_code': {'compound_code': 'WRXQ+GH Philadelphia, PA, USA',\n",
       "   'global_code': '87F6WRXQ+GH'},\n",
       "  'rating': 3.3,\n",
       "  'reference': 'ChIJPRoD-CXGxokR3XOibY2ErZc',\n",
       "  'reviews': [{'author_name': 'Jazzmine Dise',\n",
       "    'author_url': 'https://www.google.com/maps/contrib/104584268382223052190/reviews',\n",
       "    'language': 'en',\n",
       "    'original_language': 'en',\n",
       "    'profile_photo_url': 'https://lh3.googleusercontent.com/a-/ALV-UjWqZrk3jooVd0GzkJaByZMCFULKiM97JQgFtVnN6YbSgKYiTbVQ=s128-c0x00000000-cc-rp-mo',\n",
       "    'rating': 5,\n",
       "    'relative_time_description': '7 years ago',\n",
       "    'text': \"Wonderful staff (very friendly, welcoming and helpful), great location, short walking distance from a lot of fun places, parking prices are better than the other places I looked into and the price for staying in the hotel is great! The room was wonderful! Clean and comfortable. I loved the shower and bed and the fact that they had a coffee machine in the room and a mini fridge so I could put my leftovers in it. My only complaint is that the bathroom was freezing the entire time we were there. But overall I'm so happy with my experience.\",\n",
       "    'time': 1488859205,\n",
       "    'translated': False},\n",
       "   {'author_name': 'Lourdes MacDonald',\n",
       "    'author_url': 'https://www.google.com/maps/contrib/109777094326553161474/reviews',\n",
       "    'language': 'en',\n",
       "    'original_language': 'en',\n",
       "    'profile_photo_url': 'https://lh3.googleusercontent.com/a-/ALV-UjVP1QGdkWMq-aATauAaNKD62nIaSBroYklnveuV_LlY5FboZug=s128-c0x00000000-cc-rp-mo',\n",
       "    'rating': 5,\n",
       "    'relative_time_description': '5 years ago',\n",
       "    'text': \"I reserved two rooms, I requested rooms side by side. When we arrive the young man staff mentioned that there was a problem with one of the rooms, so he put us in the Penthouse suite, without extra charge. Both rooms were very comfortable, very nice and clean. Loved the old fashion, modern feel about this hotel.  It's right on downtown walking distance to the trains. Parking was a breezy to find they validate. The only thing that I to complain is the cold bathroom! Maybe because I'm from Miami and not use to the cold weather,  I found that the bathroom was very cold!  I feel that they should have a heater in there. I recommend this place and will stay again when I visit Philly.\",\n",
       "    'time': 1552177490,\n",
       "    'translated': False},\n",
       "   {'author_name': 'Danielle Mason',\n",
       "    'author_url': 'https://www.google.com/maps/contrib/106806314583831894353/reviews',\n",
       "    'language': 'en',\n",
       "    'original_language': 'en',\n",
       "    'profile_photo_url': 'https://lh3.googleusercontent.com/a/ACg8ocLPJCzA-UNAPfJemRLB2dRKLP3sGn-lDyYouMgmIX3p9JwJyg=s128-c0x00000000-cc-rp-mo-ba3',\n",
       "    'rating': 1,\n",
       "    'relative_time_description': '5 years ago',\n",
       "    'text': 'This was such a let down. I planned a weekend getaway in the city and choose this \"hotel\" because it looked cute and cozy. BIG MISTAKE, HUGE. The staff, while friendly are very unprofessional. The room smelled like stale whatever and bug spray. They had the heat set to a  roasting 80+ degrees. The window in the room opened up to a filthy shaft of some sort. The tile in the bathroom needs cleaned ASAP the scum and mildew turned it black...ugh! ...so these were the mildly annoying issues. What truly disgusted me, made me just never ever want to return...was housekeeping... waking us up on a Saturday morning at 9 am to clean the room I just checked into the night before. 9 am on a Saturday...When we told them we were still asleep they proceeded to knock hourly until we  went out! What are you people doing? This was a deplorable \"hotel\" please never stay here!',\n",
       "    'time': 1541208979,\n",
       "    'translated': False},\n",
       "   {'author_name': 'J d',\n",
       "    'author_url': 'https://www.google.com/maps/contrib/108851220145512511130/reviews',\n",
       "    'language': 'en',\n",
       "    'original_language': 'en',\n",
       "    'profile_photo_url': 'https://lh3.googleusercontent.com/a/ACg8ocJR7VelBV239Q93nnbgQNWqDVK63u7qhU1bxDQVpHEGy-MS9g=s128-c0x00000000-cc-rp-mo-ba3',\n",
       "    'rating': 2,\n",
       "    'relative_time_description': '4 years ago',\n",
       "    'text': \"Great location, if you have an oversized vehicle parking can be a hassle. Room could definitely have been cleaner but it wasn't terrible and smelled fine. Didn't see any bugs and I always look. Day staff was very friendly, late night staff should find sonething else to do. When it comes down to it, I really enjoyed the hotel and Philly. The hotel is old and has character, just like the city. I liked the narrow stairs and halls. Kind of connects you to the past, while you wonder who has walked those halls before. I would definitely stay here again if I didn't have an oversized vehicle. I did mail two packages there and both came up missing never to be found.\",\n",
       "    'time': 1602602857,\n",
       "    'translated': False},\n",
       "   {'author_name': 'Brian Peterson',\n",
       "    'author_url': 'https://www.google.com/maps/contrib/112558898321671424316/reviews',\n",
       "    'language': 'en',\n",
       "    'original_language': 'en',\n",
       "    'profile_photo_url': 'https://lh3.googleusercontent.com/a-/ALV-UjXAZxQMwf2hKps3_7j8Hvf3a-LBzZauDtmB_AcLwxz3ijrJ36Q=s128-c0x00000000-cc-rp-mo',\n",
       "    'rating': 3,\n",
       "    'relative_time_description': '6 years ago',\n",
       "    'text': \"The hotel's location can't be beat. it is near great restaurants, night life, and the convention center. It is in a refurbished old mansion, so the proportions are odd and frankly very small. They have spent money in renovating and making it pleasant to stay in. However there are a couple of points I want to make for future guests at this hotel:\\n\\n1) The rooms are very small. My room didn't have a closet to hang clothes in (despite having a fridge and a microwave, weird). I had to drape my suits over a chair to store them. I also didn't have a phone in my room so I had to go talk to the front desk for any problems\\n\\n2) The walls are so thin as to practically not be there. I was kept awake by my next door neighbor's whispered phone conversations. He was a nice guy it seems, really loves his kids.\\n\\n3) My bathroom was across the hall and required my door key to get into. And it was very very small. I had to sit sideways on the toilet with my knees in the shower because it was so small. The bathroom situation actually didn't bother me too much because I don't mind walking across a hall in a towel. If I were a woman or more modest it might have been an issue\\n\\n4) No air control in the room. When I got to my room it was almost 90 degrees and I searched to no avail for at least a window unit. Fortunately the people at the front desk (remember I had to walk down because no phone) were very nice and when I came back from dinner the entire floor felt much cooler.\\n\\nOverall I will probably stay here again just because of the price and location. But now I know to go in with a mindset that it will be kind of like camping in a tent in the inner city Philadelphia.\",\n",
       "    'time': 1539051723,\n",
       "    'translated': False}],\n",
       "  'types': ['lodging', 'point_of_interest', 'establishment'],\n",
       "  'url': 'https://maps.google.com/?cid=10929537613662680029',\n",
       "  'user_ratings_total': 429,\n",
       "  'utc_offset': -240,\n",
       "  'vicinity': '1208 Walnut Street, Philadelphia',\n",
       "  'wheelchair_accessible_entrance': True},\n",
       " 'status': 'OK'}"
      ]
     },
     "execution_count": 5,
     "metadata": {},
     "output_type": "execute_result"
    }
   ],
   "source": [
    "#Try on business shown as open on yelp but closed on google \n",
    "place_id = 'ChIJPRoD-CXGxokR3XOibY2ErZc'\n",
    "response = gmap.place(place_id = place_id)\n",
    "\n",
    "response\n",
    "\n",
    "\n",
    "# if the id of a permantly closed business is passed into place, it won;t show the price_level, but the permantly closed attribute is true. So we can filter out them."
   ]
  },
  {
   "cell_type": "code",
   "execution_count": 6,
   "metadata": {},
   "outputs": [
    {
     "data": {
      "text/plain": [
       "{'html_attributions': [],\n",
       " 'result': {'address_components': [{'long_name': '501',\n",
       "    'short_name': '501',\n",
       "    'types': ['street_number']},\n",
       "   {'long_name': 'North 22nd Street',\n",
       "    'short_name': 'N 22nd St',\n",
       "    'types': ['route']},\n",
       "   {'long_name': 'Center City',\n",
       "    'short_name': 'Center City',\n",
       "    'types': ['neighborhood', 'political']},\n",
       "   {'long_name': 'Philadelphia',\n",
       "    'short_name': 'Philadelphia',\n",
       "    'types': ['locality', 'political']},\n",
       "   {'long_name': 'Philadelphia County',\n",
       "    'short_name': 'Philadelphia County',\n",
       "    'types': ['administrative_area_level_2', 'political']},\n",
       "   {'long_name': 'Pennsylvania',\n",
       "    'short_name': 'PA',\n",
       "    'types': ['administrative_area_level_1', 'political']},\n",
       "   {'long_name': 'United States',\n",
       "    'short_name': 'US',\n",
       "    'types': ['country', 'political']},\n",
       "   {'long_name': '19130', 'short_name': '19130', 'types': ['postal_code']},\n",
       "   {'long_name': '3507',\n",
       "    'short_name': '3507',\n",
       "    'types': ['postal_code_suffix']}],\n",
       "  'adr_address': '<span class=\"street-address\">501 N 22nd St</span>, <span class=\"locality\">Philadelphia</span>, <span class=\"region\">PA</span> <span class=\"postal-code\">19130-3507</span>, <span class=\"country-name\">USA</span>',\n",
       "  'business_status': 'CLOSED_PERMANENTLY',\n",
       "  'formatted_address': '501 N 22nd St, Philadelphia, PA 19130, USA',\n",
       "  'formatted_phone_number': '(215) 557-0259',\n",
       "  'geometry': {'location': {'lat': 39.963091, 'lng': -75.17380399999999},\n",
       "   'viewport': {'northeast': {'lat': 39.9642660302915,\n",
       "     'lng': -75.17252496970849},\n",
       "    'southwest': {'lat': 39.96156806970851, 'lng': -75.1752229302915}}},\n",
       "  'icon': 'https://maps.gstatic.com/mapfiles/place_api/icons/v1/png_71/lodging-71.png',\n",
       "  'icon_background_color': '#909CE1',\n",
       "  'icon_mask_base_uri': 'https://maps.gstatic.com/mapfiles/place_api/icons/v2/hotel_pinlet',\n",
       "  'international_phone_number': '+1 215-557-0259',\n",
       "  'name': 'Best Western Center City Hotel',\n",
       "  'permanently_closed': True,\n",
       "  'place_id': 'ChIJXcugoMvHxokRTfET8k8ACXo',\n",
       "  'plus_code': {'compound_code': 'XR7G+6F Philadelphia, PA, USA',\n",
       "   'global_code': '87F6XR7G+6F'},\n",
       "  'rating': 3.3,\n",
       "  'reference': 'ChIJXcugoMvHxokRTfET8k8ACXo',\n",
       "  'reviews': [{'author_name': 'william koulisis',\n",
       "    'author_url': 'https://www.google.com/maps/contrib/101574017222641774458/reviews',\n",
       "    'language': 'en',\n",
       "    'original_language': 'en',\n",
       "    'profile_photo_url': 'https://lh3.googleusercontent.com/a-/ALV-UjWaWqlEBJwtKqM_RJpDWHOZpC82P8__WI-NG4roKXk0GztEeDacsw=s128-c0x00000000-cc-rp-mo-ba3',\n",
       "    'rating': 4,\n",
       "    'relative_time_description': '11 years ago',\n",
       "    'text': 'Very clean and comfortable rooms. Nothing fancy but nothing glaringly horrible either.',\n",
       "    'time': 1379505803,\n",
       "    'translated': False},\n",
       "   {'author_name': 'Antonio Rojas',\n",
       "    'author_url': 'https://www.google.com/maps/contrib/110850394534718508263/reviews',\n",
       "    'language': 'en-US',\n",
       "    'original_language': 'es',\n",
       "    'profile_photo_url': 'https://lh3.googleusercontent.com/a-/ALV-UjUMLWtcl4LqEC7rVGNBOZQY5KjzJmJtH_WN50QfZTE8CIRp2Gk=s128-c0x00000000-cc-rp-mo-ba4',\n",
       "    'rating': 4,\n",
       "    'relative_time_description': '9 years ago',\n",
       "    'text': 'It is very clean',\n",
       "    'time': 1441155555,\n",
       "    'translated': True},\n",
       "   {'author_name': 'Alejandro Lopez',\n",
       "    'author_url': 'https://www.google.com/maps/contrib/112816227081947449123/reviews',\n",
       "    'profile_photo_url': 'https://lh3.googleusercontent.com/a-/ALV-UjV7K9e5PwsBlJNGUXbzF7fZWJh_fliGlmUCih-5-amoBCAxzNho=s128-c0x00000000-cc-rp-mo',\n",
       "    'rating': 5,\n",
       "    'relative_time_description': '9 years ago',\n",
       "    'text': '',\n",
       "    'time': 1441513310,\n",
       "    'translated': False},\n",
       "   {'author_name': 'Jennifer Van Dam',\n",
       "    'author_url': 'https://www.google.com/maps/contrib/111731562916716891057/reviews',\n",
       "    'profile_photo_url': 'https://lh3.googleusercontent.com/a-/ALV-UjX-kD8MTPOKQLINSHTv0yveVUckDl87zm5DgmD0mVQDyqQaVFoP=s128-c0x00000000-cc-rp-mo',\n",
       "    'rating': 1,\n",
       "    'relative_time_description': '9 years ago',\n",
       "    'text': '',\n",
       "    'time': 1416278787,\n",
       "    'translated': False},\n",
       "   {'author_name': 'Lisha Coats',\n",
       "    'author_url': 'https://www.google.com/maps/contrib/116135376129863296923/reviews',\n",
       "    'profile_photo_url': 'https://lh3.googleusercontent.com/a/ACg8ocIRHNOJSW4pGU7brYkZl0KEjef7PVXPdb5j7-F8MayhJUAz1Q=s128-c0x00000000-cc-rp-mo',\n",
       "    'rating': 4,\n",
       "    'relative_time_description': '11 years ago',\n",
       "    'text': '',\n",
       "    'time': 1379770536,\n",
       "    'translated': False}],\n",
       "  'types': ['lodging', 'point_of_interest', 'establishment'],\n",
       "  'url': 'https://maps.google.com/?cid=8793560090781413709',\n",
       "  'user_ratings_total': 6,\n",
       "  'utc_offset': -240,\n",
       "  'vicinity': '501 North 22nd Street, Philadelphia',\n",
       "  'website': 'http://www.bestwestern.com/'},\n",
       " 'status': 'OK'}"
      ]
     },
     "execution_count": 6,
     "metadata": {},
     "output_type": "execute_result"
    }
   ],
   "source": [
    "#Try on business shown as open everywhere\n",
    "place_id = 'ChIJXcugoMvHxokRTfET8k8ACXo'\n",
    "response = gmap.place(place_id = place_id)\n",
    "\n",
    "response\n",
    "\n",
    "\n",
    "# if the id of a permantly closed business is passed into place, it won;t show the price_level, but the permantly closed attribute is true. So we can filter out them."
   ]
  },
  {
   "cell_type": "code",
   "execution_count": 11,
   "metadata": {},
   "outputs": [
    {
     "name": "stdout",
     "output_type": "stream",
     "text": [
      "Error: 400\n"
     ]
    },
    {
     "data": {
      "text/plain": [
       "<Response [400]>"
      ]
     },
     "execution_count": 11,
     "metadata": {},
     "output_type": "execute_result"
    }
   ],
   "source": [
    "#use an open business and see the result from places api (new)\n",
    "place_id = 'ChIJXcugoMvHxokRTfET8k8ACXo'\n",
    "\n",
    "return_fileds = 'pricelevel'\n",
    "\n",
    "url = f'https://places.googleapis.com/v1/places/{place_id}?fields={return_fileds}&key={API_KEY}'\n",
    "\n",
    "response = requests.get(url)\n",
    "\n",
    "if response.status_code == 200:\n",
    "    data = response.json()\n",
    "    print(data)\n",
    "else:\n",
    "    print(\"Error:\", response.status_code)\n",
    "\n",
    "response\n",
    "#I tried on google sandbox and it says this particular business has no price level attributes"
   ]
  },
  {
   "cell_type": "code",
   "execution_count": 13,
   "metadata": {},
   "outputs": [
    {
     "name": "stdout",
     "output_type": "stream",
     "text": [
      "{'html_attributions': [], 'result': {'name': 'Best Western Center City Hotel', 'rating': 3.3}, 'status': 'OK'}\n"
     ]
    },
    {
     "data": {
      "text/plain": [
       "<Response [200]>"
      ]
     },
     "execution_count": 13,
     "metadata": {},
     "output_type": "execute_result"
    }
   ],
   "source": [
    "\n",
    "#use an open business and see the result from places api (old)\n",
    "place_id = 'ChIJXcugoMvHxokRTfET8k8ACXo'\n",
    "\n",
    "return_fileds = 'name,price_level,rating'\n",
    "\n",
    "url = f'https://maps.googleapis.com/maps/api/place/details/json?fields={return_fileds}&place_id={place_id}&key={API_KEY}'\n",
    "\n",
    "response = requests.get(url)\n",
    "\n",
    "if response.status_code == 200:\n",
    "    data = response.json()\n",
    "    print(data)\n",
    "else:\n",
    "    print(\"Error:\", response.status_code)\n",
    "\n",
    "response\n",
    "#the result of both new and old place api tells us that it's not the problem of the api, but this location itself has no price level attributes.\n",
    "\n"
   ]
  },
  {
   "cell_type": "code",
   "execution_count": 14,
   "metadata": {},
   "outputs": [
    {
     "name": "stdout",
     "output_type": "stream",
     "text": [
      "{'html_attributions': [], 'result': {'name': 'Shedd Aquarium', 'price_level': 3, 'rating': 4.5}, 'status': 'OK'}\n"
     ]
    },
    {
     "data": {
      "text/plain": [
       "<Response [200]>"
      ]
     },
     "execution_count": 14,
     "metadata": {},
     "output_type": "execute_result"
    }
   ],
   "source": [
    "\n",
    "#use an open business that I know has price level for sure and see the result from places api (old)\n",
    "#Shedd Aquarium\n",
    "place_id = 'ChIJ-XW3X2MrDogR3_tQ3-OdBTI'\n",
    "\n",
    "return_fileds = 'name,price_level,rating'\n",
    "\n",
    "url = f'https://maps.googleapis.com/maps/api/place/details/json?fields={return_fileds}&place_id={place_id}&key={API_KEY}'\n",
    "\n",
    "response = requests.get(url)\n",
    "\n",
    "if response.status_code == 200:\n",
    "    data = response.json()\n",
    "    print(data)\n",
    "else:\n",
    "    print(\"Error:\", response.status_code)\n",
    "\n",
    "response\n",
    "#the result of both new and old place api tells us that it's not the problem of the api, but this location itself has no price level attributes."
   ]
  },
  {
   "cell_type": "code",
   "execution_count": 15,
   "metadata": {},
   "outputs": [
    {
     "name": "stdout",
     "output_type": "stream",
     "text": [
      "The Rocky Statue, 2600 Benjamin Franklin Pkwy, Philadelphia\n",
      "{'candidates': [{'formatted_address': '2600 Benjamin Franklin Pkwy, Philadelphia, PA 19130, United States', 'name': 'Rocky Statue', 'place_id': 'ChIJd4XRlLXHxokR24097rPRpx0'}, {'formatted_address': '2600 Benjamin Franklin Pkwy, Philadelphia, PA 19130, United States', 'name': 'Philadelphia Museum of Art Steps', 'place_id': 'ChIJ33ZAsLXHxokRRidoQ-ctnM4'}], 'status': 'OK'}\n"
     ]
    }
   ],
   "source": [
    "#to see if I can live with it, I have to determine if no price level means lack of reviews or it's free.\n",
    "#in local flavor, we have a rocky statue, let's explore it\n",
    "#get business id\n",
    "name = 'The Rocky Statue' #name + address + city\n",
    "address = '2600 Benjamin Franklin Pkwy'\n",
    "city = 'Philadelphia'\n",
    "\n",
    "query = f'{name}, {address}, {city}'\n",
    "\n",
    "\n",
    "url = f'https://maps.googleapis.com/maps/api/place/findplacefromtext/json?fields=formatted_address%2Cname%2Cplace_id&input={query}&inputtype=textquery&key={API_KEY}'\n",
    "\n",
    "response = requests.get(url)\n",
    "\n",
    "if response.status_code == 200:\n",
    "    data = response.json()\n",
    "    print(data)\n",
    "else:\n",
    "    print(\"Error:\", response.status_code)\n",
    "\n",
    "#the id is: ChIJd4XRlLXHxokR24097rPRpx0"
   ]
  },
  {
   "cell_type": "code",
   "execution_count": 16,
   "metadata": {},
   "outputs": [
    {
     "name": "stdout",
     "output_type": "stream",
     "text": [
      "{'html_attributions': [], 'result': {'name': 'Rocky Statue', 'rating': 4.7}, 'status': 'OK'}\n"
     ]
    },
    {
     "data": {
      "text/plain": [
       "<Response [200]>"
      ]
     },
     "execution_count": 16,
     "metadata": {},
     "output_type": "execute_result"
    }
   ],
   "source": [
    "#rocky status, see if it has price level\n",
    "place_id = 'ChIJd4XRlLXHxokR24097rPRpx0'\n",
    "\n",
    "return_fileds = 'name,price_level,rating'\n",
    "\n",
    "url = f'https://maps.googleapis.com/maps/api/place/details/json?fields={return_fileds}&place_id={place_id}&key={API_KEY}'\n",
    "\n",
    "response = requests.get(url)\n",
    "\n",
    "if response.status_code == 200:\n",
    "    data = response.json()\n",
    "    print(data)\n",
    "else:\n",
    "    print(\"Error:\", response.status_code)\n",
    "\n",
    "response\n",
    "#no price level."
   ]
  },
  {
   "cell_type": "code",
   "execution_count": 17,
   "metadata": {},
   "outputs": [
    {
     "name": "stdout",
     "output_type": "stream",
     "text": [
      "{'name': 'places/ChIJd4XRlLXHxokR24097rPRpx0', 'id': 'ChIJd4XRlLXHxokR24097rPRpx0', 'types': ['tourist_attraction', 'point_of_interest', 'establishment'], 'formattedAddress': '2600 Benjamin Franklin Pkwy, Philadelphia, PA 19130, USA', 'addressComponents': [{'longText': '2600', 'shortText': '2600', 'types': ['street_number'], 'languageCode': 'en-US'}, {'longText': 'Benjamin Franklin Parkway', 'shortText': 'Benjamin Franklin Pkwy', 'types': ['route'], 'languageCode': 'en'}, {'longText': 'West Philadelphia', 'shortText': 'West Philadelphia', 'types': ['neighborhood', 'political'], 'languageCode': 'en'}, {'longText': 'Philadelphia', 'shortText': 'Philadelphia', 'types': ['locality', 'political'], 'languageCode': 'en'}, {'longText': 'Philadelphia County', 'shortText': 'Philadelphia County', 'types': ['administrative_area_level_2', 'political'], 'languageCode': 'en'}, {'longText': 'Pennsylvania', 'shortText': 'PA', 'types': ['administrative_area_level_1', 'political'], 'languageCode': 'en'}, {'longText': 'United States', 'shortText': 'US', 'types': ['country', 'political'], 'languageCode': 'en'}, {'longText': '19130', 'shortText': '19130', 'types': ['postal_code'], 'languageCode': 'en-US'}], 'plusCode': {'globalCode': '87F6XR8C+37', 'compoundCode': 'XR8C+37 Philadelphia, PA, USA'}, 'location': {'latitude': 39.965133099999996, 'longitude': -75.1792878}, 'viewport': {'low': {'latitude': 39.9636896697085, 'longitude': -75.1804803302915}, 'high': {'latitude': 39.9663876302915, 'longitude': -75.1777823697085}}, 'rating': 4.7, 'googleMapsUri': 'https://maps.google.com/?cid=2136907118936952283', 'websiteUri': 'http://www.associationforpublicart.org/artwork/rocky/', 'regularOpeningHours': {'openNow': True, 'periods': [{'open': {'day': 0, 'hour': 0, 'minute': 0}}], 'weekdayDescriptions': ['Monday: Open 24 hours', 'Tuesday: Open 24 hours', 'Wednesday: Open 24 hours', 'Thursday: Open 24 hours', 'Friday: Open 24 hours', 'Saturday: Open 24 hours', 'Sunday: Open 24 hours']}, 'utcOffsetMinutes': -240, 'adrFormatAddress': '<span class=\"street-address\">2600 Benjamin Franklin Pkwy</span>, <span class=\"locality\">Philadelphia</span>, <span class=\"region\">PA</span> <span class=\"postal-code\">19130</span>, <span class=\"country-name\">USA</span>', 'businessStatus': 'OPERATIONAL', 'userRatingCount': 3378, 'iconMaskBaseUri': 'https://maps.gstatic.com/mapfiles/place_api/icons/v2/generic_pinlet', 'iconBackgroundColor': '#13B5C7', 'displayName': {'text': 'Rocky Statue', 'languageCode': 'en'}, 'primaryTypeDisplayName': {'text': 'Tourist Attraction', 'languageCode': 'en-US'}, 'currentOpeningHours': {'openNow': True, 'periods': [{'open': {'day': 4, 'hour': 0, 'minute': 0, 'truncated': True, 'date': {'year': 2024, 'month': 10, 'day': 24}}, 'close': {'day': 3, 'hour': 23, 'minute': 59, 'truncated': True, 'date': {'year': 2024, 'month': 10, 'day': 30}}}], 'weekdayDescriptions': ['Monday: Open 24 hours', 'Tuesday: Open 24 hours', 'Wednesday: Open 24 hours', 'Thursday: Open 24 hours', 'Friday: Open 24 hours', 'Saturday: Open 24 hours', 'Sunday: Open 24 hours']}, 'primaryType': 'tourist_attraction', 'shortFormattedAddress': '2600 Benjamin Franklin Pkwy, Philadelphia', 'editorialSummary': {'text': 'Massive, landmark statue of fictional boxer Rocky Balboa & a well-known picture spot.', 'languageCode': 'en'}, 'reviews': [{'name': 'places/ChIJd4XRlLXHxokR24097rPRpx0/reviews/ChdDSUhNMG9nS0VJQ0FnSUR6dzRPMGh3RRAB', 'relativePublishTimeDescription': '4 months ago', 'rating': 5, 'text': {'text': 'Fun to visit the Rocky Balboa statue and to take pictures. If there is a line it does move quickly and you will have the opportunity to take a picture without people around and it is absolutely free to do.\\n\\nRight next to the statue are the Rocky 72 steps that lead to the Philadelphia Museum of Arts. We went around sunset and there were very few people and I felt it was a safe city. There was no security and many people use the steps as exercise and to recreate the scene that Sylvester Stallone did years ago.It was fun to watch people running the steps. Great view of the city from the top of the steps and a great spot for pictures and to end your day while the sun is setting.\\n\\nIf you are visiting the City of Philadelphia this is well worth a visit.', 'languageCode': 'en'}, 'originalText': {'text': 'Fun to visit the Rocky Balboa statue and to take pictures. If there is a line it does move quickly and you will have the opportunity to take a picture without people around and it is absolutely free to do.\\n\\nRight next to the statue are the Rocky 72 steps that lead to the Philadelphia Museum of Arts. We went around sunset and there were very few people and I felt it was a safe city. There was no security and many people use the steps as exercise and to recreate the scene that Sylvester Stallone did years ago.It was fun to watch people running the steps. Great view of the city from the top of the steps and a great spot for pictures and to end your day while the sun is setting.\\n\\nIf you are visiting the City of Philadelphia this is well worth a visit.', 'languageCode': 'en'}, 'authorAttribution': {'displayName': 'Maria Pellini', 'uri': 'https://www.google.com/maps/contrib/109574823123179473329/reviews', 'photoUri': 'https://lh3.googleusercontent.com/a-/ALV-UjWTckpezqsPs-WNNaSI-Il03Z5LmwpQnT5lfm2af3kc2uzvepQ=s128-c0x00000000-cc-rp-mo-ba6'}, 'publishTime': '2024-06-12T00:48:29.872822Z'}, {'name': 'places/ChIJd4XRlLXHxokR24097rPRpx0/reviews/ChdDSUhNMG9nS0VJQ0FnSUNIME1MaHBBRRAB', 'relativePublishTimeDescription': 'a month ago', 'rating': 5, 'text': {'text': 'A bucket list item to run the steps in Rockys footsteps and then see the statue. What a beautiful area. Make sure to visit the little rocky shop at the bottom of the steps. And head to the eastern penitentiary just a short walk away. Built in the 1800s and decommd in 1970s. Is awesome to tour.', 'languageCode': 'en'}, 'originalText': {'text': 'A bucket list item to run the steps in Rockys footsteps and then see the statue. What a beautiful area. Make sure to visit the little rocky shop at the bottom of the steps. And head to the eastern penitentiary just a short walk away. Built in the 1800s and decommd in 1970s. Is awesome to tour.', 'languageCode': 'en'}, 'authorAttribution': {'displayName': 'Jason Sinsabaugh', 'uri': 'https://www.google.com/maps/contrib/105425649130300264512/reviews', 'photoUri': 'https://lh3.googleusercontent.com/a-/ALV-UjVaaFwTOxaPQwJsrRg6AIHN514SDmVL7MuOo4f_Gsex2ixEMsN7=s128-c0x00000000-cc-rp-mo-ba4'}, 'publishTime': '2024-08-31T04:08:05.801721Z'}, {'name': 'places/ChIJd4XRlLXHxokR24097rPRpx0/reviews/ChZDSUhNMG9nS0VJQ0FnSURubU9uNFBBEAE', 'relativePublishTimeDescription': '3 weeks ago', 'rating': 5, 'text': {'text': 'The Rocky Statue in Philadelphia is a must-see for any fan of the iconic film series or pop culture landmarks. Located near the Philadelphia Museum of Art, it’s an exciting photo opportunity, especially when paired with a run up the famous “Rocky Steps.” However, I skipped getting a photo because it was raining and the queue was long. Expect about a 30-minute wait time. While it’s often crowded, the statue embodies the spirit of perseverance, making it worth a visit when the weather and lines are more favorable!', 'languageCode': 'en'}, 'originalText': {'text': 'The Rocky Statue in Philadelphia is a must-see for any fan of the iconic film series or pop culture landmarks. Located near the Philadelphia Museum of Art, it’s an exciting photo opportunity, especially when paired with a run up the famous “Rocky Steps.” However, I skipped getting a photo because it was raining and the queue was long. Expect about a 30-minute wait time. While it’s often crowded, the statue embodies the spirit of perseverance, making it worth a visit when the weather and lines are more favorable!', 'languageCode': 'en'}, 'authorAttribution': {'displayName': 'Jack A', 'uri': 'https://www.google.com/maps/contrib/112743321035761966018/reviews', 'photoUri': 'https://lh3.googleusercontent.com/a-/ALV-UjVAZPN6pr5c_EQjMTW7SdsqL_lFBAdGxUHA0uW7VeCwA_LJnEqLUw=s128-c0x00000000-cc-rp-mo-ba4'}, 'publishTime': '2024-10-02T20:43:43.407120Z'}, {'name': 'places/ChIJd4XRlLXHxokR24097rPRpx0/reviews/ChdDSUhNMG9nS0VJQ0FnSURuaTR6dWxnRRAB', 'relativePublishTimeDescription': '2 weeks ago', 'rating': 5, 'text': {'text': 'Awesome to see the site of Rocky one of my favorite movies and to be able to take my kids and share it with them made me so happy. The band started playing the Rocky theme song I told my kids they gotta run the stairs may never happen again!', 'languageCode': 'en'}, 'originalText': {'text': 'Awesome to see the site of Rocky one of my favorite movies and to be able to take my kids and share it with them made me so happy. The band started playing the Rocky theme song I told my kids they gotta run the stairs may never happen again!', 'languageCode': 'en'}, 'authorAttribution': {'displayName': 'yolanda jones', 'uri': 'https://www.google.com/maps/contrib/107977474234641480836/reviews', 'photoUri': 'https://lh3.googleusercontent.com/a-/ALV-UjX64dHJCL_AvjJbqGSLcMA5IelmsshUqXDWaBCPoDP7eetXpBN5KA=s128-c0x00000000-cc-rp-mo-ba4'}, 'publishTime': '2024-10-10T00:34:54.314528Z'}, {'name': 'places/ChIJd4XRlLXHxokR24097rPRpx0/reviews/ChZDSUhNMG9nS0VJQ0FnSURybDV5SlFREAE', 'relativePublishTimeDescription': '3 months ago', 'rating': 5, 'text': {'text': 'Huge Rocky fan here! I was excited to be able to see the Rocky statue (along with the iconic museum steps) on my trip to Philly. I went in the morning (around 10am) and there were a few people in line. Do yourself a favor and help the line move faster by asking the person behind you to take your picture! Unfortunately, I didn’t have anyone behind me, but I did help the family in front of me. When I came out of the museum around 2:30pm, the line was crazy long! There were about 50 people in line!', 'languageCode': 'en'}, 'originalText': {'text': 'Huge Rocky fan here! I was excited to be able to see the Rocky statue (along with the iconic museum steps) on my trip to Philly. I went in the morning (around 10am) and there were a few people in line. Do yourself a favor and help the line move faster by asking the person behind you to take your picture! Unfortunately, I didn’t have anyone behind me, but I did help the family in front of me. When I came out of the museum around 2:30pm, the line was crazy long! There were about 50 people in line!', 'languageCode': 'en'}, 'authorAttribution': {'displayName': 'Jennifer Elliott', 'uri': 'https://www.google.com/maps/contrib/115384400510190531925/reviews', 'photoUri': 'https://lh3.googleusercontent.com/a-/ALV-UjVov3rhhti0MctqlwK20Is7dxW696i7i_2nAsGYYxt6itZhiLtEWw=s128-c0x00000000-cc-rp-mo-ba3'}, 'publishTime': '2024-07-21T00:23:38.902715Z'}], 'photos': [{'name': 'places/ChIJd4XRlLXHxokR24097rPRpx0/photos/AdCG2DMNPC0mE-3NCfEyVf2zIHpSPD5qfE_wu94nrEwnJvgRV3992IIG8PnGjkyz_StfUvX6JyStYDV_EYzKd9kcMrszrrzzxJjAByRNFo5F4Pk8T2Y2cFDrxDY92qp-MRCv5bM1Vd4edFXDYdVfMV9YblArAGsbhPqM-EXh', 'widthPx': 2965, 'heightPx': 3984, 'authorAttributions': [{'displayName': 'Vincent L', 'uri': 'https://maps.google.com/maps/contrib/107990898308660863988', 'photoUri': 'https://lh3.googleusercontent.com/a-/ALV-UjW6lH_fvvIsQomnhTu5jtYCz3s7H89uJzTO-4vY-6VMlZFaGQGR=s100-p-k-no-mo'}]}, {'name': 'places/ChIJd4XRlLXHxokR24097rPRpx0/photos/AdCG2DMBsCShvApMLTDLQEw2yitsiziDzxR6fZt-gtCa9HU_qxLFZDTwYPcK30GBpfI0VBGOxLHacOuGP4zqsi8bh5gzIGZZcs-4yh4cp0WDZNCdrJRiIBd0AdMAUhVy3w94yXV_pthi-aEa-lH1VzHnIq3jRy-RLlCojZM', 'widthPx': 3024, 'heightPx': 4032, 'authorAttributions': [{'displayName': 'jose alberto', 'uri': 'https://maps.google.com/maps/contrib/115738286131235581054', 'photoUri': 'https://lh3.googleusercontent.com/a-/ALV-UjW2LPp5uuHGP4P1ygEeMsynv2iGjUrvB46g71EF2YvmTMuAuCM9=s100-p-k-no-mo'}]}, {'name': 'places/ChIJd4XRlLXHxokR24097rPRpx0/photos/AdCG2DPWc7iyXD0yRm0h_2dSjdkBzlQVRr6A1Gi2iw9II8BwjDkM7KVgUvp6spdcOrSQ1QI9lT_3dySS1WiD9swAn1d9DLleVZ6-QjCwgYkXCPAa79_SC27dET96KQ_Ld_BZKkBPuCMlGsr2Vpd3nVOcgoDffKrTReAP_CNu', 'widthPx': 3472, 'heightPx': 4624, 'authorAttributions': [{'displayName': 'Mike Mitchell', 'uri': 'https://maps.google.com/maps/contrib/104899958676590387356', 'photoUri': 'https://lh3.googleusercontent.com/a/ACg8ocKzT4s_pD6GuTOo8GXl9bxw64LsIB48YIXrXHvuha6j7X47Wg=s100-p-k-no-mo'}]}, {'name': 'places/ChIJd4XRlLXHxokR24097rPRpx0/photos/AdCG2DN1ROxRp_M6ytSii9H8xlv3C3WFg2nf_cVKm2MbjVmc7nY5B2Dc2J8Kms-BwAxrH6sAdxap2kKv3qfIBKcVCJsBnvDE72hkU_q-DgSTK8hSJq53KfHjISPD_Zw0qKVYcURyRCrM6AjAkmhtpn5iXLz6mMTxI-dBZOtI', 'widthPx': 4032, 'heightPx': 3024, 'authorAttributions': [{'displayName': 'Trenton Daniels', 'uri': 'https://maps.google.com/maps/contrib/112228855091676617807', 'photoUri': 'https://lh3.googleusercontent.com/a-/ALV-UjXxdUdDD-s62hXEL4jebkKeaVsXpr8VB442RbAZVcpKeDrVAlT9=s100-p-k-no-mo'}]}, {'name': 'places/ChIJd4XRlLXHxokR24097rPRpx0/photos/AdCG2DNnSVyKkb7MazoDEcskvKSHntewwfbT0QVU3XglwVFlgLf6iyIIqYHGz76cNwwGlGa_FE0hrkgaA_Q2IuExq4Qs_92j3bioD4RtsOgavx80DRR23kBqACuGo5kSu6_babXHnp4FlyekRVy5dzv6b85Locn0iYOiTllm', 'widthPx': 3024, 'heightPx': 4032, 'authorAttributions': [{'displayName': 'Angel Abraham Flores Moreno', 'uri': 'https://maps.google.com/maps/contrib/104614837025948951132', 'photoUri': 'https://lh3.googleusercontent.com/a-/ALV-UjV3znyphHcUfwmhuPuxXUQ-DIFKqtlG-ffPM6YkBZvn_eB958s=s100-p-k-no-mo'}]}, {'name': 'places/ChIJd4XRlLXHxokR24097rPRpx0/photos/AdCG2DNCYg3ek-eVXTuSD7ZtwQd7n0Y7aFBTY9ik7Gu42CxEDOjLTQ1rcZ1qgpG-XUeOQAkaHVdVjyMP_hDk-WE3MuT_Z789yEaZTfik_9rMuRipZzPJ2cGYys6rvfnERe_IGoeCDOfdouUYiT_UG-EDomOTMsZM_sFm3L4D', 'widthPx': 3600, 'heightPx': 4800, 'authorAttributions': [{'displayName': 'Tim Taylorzh', 'uri': 'https://maps.google.com/maps/contrib/102126708906562869488', 'photoUri': 'https://lh3.googleusercontent.com/a-/ALV-UjX6M06652f_ZzO-ktz8axbWDbWP7nmioIKmNKH6op_KAGte748paA=s100-p-k-no-mo'}]}, {'name': 'places/ChIJd4XRlLXHxokR24097rPRpx0/photos/AdCG2DMN-KtYQSNeYSv2vB1a0iGZizOM5k1KFRTiR4jl_VI-ropwVPoKJ0pJonGXB3Wu3ozUDyGOAXGZbIboz1HX2Qw6vrrwnVpL2Xv77oqiwPcejnZh_rGLApepgLvbEpletsqDQzUihxCcK4G38uQF8rQ56lWBTuW4r0mt', 'widthPx': 1024, 'heightPx': 768, 'authorAttributions': [{'displayName': 'Arlene Murphy', 'uri': 'https://maps.google.com/maps/contrib/108960725689178075816', 'photoUri': 'https://lh3.googleusercontent.com/a-/ALV-UjWnyY9pMUZYl7DjoFBr-pGzjdW0dZJbZNvaEInD1mitgyETlH4FyA=s100-p-k-no-mo'}]}, {'name': 'places/ChIJd4XRlLXHxokR24097rPRpx0/photos/AdCG2DOS1YjTOiAkF_UHtP5Tba1MM6mJY1rJFSuQn0pv788uqAWL03foMa1zHItTh0S4vZcKWb_bwtDw3O7GE064u-MqaQdu9xuB5CtE0OCXVOsDmtZZhvbCJp6ynss8wmk823RSreYjRpNovexX_ebhLoqwcQqLAt6nfCWt', 'widthPx': 3000, 'heightPx': 4000, 'authorAttributions': [{'displayName': 'patrichsk tv', 'uri': 'https://maps.google.com/maps/contrib/111919038368336642796', 'photoUri': 'https://lh3.googleusercontent.com/a-/ALV-UjUeU2rqdSWCete6gmoM0hl4YemH7XxEhv3ThK-ccSWwe7O67NztVA=s100-p-k-no-mo'}]}, {'name': 'places/ChIJd4XRlLXHxokR24097rPRpx0/photos/AdCG2DMaTorJI9hvf_lJl0zY5AKXSyzDHxR_RbkFrKcFb3f2_KgFJ2SPlcwNuKIsFdl0dlz4VGq4ejyDfrTnm8tu8zrMafL_EaJ5NfTVNB7PPOMMKHYb4HlHd7HHLvFd4M3voz96RO1SGTKi77os0M6UZxm2DccWPO-k4fOm', 'widthPx': 4000, 'heightPx': 3000, 'authorAttributions': [{'displayName': 'Stay Calm', 'uri': 'https://maps.google.com/maps/contrib/102127379664345218790', 'photoUri': 'https://lh3.googleusercontent.com/a/ACg8ocKPCpI5y8n9NZDgF5eF0hviBPgbZ19PBMdQbjdZa_StKRVrOw=s100-p-k-no-mo'}]}, {'name': 'places/ChIJd4XRlLXHxokR24097rPRpx0/photos/AdCG2DM7IOs22Sfgw2Um-ZsPFLX-3SK4l0BqjtgZ0Jh3gRIvH7BZKG08ASbLRMac8H20VP3hT2DHlJCkPAktjc-ORKKv36Mwxi-iI4o0qSDoil1cwERFkbAn5lwL3VZpJcnghsYP7gaRnSkVgIerkvq-jhhibrjtvNi7uXE7', 'widthPx': 4032, 'heightPx': 3024, 'authorAttributions': [{'displayName': 'Harvinder Singh', 'uri': 'https://maps.google.com/maps/contrib/111794782510985371645', 'photoUri': 'https://lh3.googleusercontent.com/a-/ALV-UjUEs7ly0W4qNq0ECm5MhwM0INIKOIyYWIY182ufkZYcx0Tikyn4ow=s100-p-k-no-mo'}]}], 'goodForChildren': True, 'accessibilityOptions': {'wheelchairAccessibleParking': True, 'wheelchairAccessibleEntrance': True}, 'addressDescriptor': {'landmarks': [{'name': 'places/ChIJ_5CoRebFxokR08ApAyF2KIs', 'placeId': 'ChIJ_5CoRebFxokR08ApAyF2KIs', 'displayName': {'text': 'Philadelphia Museum of Art', 'languageCode': 'en'}, 'types': ['establishment', 'museum', 'point_of_interest', 'tourist_attraction'], 'spatialRelationship': 'WITHIN', 'straightLineDistanceMeters': 151.04532, 'travelDistanceMeters': 252.97455}, {'name': 'places/ChIJ33ZAsLXHxokRRidoQ-ctnM4', 'placeId': 'ChIJ33ZAsLXHxokRRidoQ-ctnM4', 'displayName': {'text': 'Philadelphia Museum of Art Steps', 'languageCode': 'en'}, 'types': ['establishment', 'museum', 'point_of_interest'], 'straightLineDistanceMeters': 62.14373, 'travelDistanceMeters': 159.91808}, {'name': 'places/ChIJoU6pmbXHxokRv76O_OM0pnw', 'placeId': 'ChIJoU6pmbXHxokRv76O_OM0pnw', 'displayName': {'text': 'Washington Monument Fountain', 'languageCode': 'en'}, 'types': ['establishment', 'point_of_interest', 'tourist_attraction'], 'straightLineDistanceMeters': 96.97086}, {'name': 'places/ChIJa3QHC7bHxokRRoIFvp2_cDM', 'placeId': 'ChIJa3QHC7bHxokRRoIFvp2_cDM', 'displayName': {'text': 'Joan of Arc Statue', 'languageCode': 'en'}, 'types': ['establishment', 'point_of_interest'], 'straightLineDistanceMeters': 150.26807, 'travelDistanceMeters': 233.56076}, {'name': 'places/ChIJrwDdgrXHxokRZ8Q-XV4tloc', 'placeId': 'ChIJrwDdgrXHxokRZ8Q-XV4tloc', 'displayName': {'text': 'The Oval', 'languageCode': 'en'}, 'types': ['establishment', 'park', 'point_of_interest', 'tourist_attraction'], 'straightLineDistanceMeters': 185.25871, 'travelDistanceMeters': 476.88025}], 'areas': [{'name': 'places/ChIJ_5CoRebFxokRWEuAMdl6Jj0', 'placeId': 'ChIJ_5CoRebFxokRWEuAMdl6Jj0', 'displayName': {'text': 'Philadelphia Museum of Art', 'languageCode': 'en'}, 'containment': 'WITHIN'}, {'name': 'places/ChIJeyw1r87HxokRY9n0aS-TrcE', 'placeId': 'ChIJeyw1r87HxokRY9n0aS-TrcE', 'displayName': {'text': 'Fairmount', 'languageCode': 'en'}, 'containment': 'WITHIN'}, {'name': 'places/ChIJ9yn9mbzHxokRqBKdNtRvUF4', 'placeId': 'ChIJ9yn9mbzHxokRqBKdNtRvUF4', 'displayName': {'text': 'East Fairmount Park', 'languageCode': 'en'}, 'containment': 'OUTSKIRTS'}]}}\n"
     ]
    }
   ],
   "source": [
    "\n",
    "#return_fileds = '*'\n",
    "\n",
    "url = f'https://places.googleapis.com/v1/places/{place_id}?fields=*&key={API_KEY}'\n",
    "response = requests.get(url)\n",
    "\n",
    "if response.status_code == 200:\n",
    "    data = response.json()\n",
    "    print(data)\n",
    "else:\n",
    "    print(\"Error:\", response.status_code)\n"
   ]
  },
  {
   "cell_type": "code",
   "execution_count": null,
   "metadata": {},
   "outputs": [],
   "source": []
  }
 ],
 "metadata": {
  "kernelspec": {
   "display_name": "pytorch",
   "language": "python",
   "name": "pytorch"
  },
  "language_info": {
   "codemirror_mode": {
    "name": "ipython",
    "version": 3
   },
   "file_extension": ".py",
   "mimetype": "text/x-python",
   "name": "python",
   "nbconvert_exporter": "python",
   "pygments_lexer": "ipython3",
   "version": "3.12.5"
  }
 },
 "nbformat": 4,
 "nbformat_minor": 2
}
