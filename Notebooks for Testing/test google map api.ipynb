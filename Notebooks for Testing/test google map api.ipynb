{
 "cells": [
  {
   "cell_type": "code",
   "execution_count": 3,
   "id": "3243bf9e",
   "metadata": {},
   "outputs": [],
   "source": [
    "from pprint import pprint\n",
    "import googlemaps\n",
    "import json\n",
    "import os"
   ]
  },
  {
   "cell_type": "code",
   "execution_count": 4,
   "id": "91187d49",
   "metadata": {},
   "outputs": [],
   "source": [
    "API_KEY= os.getenv('GOOGLE_MAP_API_KEY')"
   ]
  },
  {
   "cell_type": "code",
   "execution_count": 5,
   "id": "7b33f6ab",
   "metadata": {},
   "outputs": [],
   "source": [
    "gmap = googlemaps.Client(API_KEY)"
   ]
  },
  {
   "cell_type": "code",
   "execution_count": 6,
   "id": "54f8de4c",
   "metadata": {},
   "outputs": [
    {
     "data": {
      "text/plain": [
       "['__class__',\n",
       " '__delattr__',\n",
       " '__dict__',\n",
       " '__dir__',\n",
       " '__doc__',\n",
       " '__eq__',\n",
       " '__format__',\n",
       " '__ge__',\n",
       " '__getattribute__',\n",
       " '__getstate__',\n",
       " '__gt__',\n",
       " '__hash__',\n",
       " '__init__',\n",
       " '__init_subclass__',\n",
       " '__le__',\n",
       " '__lt__',\n",
       " '__module__',\n",
       " '__ne__',\n",
       " '__new__',\n",
       " '__reduce__',\n",
       " '__reduce_ex__',\n",
       " '__repr__',\n",
       " '__setattr__',\n",
       " '__sizeof__',\n",
       " '__str__',\n",
       " '__subclasshook__',\n",
       " '__weakref__',\n",
       " '_generate_auth_url',\n",
       " '_get',\n",
       " '_get_body',\n",
       " '_request',\n",
       " 'addressvalidation',\n",
       " 'base_url',\n",
       " 'channel',\n",
       " 'clear_experience_id',\n",
       " 'client_id',\n",
       " 'client_secret',\n",
       " 'directions',\n",
       " 'distance_matrix',\n",
       " 'elevation',\n",
       " 'elevation_along_path',\n",
       " 'find_place',\n",
       " 'geocode',\n",
       " 'geolocate',\n",
       " 'get_experience_id',\n",
       " 'key',\n",
       " 'nearest_roads',\n",
       " 'place',\n",
       " 'places',\n",
       " 'places_autocomplete',\n",
       " 'places_autocomplete_query',\n",
       " 'places_nearby',\n",
       " 'places_photo',\n",
       " 'queries_per_minute',\n",
       " 'queries_per_second',\n",
       " 'queries_quota',\n",
       " 'requests_kwargs',\n",
       " 'retry_over_query_limit',\n",
       " 'retry_timeout',\n",
       " 'reverse_geocode',\n",
       " 'sent_times',\n",
       " 'session',\n",
       " 'set_experience_id',\n",
       " 'snap_to_roads',\n",
       " 'snapped_speed_limits',\n",
       " 'speed_limits',\n",
       " 'static_map',\n",
       " 'timeout',\n",
       " 'timezone']"
      ]
     },
     "execution_count": 6,
     "metadata": {},
     "output_type": "execute_result"
    }
   ],
   "source": [
    "dir(gmap)"
   ]
  },
  {
   "cell_type": "code",
   "execution_count": 12,
   "id": "596890ae",
   "metadata": {
    "collapsed": true
   },
   "outputs": [
    {
     "name": "stdout",
     "output_type": "stream",
     "text": [
      "[{'address_components': [{'long_name': 'Chicago',\n",
      "                          'short_name': 'Chicago',\n",
      "                          'types': ['locality', 'political']},\n",
      "                         {'long_name': 'Cook County',\n",
      "                          'short_name': 'Cook County',\n",
      "                          'types': ['administrative_area_level_2',\n",
      "                                    'political']},\n",
      "                         {'long_name': 'Illinois',\n",
      "                          'short_name': 'IL',\n",
      "                          'types': ['administrative_area_level_1',\n",
      "                                    'political']},\n",
      "                         {'long_name': 'United States',\n",
      "                          'short_name': 'US',\n",
      "                          'types': ['country', 'political']}],\n",
      "  'formatted_address': 'Chicago, IL, USA',\n",
      "  'geometry': {'bounds': {'northeast': {'lat': 42.023131,\n",
      "                                        'lng': -87.52366099999999},\n",
      "                          'southwest': {'lat': 41.6443349, 'lng': -87.9402669}},\n",
      "               'location': {'lat': 41.8781136, 'lng': -87.6297982},\n",
      "               'location_type': 'APPROXIMATE',\n",
      "               'viewport': {'northeast': {'lat': 42.023131,\n",
      "                                          'lng': -87.52366099999999},\n",
      "                            'southwest': {'lat': 41.6443349,\n",
      "                                          'lng': -87.9402669}}},\n",
      "  'place_id': 'ChIJ7cv00DwsDogRAMDACa2m4K8',\n",
      "  'types': ['locality', 'political']}]\n"
     ]
    }
   ],
   "source": [
    "work_place_address = 'Chicago, IL'\n",
    "response = gmap.geocode(work_place_address)\n",
    "pprint(response)"
   ]
  },
  {
   "cell_type": "code",
   "execution_count": 16,
   "id": "beee6357",
   "metadata": {},
   "outputs": [],
   "source": [
    "#Get attractions within 15km of chicago\n",
    "location = (41.8781136,-87.6297982)\n",
    "\n",
    "places_result = gmap.places_nearby(\n",
    "    location=location,\n",
    "    radius=15000,  # 15km radius\n",
    "    type='tourist_attraction'\n",
    ")"
   ]
  },
  {
   "cell_type": "code",
   "execution_count": 32,
   "id": "e1f104ae",
   "metadata": {},
   "outputs": [
    {
     "name": "stdout",
     "output_type": "stream",
     "text": [
      "1. The Art Institute of Chicago - Rating: 4.8\n",
      "2. Wrigley Field - Rating: 4.8\n",
      "3. Field Museum - Rating: 4.7\n",
      "4. The Chicago Theatre - Rating: 4.7\n",
      "5. 875 North Michigan Avenue - Rating: 4.7\n",
      "6. Cloud Gate - Rating: 4.7\n",
      "7. Millennium Park - Rating: 4.7\n",
      "8. Chicago Cultural Center - Rating: 4.7\n",
      "9. S. R. Crown Hall (IIT College of Architecture) - Rating: 4.7\n",
      "10. National Museum of Mexican Art - Rating: 4.7\n",
      "11. Grant Park - Rating: 4.7\n",
      "12. Lincoln Park Zoo - Rating: 4.6\n",
      "13. Chicago History Museum - Rating: 4.6\n",
      "14. Willis Tower - Rating: 4.5\n",
      "15. Shedd Aquarium - Rating: 4.5\n",
      "16. 360 CHICAGO - Rating: 4.5\n",
      "17. Skydeck Chicago - Rating: 4.5\n",
      "18. Museum Of Contemporary Art Chicago - Rating: 4.4\n",
      "19. Adler Planetarium - Rating: 4.2\n",
      "20. Hawthorne Works - Rating: 4.2\n"
     ]
    }
   ],
   "source": [
    "# Get the top 5 places sorted by rating\n",
    "top_attractions = sorted(places_result['results'], key=lambda x: x.get('rating', 0), reverse=True)[:30]\n",
    "\n",
    "# Print the results\n",
    "for i, place in enumerate(top_attractions, 1):\n",
    "    print(f\"{i}. {place['name']} - Rating: {place.get('rating', 'No rating')}\")"
   ]
  },
  {
   "cell_type": "code",
   "execution_count": null,
   "id": "39103544",
   "metadata": {},
   "outputs": [],
   "source": [
    "# Export the JSON response to a file\n",
    "output_file = \"attractions_in_chicago.json\"\n",
    "\n",
    "# Open the file in write mode and write the JSON data to it\n",
    "with open(output_file, 'w') as file:\n",
    "    json.dump(places_result, file, indent=4)"
   ]
  },
  {
   "cell_type": "code",
   "execution_count": 28,
   "id": "2f4dc9e1",
   "metadata": {
    "scrolled": false
   },
   "outputs": [],
   "source": [
    "# get the result from next page\n",
    "next_page_token = places_result['next_page_token']\n",
    "next_page_result = gmap.places_nearby(page_token=next_page_token)"
   ]
  },
  {
   "cell_type": "code",
   "execution_count": 31,
   "id": "d37b64d6",
   "metadata": {},
   "outputs": [
    {
     "name": "stdout",
     "output_type": "stream",
     "text": [
      "1. Institute for the Study of Ancient Cultures Museum - Rating: 4.8\n",
      "2. Lincoln Park Conservatory - Rating: 4.8\n",
      "3. Garfield Park Conservatory - Rating: 4.8\n",
      "4. Clarence F. Buckingham Memorial Fountain - Rating: 4.7\n",
      "5. Frederick C. Robie House - Rating: 4.7\n",
      "6. Fourth Presbyterian Church - Rating: 4.7\n",
      "7. Chicago Architecture Center - Rating: 4.7\n",
      "8. Dearborn Street Bridge - Rating: 4.7\n",
      "9. Clybourn Place Bridge - Rating: 4.7\n",
      "10. Jane Addams Hull-House Museum - Rating: 4.7\n",
      "11. Intuit: The Center for Intuitive and Outsider Art - Rating: 4.7\n",
      "12. Saint Clement Church - Rating: 4.7\n",
      "13. Nicholas J. Melas Centennial Fountain - Rating: 4.6\n",
      "14. Chicago Children's Museum - Rating: 4.6\n",
      "15. Newberry Library - Rating: 4.6\n",
      "16. Navy Pier - Rating: 4.6\n",
      "17. McCormick Tribune Plaza - Rating: 4.5\n",
      "18. International Museum of Surgical Science - Rating: 4.5\n",
      "19. Union Stockyards Gate - Rating: 4.5\n",
      "20. Loyola University Museum of Art (LUMA) - Rating: 4.3\n"
     ]
    }
   ],
   "source": [
    "# Get the top 5 places sorted by rating\n",
    "top_attractions = sorted(next_page_result['results'], key=lambda x: x.get('rating', 0), reverse=True)[:20]\n",
    "\n",
    "# Print the results\n",
    "for i, place in enumerate(top_attractions, 1):\n",
    "    print(f\"{i}. {place['name']} - Rating: {place.get('rating', 'No rating')}\")"
   ]
  },
  {
   "cell_type": "code",
   "execution_count": 34,
   "id": "b6853c02",
   "metadata": {},
   "outputs": [],
   "source": [
    "# Export the JSON response to a file\n",
    "output_file = \"attractions_in_chicago.json\"\n",
    "\n",
    "# Open the file in write mode and write the JSON data to it\n",
    "with open(output_file, 'w') as file:\n",
    "    json.dump(next_page_result, file, indent=4)"
   ]
  },
  {
   "cell_type": "code",
   "execution_count": 50,
   "id": "3e5310df",
   "metadata": {},
   "outputs": [
    {
     "data": {
      "text/plain": [
       "{'business_status': 'OPERATIONAL',\n",
       " 'geometry': {'location': {'lat': 41.8675726, 'lng': -87.614038},\n",
       "  'viewport': {'northeast': {'lat': 41.8685195802915,\n",
       "    'lng': -87.61318966970849},\n",
       "   'southwest': {'lat': 41.86582161970851, 'lng': -87.61588763029151}}},\n",
       " 'icon': 'https://maps.gstatic.com/mapfiles/place_api/icons/v1/png_71/generic_business-71.png',\n",
       " 'icon_background_color': '#13B5C7',\n",
       " 'icon_mask_base_uri': 'https://maps.gstatic.com/mapfiles/place_api/icons/v2/generic_pinlet',\n",
       " 'name': 'Shedd Aquarium',\n",
       " 'opening_hours': {'open_now': True},\n",
       " 'photos': [{'height': 3968,\n",
       "   'html_attributions': ['<a href=\"https://maps.google.com/maps/contrib/104543295656494101606\">Michael Lipman Photography</a>'],\n",
       "   'photo_reference': 'AdCG2DPg4lV-B7yxZpwMo0L43ps4KGb-0LBbSnGWHr6gq1RvX1xZkBfUV-AP77b5px9GAb5oVm0jBCq0N7wrqt-ZnN8rl98cOW7HtLTBhuD6fyHi_gWXJTe3lCU1tjJNaz9J_JFmmYZ_Ga7MhtieFHWq_k0QZr34-6CboLYR4Ub4UkAETHc',\n",
       "   'width': 5946}],\n",
       " 'place_id': 'ChIJ-XW3X2MrDogR3_tQ3-OdBTI',\n",
       " 'plus_code': {'compound_code': 'V99P+29 Chicago, IL, USA',\n",
       "  'global_code': '86HJV99P+29'},\n",
       " 'price_level': 3,\n",
       " 'rating': 4.5,\n",
       " 'reference': 'ChIJ-XW3X2MrDogR3_tQ3-OdBTI',\n",
       " 'scope': 'GOOGLE',\n",
       " 'types': ['aquarium',\n",
       "  'tourist_attraction',\n",
       "  'point_of_interest',\n",
       "  'establishment'],\n",
       " 'user_ratings_total': 30187,\n",
       " 'vicinity': '1200 South Dusable Lake Shore Drive, Chicago'}"
      ]
     },
     "execution_count": 50,
     "metadata": {},
     "output_type": "execute_result"
    }
   ],
   "source": [
    "#get shedd aquarium\n",
    "sheddAquarium = places_result['results'][5]\n",
    "sheddAquarium"
   ]
  },
  {
   "cell_type": "code",
   "execution_count": 56,
   "id": "82def783",
   "metadata": {},
   "outputs": [],
   "source": [
    "place_id = 'ChIJ-XW3X2MrDogR3_tQ3-OdBTI'\n",
    "sheddAquarium_detail = gmap.place(place_id= place_id,reviews_sort='newest')"
   ]
  },
  {
   "cell_type": "code",
   "execution_count": 62,
   "id": "ef2cebdb",
   "metadata": {},
   "outputs": [
    {
     "data": {
      "text/plain": [
       "{'address_components': [{'long_name': '1200',\n",
       "   'short_name': '1200',\n",
       "   'types': ['street_number']},\n",
       "  {'long_name': 'South Dusable Lake Shore Drive',\n",
       "   'short_name': 'S Dusable Lk Shr Dr',\n",
       "   'types': ['route']},\n",
       "  {'long_name': 'Near South Side',\n",
       "   'short_name': 'Near South Side',\n",
       "   'types': ['neighborhood', 'political']},\n",
       "  {'long_name': 'Chicago',\n",
       "   'short_name': 'Chicago',\n",
       "   'types': ['locality', 'political']},\n",
       "  {'long_name': 'Cook County',\n",
       "   'short_name': 'Cook County',\n",
       "   'types': ['administrative_area_level_2', 'political']},\n",
       "  {'long_name': 'Illinois',\n",
       "   'short_name': 'IL',\n",
       "   'types': ['administrative_area_level_1', 'political']},\n",
       "  {'long_name': 'United States',\n",
       "   'short_name': 'US',\n",
       "   'types': ['country', 'political']},\n",
       "  {'long_name': '60605', 'short_name': '60605', 'types': ['postal_code']}],\n",
       " 'adr_address': '<span class=\"street-address\">1200 S Dusable Lk Shr Dr</span>, <span class=\"locality\">Chicago</span>, <span class=\"region\">IL</span> <span class=\"postal-code\">60605</span>, <span class=\"country-name\">USA</span>',\n",
       " 'business_status': 'OPERATIONAL',\n",
       " 'current_opening_hours': {'open_now': True,\n",
       "  'periods': [{'close': {'date': '2024-10-06', 'day': 0, 'time': '1700'},\n",
       "    'open': {'date': '2024-10-06', 'day': 0, 'time': '0900'}},\n",
       "   {'close': {'date': '2024-10-07', 'day': 1, 'time': '1700'},\n",
       "    'open': {'date': '2024-10-07', 'day': 1, 'time': '0900'}},\n",
       "   {'close': {'date': '2024-10-08', 'day': 2, 'time': '2100'},\n",
       "    'open': {'date': '2024-10-08', 'day': 2, 'time': '0900'}},\n",
       "   {'close': {'date': '2024-10-09', 'day': 3, 'time': '1700'},\n",
       "    'open': {'date': '2024-10-09', 'day': 3, 'time': '0900'}},\n",
       "   {'close': {'date': '2024-10-10', 'day': 4, 'time': '1700'},\n",
       "    'open': {'date': '2024-10-10', 'day': 4, 'time': '0900'}},\n",
       "   {'close': {'date': '2024-10-04', 'day': 5, 'time': '1700'},\n",
       "    'open': {'date': '2024-10-04', 'day': 5, 'time': '0900'}},\n",
       "   {'close': {'date': '2024-10-05', 'day': 6, 'time': '1800'},\n",
       "    'open': {'date': '2024-10-05', 'day': 6, 'time': '0900'}}],\n",
       "  'special_days': [{'date': '2024-10-06', 'exceptional_hours': True},\n",
       "   {'date': '2024-10-08', 'exceptional_hours': True}],\n",
       "  'weekday_text': ['Monday: 9:00\\u202fAM\\u2009–\\u20095:00\\u202fPM',\n",
       "   'Tuesday: 9:00\\u202fAM\\u2009–\\u20099:00\\u202fPM',\n",
       "   'Wednesday: 9:00\\u202fAM\\u2009–\\u20095:00\\u202fPM',\n",
       "   'Thursday: 9:00\\u202fAM\\u2009–\\u20095:00\\u202fPM',\n",
       "   'Friday: 9:00\\u202fAM\\u2009–\\u20095:00\\u202fPM',\n",
       "   'Saturday: 9:00\\u202fAM\\u2009–\\u20096:00\\u202fPM',\n",
       "   'Sunday: 9:00\\u202fAM\\u2009–\\u20095:00\\u202fPM']},\n",
       " 'editorial_summary': {'language': 'en',\n",
       "  'overview': 'State-of-the-art indoor aquarium, famous for its variety of habitats & views of Lake Michigan.'},\n",
       " 'formatted_address': '1200 S Dusable Lk Shr Dr, Chicago, IL 60605, USA',\n",
       " 'formatted_phone_number': '(312) 939-2438',\n",
       " 'geometry': {'location': {'lat': 41.8675726, 'lng': -87.614038},\n",
       "  'viewport': {'northeast': {'lat': 41.8685195802915,\n",
       "    'lng': -87.61318966970849},\n",
       "   'southwest': {'lat': 41.86582161970851, 'lng': -87.61588763029151}}},\n",
       " 'icon': 'https://maps.gstatic.com/mapfiles/place_api/icons/v1/png_71/generic_business-71.png',\n",
       " 'icon_background_color': '#13B5C7',\n",
       " 'icon_mask_base_uri': 'https://maps.gstatic.com/mapfiles/place_api/icons/v2/generic_pinlet',\n",
       " 'international_phone_number': '+1 312-939-2438',\n",
       " 'name': 'Shedd Aquarium',\n",
       " 'opening_hours': {'open_now': True,\n",
       "  'periods': [{'close': {'day': 0, 'time': '1800'},\n",
       "    'open': {'day': 0, 'time': '0900'}},\n",
       "   {'close': {'day': 1, 'time': '1700'}, 'open': {'day': 1, 'time': '0900'}},\n",
       "   {'close': {'day': 2, 'time': '1700'}, 'open': {'day': 2, 'time': '0900'}},\n",
       "   {'close': {'day': 3, 'time': '1700'}, 'open': {'day': 3, 'time': '0900'}},\n",
       "   {'close': {'day': 4, 'time': '1700'}, 'open': {'day': 4, 'time': '0900'}},\n",
       "   {'close': {'day': 5, 'time': '1700'}, 'open': {'day': 5, 'time': '0900'}},\n",
       "   {'close': {'day': 6, 'time': '1800'}, 'open': {'day': 6, 'time': '0900'}}],\n",
       "  'weekday_text': ['Monday: 9:00\\u202fAM\\u2009–\\u20095:00\\u202fPM',\n",
       "   'Tuesday: 9:00\\u202fAM\\u2009–\\u20095:00\\u202fPM',\n",
       "   'Wednesday: 9:00\\u202fAM\\u2009–\\u20095:00\\u202fPM',\n",
       "   'Thursday: 9:00\\u202fAM\\u2009–\\u20095:00\\u202fPM',\n",
       "   'Friday: 9:00\\u202fAM\\u2009–\\u20095:00\\u202fPM',\n",
       "   'Saturday: 9:00\\u202fAM\\u2009–\\u20096:00\\u202fPM',\n",
       "   'Sunday: 9:00\\u202fAM\\u2009–\\u20096:00\\u202fPM']},\n",
       " 'photos': [{'height': 3968,\n",
       "   'html_attributions': ['<a href=\"https://maps.google.com/maps/contrib/104543295656494101606\">Michael Lipman Photography</a>'],\n",
       "   'photo_reference': 'AdCG2DMXP4CEY_AOneZsaA2zhPsk0cPXXFvsu7rYoiFZccsw1t0q9dA4sMmH6CxYorCud4OHDeKgcet1e9H2Xu08lGvpUDZgJrPw0bpVFVowybJ5JoanM_TVg4wkqdf2yNn-_LroRULS8MkpybRTWk9aYQd-fOllQQzIyOPlEpI8-7AcnEQ',\n",
       "   'width': 5946},\n",
       "  {'height': 630,\n",
       "   'html_attributions': ['<a href=\"https://maps.google.com/maps/contrib/118438885936557273364\">Giyermina Echeberria</a>'],\n",
       "   'photo_reference': 'AdCG2DOZNPwP0S945g0Vttqim-a4vtuwiZzdd9NTEnnCUsKX-cniYnAGjp__uCeSb1zjYEjtvwXN85UmcNY9FutoqU1qhyPubw7Jleg7h41aEGK2Jzq2iLsYiNNSJzTw33vCP-8wwvD9RzMiheFNvqXqzMdL34DLRGwNe0ESRTkwl95yZcOd',\n",
       "   'width': 1200},\n",
       "  {'height': 2252,\n",
       "   'html_attributions': ['<a href=\"https://maps.google.com/maps/contrib/110655812664828416218\">Molly Fowler</a>'],\n",
       "   'photo_reference': 'AdCG2DP7zewRf5xE0SStvlXkjIITHDYt2cw65X1SNnIdmhXpZM7pFpnf8ngd2UN-FIUX5OwCDTk83MW0LpB1Uvww0dRdwHFmBXDDvl2FnfqSrsKx7mtE40_pX3Gjlqy4hGZ9LVub5Gbh8b82WDbqq34ZKb3yGXADq0DeEHTXU8Kw5ETeImRB',\n",
       "   'width': 4000},\n",
       "  {'height': 3024,\n",
       "   'html_attributions': ['<a href=\"https://maps.google.com/maps/contrib/104335416162594621709\">jaytee0707</a>'],\n",
       "   'photo_reference': 'AdCG2DMT6Av2P0NenggXIy0efwvz5i6rzEqZYsHnLsjUVKCHGHIM3Ij0y-nsnQfnBfqNj5z2s1mfUKMTZLmZHD8S3yB3C1AUDpVZN81Hx9Yynv0MuBt7jQyYRu7U2yLG9Arl20UONHviwZ0uaJfX1HCWzGWvtz2z_xxJHUq8GFOfj8qngEXk',\n",
       "   'width': 4032},\n",
       "  {'height': 3024,\n",
       "   'html_attributions': ['<a href=\"https://maps.google.com/maps/contrib/107651085859433883573\">Karen Kendzierski</a>'],\n",
       "   'photo_reference': 'AdCG2DM3949hN9rEBlygkvZYfYGT2FZzPxBkmvV8HVTFoEcS0rTp_ld6laGH3Ijh05ARHuk5u0W3Cpr7lkBQfpfw3h_mGxOzyjpzHhnIMF8VhN4L5N-YFx-1MHL_uusSBws6d7lunmITWO00-cvF4nAr0l_lW8TYjI9ay_8IMxWl5anzLb7f',\n",
       "   'width': 4032},\n",
       "  {'height': 3024,\n",
       "   'html_attributions': ['<a href=\"https://maps.google.com/maps/contrib/104336981413375802985\">Michael Warling</a>'],\n",
       "   'photo_reference': 'AdCG2DNLP1g9uDMQ1FhyDxOKUleOLTA8Nvjer_ZUmW_CK6ifJB8-Kncu6ewdK4VKKyXAOowJEHTmuZLSTqsi9eWzLvZr17cbgLXDuoFZZ9x3ZNxCYgT8AgnqZledyTys6oxlH2l--46vbvkTIeVIWjhdyLD73cyTp_4evqdsY3gpiVJwV2BI',\n",
       "   'width': 4032},\n",
       "  {'height': 9000,\n",
       "   'html_attributions': ['<a href=\"https://maps.google.com/maps/contrib/118019577051785595665\">Deplorable Rob</a>'],\n",
       "   'photo_reference': 'AdCG2DNJC_uBzP1_j1N9xE83pVmZESB2ezigsh-DM-wZFDsWJgP8EOFSBqKa4dPxosrYZnf2O400MfSqGMRWAqNoEFf5zUmED-IsA_0x54lB7B1bce53T-4fjKEb-VD47_r8qU2Bvrhx4mNvnh-BGWYDCDDgr-v0hrzKHE1LlFBjl9W3VH0a',\n",
       "   'width': 12000},\n",
       "  {'height': 4032,\n",
       "   'html_attributions': ['<a href=\"https://maps.google.com/maps/contrib/105724986176094476717\">Alex Serenylan</a>'],\n",
       "   'photo_reference': 'AdCG2DMQoSguG8sMytsqQgl2KCvPleCmLsMJjiGPRV_B2w2DHTBNXA2qIFt1XZNQJ6z1TgLF9tUMM1N6RUF0ZFhZr5r0E7AslODXNQmThbexfi4Y_rFzEZLlQlbtHAf6z4DswQ3IpXBWQaogPn6sSqY_rLuSRQrX6aB1uCGaTUdNM4KqcFnK',\n",
       "   'width': 3024},\n",
       "  {'height': 434,\n",
       "   'html_attributions': ['<a href=\"https://maps.google.com/maps/contrib/113671920237281401477\">Benjamin Allison</a>'],\n",
       "   'photo_reference': 'AdCG2DMx2_GPhWaoMZCfg6tkvtPO-4M9L18OmEj5TCNgBjNOOispcSXuvd1a_8dYYy9pYF_z38jWK2iHZRC-egehquZQVi25n9CMKBT5Ia0qzN5trjWIBdL533kNCGzUIIP85xR157DUVMBVy02wFEodPARwpNADXcKaSR0Qcm40p5C8Qnc9',\n",
       "   'width': 651},\n",
       "  {'height': 290,\n",
       "   'html_attributions': ['<a href=\"https://maps.google.com/maps/contrib/102495363329908512130\">Fcricarli Naqreeair</a>'],\n",
       "   'photo_reference': 'AdCG2DNQB03yBcH8x2zlclsfqtZpDqqbTP6ChtFwkZHB68MxuuBUUVFdLwEMLO3uGgTxcmZM9qG4rcrmOTC3G8Q_XtQYGtQKEIqlyt0CMGz_IWSy4EvFhNPt2HQLwvgLO4U5wx33jAUDA4Zv3313Ovm05_oc1Z6qne6jPj2S8kXrOtaJc61U',\n",
       "   'width': 516}],\n",
       " 'place_id': 'ChIJ-XW3X2MrDogR3_tQ3-OdBTI',\n",
       " 'plus_code': {'compound_code': 'V99P+29 Chicago, IL, USA',\n",
       "  'global_code': '86HJV99P+29'},\n",
       " 'price_level': 3,\n",
       " 'rating': 4.5,\n",
       " 'reference': 'ChIJ-XW3X2MrDogR3_tQ3-OdBTI',\n",
       " 'reviews': [{'author_name': 'Jasmine',\n",
       "   'author_url': 'https://www.google.com/maps/contrib/107540512388806199302/reviews',\n",
       "   'language': 'en',\n",
       "   'original_language': 'en',\n",
       "   'profile_photo_url': 'https://lh3.googleusercontent.com/a-/ALV-UjUDLLTnEBSy9E0AgbIpiZTRGRmlnNXu9kewAWGbwBRiEuEYYLjD=s128-c0x00000000-cc-rp-mo-ba4',\n",
       "   'rating': 4,\n",
       "   'relative_time_description': 'in the last week',\n",
       "   'text': \"The Shedd Aquarium was a great place to gaze upon aquatic life and learn about the importance of taking care of these amazing creatures. The exterior of the building also has some hidden sea life motifs, which was very cool to spot. There are so many interesting creatures from jellyfish to turtles to beluga whales. The Shedd Aquarium is located close to the edge of Lake Michigan. If able, I highly recommend biking to the aquarium and taking the scenic lake path along Lake Michigan; it truly was an experience in and of itself, and there are many bike racks near the aquarium since it sits on the Museum Campus park.\\n\\nWhile inside the aquarium, I was pleasantly surprised by the variety of interactive experiences that were available. I was able to pet and feed stingrays (from May - October), watch beluga whales be trained, and even touch a starfish which I haven't done or seen before.\\n\\nThe gift shop was also really nice and had a lot of wonderful tokens for each of the main animals at the aquarium like the iconic octopus. Overall, I had a wonderful time and think this a great place for families and children to learn about the many sea creatures on our planet.\",\n",
       "   'time': 1728066611,\n",
       "   'translated': False},\n",
       "  {'author_name': 'Ken Baum',\n",
       "   'author_url': 'https://www.google.com/maps/contrib/117292269506168770452/reviews',\n",
       "   'profile_photo_url': 'https://lh3.googleusercontent.com/a-/ALV-UjVXTPc8FY7sOaIQo2mrIwFXBSuD0GMlls1AXFHbf8YySA_2OsX8=s128-c0x00000000-cc-rp-mo-ba6',\n",
       "   'rating': 5,\n",
       "   'relative_time_description': 'in the last week',\n",
       "   'text': '',\n",
       "   'time': 1727987254,\n",
       "   'translated': False},\n",
       "  {'author_name': 'Kevin cruz',\n",
       "   'author_url': 'https://www.google.com/maps/contrib/112538653667788086024/reviews',\n",
       "   'profile_photo_url': 'https://lh3.googleusercontent.com/a-/ALV-UjVoqrk3ASkfsKRMK6jBW-LuJagekyLRoaOZbFZArbxOwbL4vFM=s128-c0x00000000-cc-rp-mo-ba2',\n",
       "   'rating': 5,\n",
       "   'relative_time_description': 'in the last week',\n",
       "   'text': '',\n",
       "   'time': 1727891077,\n",
       "   'translated': False},\n",
       "  {'author_name': 'Denis Flores',\n",
       "   'author_url': 'https://www.google.com/maps/contrib/108798885056563320181/reviews',\n",
       "   'profile_photo_url': 'https://lh3.googleusercontent.com/a-/ALV-UjU9IiV5tJxkV3rqeeG1Iij97MaDWNxDgTFHpB_bKwuvULTuRjJJ=s128-c0x00000000-cc-rp-mo-ba4',\n",
       "   'rating': 5,\n",
       "   'relative_time_description': 'in the last week',\n",
       "   'text': '',\n",
       "   'time': 1727802822,\n",
       "   'translated': False},\n",
       "  {'author_name': 'Rick Bame',\n",
       "   'author_url': 'https://www.google.com/maps/contrib/117766244130466925375/reviews',\n",
       "   'language': 'en',\n",
       "   'original_language': 'en',\n",
       "   'profile_photo_url': 'https://lh3.googleusercontent.com/a-/ALV-UjWag5epXMG4cFBfkbQR2oDtdHspAmLv5CPyFySMhVJX81ExRa9i=s128-c0x00000000-cc-rp-mo-ba6',\n",
       "   'rating': 5,\n",
       "   'relative_time_description': 'in the last week',\n",
       "   'text': 'Shedd is awesome! I have been wanting to come here my entire life. I finally got the chance. That being said I do have a pretty big complaint. I purchased tickets and made reservations ahead of time and was not told that the aquarium was going to be closing early for a private event the day I was there. It is recommended that one spend 4-5 hours at Shedd to really see as much as possible for the full experience. I only got to spend 2.5 hours there. I was quite upset, as was my friend. Because of this, we were only able to see one show, none of the theater showtimes and obviously not everything the aquarium has to offer. Not the best first experience it could have been. It would be nice to have this rectified somehow.',\n",
       "   'time': 1727800775,\n",
       "   'translated': False}],\n",
       " 'types': ['aquarium',\n",
       "  'tourist_attraction',\n",
       "  'point_of_interest',\n",
       "  'establishment'],\n",
       " 'url': 'https://maps.google.com/?cid=3604460678809713631',\n",
       " 'user_ratings_total': 30187,\n",
       " 'utc_offset': -300,\n",
       " 'vicinity': '1200 South Dusable Lake Shore Drive, Chicago',\n",
       " 'website': 'https://www.sheddaquarium.org/',\n",
       " 'wheelchair_accessible_entrance': True}"
      ]
     },
     "execution_count": 62,
     "metadata": {},
     "output_type": "execute_result"
    }
   ],
   "source": [
    "sheddAquarium_detail['result']"
   ]
  },
  {
   "cell_type": "code",
   "execution_count": 75,
   "id": "9bb1a61a",
   "metadata": {},
   "outputs": [
    {
     "data": {
      "text/plain": [
       "{'business_status': 'OPERATIONAL',\n",
       " 'geometry': {'location': {'lat': 41.8826572, 'lng': -87.6233039},\n",
       "  'viewport': {'northeast': {'lat': 41.8840155802915,\n",
       "    'lng': -87.6222134197085},\n",
       "   'southwest': {'lat': 41.8813176197085, 'lng': -87.62491138029151}}},\n",
       " 'icon': 'https://maps.gstatic.com/mapfiles/place_api/icons/v1/png_71/generic_business-71.png',\n",
       " 'icon_background_color': '#7B9EB0',\n",
       " 'icon_mask_base_uri': 'https://maps.gstatic.com/mapfiles/place_api/icons/v2/generic_pinlet',\n",
       " 'name': 'Cloud Gate',\n",
       " 'opening_hours': {'open_now': True},\n",
       " 'photos': [{'height': 1000,\n",
       "   'html_attributions': ['<a href=\"https://maps.google.com/maps/contrib/114610628376887622359\">Еаликино Абинореал</a>'],\n",
       "   'photo_reference': 'AdCG2DOElXLetJuxzkNYiOFIOg9270ZDMEk9ibZ4JU6ZbVejbtCKv8M-tfPJ35-sbyyEluLNwh1ilvUbH2n39yenC6Dv7HDBp0yeoOBYsqv_Wu275ttiNhZcEB2ukfvqX0qIFRAOyF0uzqmHID5Zy-l3krV7iWSk4YhF97QiPEY_mOJRwHst',\n",
       "   'width': 1500}],\n",
       " 'place_id': 'ChIJ9Sszh6YsDogRUUo6zu8_TQY',\n",
       " 'plus_code': {'compound_code': 'V9MG+3M Chicago, IL, USA',\n",
       "  'global_code': '86HJV9MG+3M'},\n",
       " 'rating': 4.7,\n",
       " 'reference': 'ChIJ9Sszh6YsDogRUUo6zu8_TQY',\n",
       " 'scope': 'GOOGLE',\n",
       " 'types': ['tourist_attraction', 'point_of_interest', 'establishment'],\n",
       " 'user_ratings_total': 31455,\n",
       " 'vicinity': '201 East Randolph Street, Chicago'}"
      ]
     },
     "execution_count": 75,
     "metadata": {},
     "output_type": "execute_result"
    }
   ],
   "source": [
    "#get cloud gate\n",
    "cloudGate = places_result['results'][10]\n",
    "cloudGate"
   ]
  },
  {
   "cell_type": "code",
   "execution_count": 108,
   "id": "fef10747",
   "metadata": {},
   "outputs": [],
   "source": [
    "#try distance matrix\n",
    "origins = [\"place_id:ChIJ-XW3X2MrDogR3_tQ3-OdBTI\", \"place_id:ChIJ9Sszh6YsDogRUUo6zu8_TQY\"]\n",
    "destinations = [\"place_id:ChIJV0AwM30rDogR2sd-X0cgErU\", \"place_id:ChIJKXA7AlXTD4gRsvBFJ8wG9x4\"]\n",
    "\n",
    "# Request distance matrix\n",
    "matrix_result = gmap.distance_matrix(\n",
    "    origins=origins,\n",
    "    destinations=destinations,\n",
    "    mode=\"transit\",  # You can change this to \"walking\", \"bicycling\", \"transit\" etc.\n",
    "    departure_time=\"now\",  # Real-time traffic, use a timestamp for scheduled trips\n",
    "    units=\"imperial\"  # Use \"metric\" for metric units\n",
    ")"
   ]
  },
  {
   "cell_type": "code",
   "execution_count": 109,
   "id": "831ee8bb",
   "metadata": {
    "scrolled": true
   },
   "outputs": [
    {
     "data": {
      "text/plain": [
       "{'destination_addresses': ['1400 S Lake Shore Dr, Chicago, IL 60605, USA',\n",
       "  '220 E Chicago Ave, Chicago, IL 60611, USA'],\n",
       " 'origin_addresses': ['1200 S Dusable Lk Shr Dr, Chicago, IL 60605, USA',\n",
       "  '201 E Randolph St, Chicago, IL 60602, USA'],\n",
       " 'rows': [{'elements': [{'distance': {'text': '0.1 mi', 'value': 159},\n",
       "     'duration': {'text': '2 mins', 'value': 125},\n",
       "     'status': 'OK'},\n",
       "    {'distance': {'text': '3.1 mi', 'value': 4977},\n",
       "     'duration': {'text': '33 mins', 'value': 1951},\n",
       "     'status': 'OK'}]},\n",
       "  {'elements': [{'distance': {'text': '1.7 mi', 'value': 2739},\n",
       "     'duration': {'text': '18 mins', 'value': 1089},\n",
       "     'fare': {'currency': 'USD', 'text': '$3.75', 'value': 3.75},\n",
       "     'status': 'OK'},\n",
       "    {'distance': {'text': '1.3 mi', 'value': 2050},\n",
       "     'duration': {'text': '15 mins', 'value': 916},\n",
       "     'status': 'OK'}]}],\n",
       " 'status': 'OK'}"
      ]
     },
     "execution_count": 109,
     "metadata": {},
     "output_type": "execute_result"
    }
   ],
   "source": [
    "matrix_result"
   ]
  },
  {
   "cell_type": "code",
   "execution_count": 105,
   "id": "c8d466f8",
   "metadata": {},
   "outputs": [
    {
     "data": {
      "text/plain": [
       "{'business_status': 'OPERATIONAL',\n",
       " 'geometry': {'location': {'lat': 41.8972114, 'lng': -87.6209882},\n",
       "  'viewport': {'northeast': {'lat': 41.8985747302915,\n",
       "    'lng': -87.61938285000001},\n",
       "   'southwest': {'lat': 41.8958767697085, 'lng': -87.62265024999998}}},\n",
       " 'icon': 'https://maps.gstatic.com/mapfiles/place_api/icons/v1/png_71/museum-71.png',\n",
       " 'icon_background_color': '#13B5C7',\n",
       " 'icon_mask_base_uri': 'https://maps.gstatic.com/mapfiles/place_api/icons/v2/museum_pinlet',\n",
       " 'name': 'Museum Of Contemporary Art Chicago',\n",
       " 'opening_hours': {'open_now': True},\n",
       " 'photos': [{'height': 600,\n",
       "   'html_attributions': ['<a href=\"https://maps.google.com/maps/contrib/118439064822831179487\">Kieran John</a>'],\n",
       "   'photo_reference': 'AdCG2DMvRJoT9vCQU3vOfSX4wbBhlr2HnbOrpIKaQV1nymtgJE5P0vk-MFztVH40OoFPXcILkEVqh2AgtxRPMYdI9RoEv5NgTlVXZHb7fbUPCEvhssa-Uis8RWct7P2fvT0SbzjzL1TQyIUOLCBhihVvuSDPH-BQAEks52DgWdjQ4OVSRRup',\n",
       "   'width': 500}],\n",
       " 'place_id': 'ChIJKXA7AlXTD4gRsvBFJ8wG9x4',\n",
       " 'plus_code': {'compound_code': 'V9WH+VJ Chicago, IL, USA',\n",
       "  'global_code': '86HJV9WH+VJ'},\n",
       " 'rating': 4.4,\n",
       " 'reference': 'ChIJKXA7AlXTD4gRsvBFJ8wG9x4',\n",
       " 'scope': 'GOOGLE',\n",
       " 'types': ['tourist_attraction',\n",
       "  'museum',\n",
       "  'point_of_interest',\n",
       "  'establishment'],\n",
       " 'user_ratings_total': 5888,\n",
       " 'vicinity': '220 East Chicago Avenue, Chicago'}"
      ]
     },
     "execution_count": 105,
     "metadata": {},
     "output_type": "execute_result"
    }
   ],
   "source": [
    "places_result['results'][14]"
   ]
  },
  {
   "cell_type": "code",
   "execution_count": 90,
   "id": "2cef98c3",
   "metadata": {
    "scrolled": true
   },
   "outputs": [
    {
     "name": "stdout",
     "output_type": "stream",
     "text": [
      "From: 1200 S Dusable Lk Shr Dr, Chicago, IL 60605, USA To: 1400 S Lake Shore Dr, Chicago, IL 60605, USA\n",
      "Distance: 0.1 mi, Duration: 2 mins\n",
      "Duration in traffic: N/A\n",
      "From: 1200 S Dusable Lk Shr Dr, Chicago, IL 60605, USA To: 111 S Michigan Ave, Chicago, IL 60603, USA\n",
      "Distance: 1.4 mi, Duration: 15 mins\n",
      "Duration in traffic: N/A\n",
      "From: Millennium Park, Chicago, IL, USA To: 1400 S Lake Shore Dr, Chicago, IL 60605, USA\n",
      "Distance: 1.7 mi, Duration: 24 mins\n",
      "Duration in traffic: N/A\n",
      "From: Millennium Park, Chicago, IL, USA To: 111 S Michigan Ave, Chicago, IL 60603, USA\n",
      "Distance: 0.2 mi, Duration: 6 mins\n",
      "Duration in traffic: N/A\n"
     ]
    }
   ],
   "source": [
    "# Extract and print relevant details from the distance matrix response\n",
    "for i, origin in enumerate(matrix_result['origin_addresses']):\n",
    "    for j, destination in enumerate(matrix_result['destination_addresses']):\n",
    "        element = matrix_result['rows'][i]['elements'][j]\n",
    "        if element['status'] == 'OK':\n",
    "            print(f\"From: {origin} To: {destination}\")\n",
    "            print(f\"Distance: {element['distance']['text']}, Duration: {element['duration']['text']}\")\n",
    "            print(f\"Duration in traffic: {element.get('duration_in_traffic', {}).get('text', 'N/A')}\")\n",
    "        else:\n",
    "            print(f\"From: {origin} To: {destination} - {element['status']}\")"
   ]
  },
  {
   "cell_type": "markdown",
   "id": "548ec578",
   "metadata": {},
   "source": [
    "Use name to get place id"
   ]
  },
  {
   "cell_type": "code",
   "execution_count": null,
   "id": "86bf417a",
   "metadata": {},
   "outputs": [],
   "source": [
    "API_KEY= os.getenv('GOOGLE_MAP_API_KEY')\n",
    "gmap = googlemaps.Client(API_KEY)"
   ]
  },
  {
   "cell_type": "code",
   "execution_count": 8,
   "id": "86afe76b",
   "metadata": {},
   "outputs": [
    {
     "name": "stdout",
     "output_type": "stream",
     "text": [
      "{'candidates': [{'place_id': 'ChIJKQQQrGTExokRpOHLLAkvFNw'}], 'status': 'OK'}\n"
     ]
    }
   ],
   "source": [
    "response = gmap.find_place(input='Aloft Philadelphia Airport', input_type='textquery')\n",
    "pprint(response)"
   ]
  },
  {
   "cell_type": "code",
   "execution_count": 10,
   "id": "744763db",
   "metadata": {},
   "outputs": [
    {
     "name": "stdout",
     "output_type": "stream",
     "text": [
      "[{'address_components': [{'long_name': '4301',\n",
      "                          'short_name': '4301',\n",
      "                          'types': ['street_number']},\n",
      "                         {'long_name': 'Island Avenue',\n",
      "                          'short_name': 'Island Ave',\n",
      "                          'types': ['route']},\n",
      "                         {'long_name': 'Southwest Philadelphia',\n",
      "                          'short_name': 'Southwest Philadelphia',\n",
      "                          'types': ['neighborhood', 'political']},\n",
      "                         {'long_name': 'Philadelphia',\n",
      "                          'short_name': 'Philadelphia',\n",
      "                          'types': ['locality', 'political']},\n",
      "                         {'long_name': 'Philadelphia County',\n",
      "                          'short_name': 'Philadelphia County',\n",
      "                          'types': ['administrative_area_level_2',\n",
      "                                    'political']},\n",
      "                         {'long_name': 'Pennsylvania',\n",
      "                          'short_name': 'PA',\n",
      "                          'types': ['administrative_area_level_1',\n",
      "                                    'political']},\n",
      "                         {'long_name': 'United States',\n",
      "                          'short_name': 'US',\n",
      "                          'types': ['country', 'political']},\n",
      "                         {'long_name': '19153',\n",
      "                          'short_name': '19153',\n",
      "                          'types': ['postal_code']}],\n",
      "  'formatted_address': '4301 Island Ave, Philadelphia, PA 19153, USA',\n",
      "  'geometry': {'location': {'lat': 39.8911197, 'lng': -75.2338319},\n",
      "               'location_type': 'ROOFTOP',\n",
      "               'viewport': {'northeast': {'lat': 39.8925082302915,\n",
      "                                          'lng': -75.2323985697085},\n",
      "                            'southwest': {'lat': 39.8898102697085,\n",
      "                                          'lng': -75.2350965302915}}},\n",
      "  'partial_match': True,\n",
      "  'place_id': 'ChIJKQQQrGTExokRpOHLLAkvFNw',\n",
      "  'plus_code': {'compound_code': 'VQR8+CF Philadelphia, PA',\n",
      "                'global_code': '87F6VQR8+CF'},\n",
      "  'types': ['establishment', 'lodging', 'point_of_interest']}]\n"
     ]
    }
   ],
   "source": [
    "response = gmap.geocode('Aloft Philadelphia Airport')\n",
    "pprint(response)"
   ]
  },
  {
   "cell_type": "code",
   "execution_count": 11,
   "id": "08ade441",
   "metadata": {},
   "outputs": [
    {
     "name": "stdout",
     "output_type": "stream",
     "text": [
      "{'html_attributions': [], 'result': {'address_components': [{'long_name': '4301', 'short_name': '4301', 'types': ['street_number']}, {'long_name': 'Island Avenue', 'short_name': 'Island Ave', 'types': ['route']}, {'long_name': 'Southwest Philadelphia', 'short_name': 'Southwest Philadelphia', 'types': ['neighborhood', 'political']}, {'long_name': 'Philadelphia', 'short_name': 'Philadelphia', 'types': ['locality', 'political']}, {'long_name': 'Philadelphia County', 'short_name': 'Philadelphia County', 'types': ['administrative_area_level_2', 'political']}, {'long_name': 'Pennsylvania', 'short_name': 'PA', 'types': ['administrative_area_level_1', 'political']}, {'long_name': 'United States', 'short_name': 'US', 'types': ['country', 'political']}, {'long_name': '19153', 'short_name': '19153', 'types': ['postal_code']}], 'adr_address': '<span class=\"street-address\">4301 Island Ave</span>, <span class=\"locality\">Philadelphia</span>, <span class=\"region\">PA</span> <span class=\"postal-code\">19153</span>, <span class=\"country-name\">USA</span>', 'business_status': 'OPERATIONAL', 'editorial_summary': {'language': 'en', 'overview': 'Sleek airport hotel offering a stylish bar, a gym & an indoor pool, plus a free airport shuttle.'}, 'formatted_address': '4301 Island Ave, Philadelphia, PA 19153, USA', 'formatted_phone_number': '(267) 298-1700', 'geometry': {'location': {'lat': 39.8911197, 'lng': -75.2338319}, 'viewport': {'northeast': {'lat': 39.89250823029149, 'lng': -75.2323985697085}, 'southwest': {'lat': 39.88981026970849, 'lng': -75.2350965302915}}}, 'icon': 'https://maps.gstatic.com/mapfiles/place_api/icons/v1/png_71/lodging-71.png', 'icon_background_color': '#909CE1', 'icon_mask_base_uri': 'https://maps.gstatic.com/mapfiles/place_api/icons/v2/hotel_pinlet', 'international_phone_number': '+1 267-298-1700', 'name': 'Aloft Philadelphia Airport', 'photos': [{'height': 320, 'html_attributions': ['<a href=\"https://maps.google.com/maps/contrib/101679996967793542670\">Aloft Philadelphia Airport</a>'], 'photo_reference': 'AdCG2DPh60SPUXnW9m7Khn7Ou2NgU8fBFMdj-DVQITeUtR6w6PhnJ2lnNe1KIfBqTyQbbh6Ckm6jbqpfVREHAcOeENXhzjntUM9uPorPEv6uX4Q1kZpQ-8zC1Afexpnvr__PivHDiUUicuxZk5Z1KwBLCeeJCx0hIGiiFul2e25XY2efEg0P', 'width': 480}, {'height': 320, 'html_attributions': ['<a href=\"https://maps.google.com/maps/contrib/101679996967793542670\">Aloft Philadelphia Airport</a>'], 'photo_reference': 'AdCG2DO3fuDHg0f0EYNsLhvCCcjc7FkoEmsr5LvYWNuBjp5ESgXla4tskRQeK222MoZCYJdg2W9gc7X-jW_nKT3EgHYhiI7K6BySENHb8CVV3fVFzi--NhienXw5DQjnu9ZiXHwL9jEG0bUH4qPKq1OxFaGpckegmg3n1Hm0wu7bjjlxEdLa', 'width': 480}, {'height': 320, 'html_attributions': ['<a href=\"https://maps.google.com/maps/contrib/101679996967793542670\">Aloft Philadelphia Airport</a>'], 'photo_reference': 'AdCG2DNeGSzh47huOH0tV-K_aI6qWMxPeV25qtxX-0oS376Qzzhcu7dGAV3ItEXP1QgTp7J2nAVhwOKi9WanCR5wAwcjmqr1y5-ETrnnItTk3GF0UqQpP744t4D5irw9Qq0j_-oCGcCF05W_QNM3n3TZ8EGmG-bxwf7Uj7rAEz1Y0K5d-bYO', 'width': 480}, {'height': 320, 'html_attributions': ['<a href=\"https://maps.google.com/maps/contrib/101679996967793542670\">Aloft Philadelphia Airport</a>'], 'photo_reference': 'AdCG2DNpvzjtinCmFqsyCIs4dg-M5D_BF0qMZloXEQ6ScH9A1ISbQbLY2I4nCK6v5-_mH-a3gXhBRaN1wMivuNhdeqmX_aStJdhhGfzZk0O9BcTgB2zCHA5TMaSzGt-pK-MlPXl7XOFHoR2YH5vc8ur9u4JrzGVEddZeLcjZ2Xc4BzWAzPwe', 'width': 480}, {'height': 320, 'html_attributions': ['<a href=\"https://maps.google.com/maps/contrib/101679996967793542670\">Aloft Philadelphia Airport</a>'], 'photo_reference': 'AdCG2DOaRNhCp5lLwe9lIyfofdnjbFzeZAnLdemVlo7MqcPFd6EEgVjTNHq3ERnikg7kVId6IU8N1gRQ7yDoNdkX4-TGsb5X5-kDZsabiewM5DnnP4vrP2ceNX52JP5bfYDyepnR3C9QzSC2MufZ_8FC4O0WJ0QPiDTqNkpDZdifyjIXM1q5', 'width': 480}, {'height': 320, 'html_attributions': ['<a href=\"https://maps.google.com/maps/contrib/101679996967793542670\">Aloft Philadelphia Airport</a>'], 'photo_reference': 'AdCG2DMfO_H87oh9XN5olH9zJCc_b9YHH4h8h2XKymktlsa_N2Qh4hCiGCFylirvqaT4vJptcLlo2IPnndl8kMijFZV1L--CYqIJ7nk5pR7tei0eBfL_xwxaGFVRcUiu3Uf-s-V8rGCw_fSHCxloFLEHEPAWaJ9TVJXnlSyx7zJvER5opI4g', 'width': 480}, {'height': 320, 'html_attributions': ['<a href=\"https://maps.google.com/maps/contrib/101679996967793542670\">Aloft Philadelphia Airport</a>'], 'photo_reference': 'AdCG2DMoxuEMW1txSiDh8bv7DmyQ5bQ22g5BS1PKxtTZNXq13UjgVPWTGFA5J8zXKSNgf8X4B_ivkaeHfzZUtzeuyp4Bfaxcuev8Q67QSV8xVXnWi2B3PTtE4HzRMhCRIRNnToV97-yXG9Bl5TOOLwFeXMqPQKIB2-mZnGuBIPb_9V_dKGIx', 'width': 480}, {'height': 320, 'html_attributions': ['<a href=\"https://maps.google.com/maps/contrib/101679996967793542670\">Aloft Philadelphia Airport</a>'], 'photo_reference': 'AdCG2DM_UAcdFPZJ0tlpG8XC7gEPy2Q7TjkSzwMII73T1Fa-kt4YtDSuFPRpxQt0ilqDTdxQ5FzupYfIP7WJLsZq5FXTsXNo-lIH3LsV35bKdo7LCAaW8L0bNlS4cPo3HznlT02lTatmqip4x9hqA0Ksnoz7vYCs2Bcm1vG9lrzB4E5nf6eg', 'width': 480}, {'height': 320, 'html_attributions': ['<a href=\"https://maps.google.com/maps/contrib/101679996967793542670\">Aloft Philadelphia Airport</a>'], 'photo_reference': 'AdCG2DPdoojSYii9Yt6EsCSo3gtwbcqKreusfO6Xksf6D3jKxqJXQpb1Twdo4aS2YgT4cvnDJG0_r9bkscd6ZIM43S77-01ooG6Eo77kani2SsFADmiuWqN2cDBx_WugC31GpVv5ZiGQ9SWJmEOMxHCxGMUdyvQptuKOtVCHbmDJq4GkV-Fs', 'width': 480}, {'height': 320, 'html_attributions': ['<a href=\"https://maps.google.com/maps/contrib/101679996967793542670\">Aloft Philadelphia Airport</a>'], 'photo_reference': 'AdCG2DM5c-OtmAJUum31und156ThVbCzVwusa4dU4Uur9me9OZ4ILcMcewo0Ka5Y5q3b3K6P2tciGkqQaKJp-33eZ7s_30FalWOPRfxwwRJ2GsUgyi1enV2jEPUcsfrsR7V5ZMRfmyQoRuvtPqVtg6Avv5B0gtL-ACs2yeErT8FWPltTMosw', 'width': 480}], 'place_id': 'ChIJKQQQrGTExokRpOHLLAkvFNw', 'plus_code': {'compound_code': 'VQR8+CF Philadelphia, PA, USA', 'global_code': '87F6VQR8+CF'}, 'price_level': 2, 'rating': 3.8, 'reference': 'ChIJKQQQrGTExokRpOHLLAkvFNw', 'reviews': [{'author_name': 'Amy Ritter', 'author_url': 'https://www.google.com/maps/contrib/114672429035547644636/reviews', 'language': 'en', 'original_language': 'en', 'profile_photo_url': 'https://lh3.googleusercontent.com/a/ACg8ocKw7089u71bQKlLn1YAKY-TaniMUCM3omAbTBRuFK9pvXv6kw=s128-c0x00000000-cc-rp-mo-ba3', 'rating': 1, 'relative_time_description': '2 weeks ago', 'text': \"The location is good. And I checked in late after a delayed flight around 1130 but omg. First room I checked into had a broken syringe tip on the floor, a dirty towel in the shower and the counter dirty but somehow the bed made. Dirty carpets so I lugged everything back down and asked for a new room. Without apology for the inconvenience or even a shrug  I was given a key to a new room. It was slightly less disgusting but not much. Also the cover plate to the digital lock was broken so I had to use the metal lock which was fine but still the place is in total disrepair. The owner of the property should be ashamed. Marriott shouldn't allow it to stay under their branding until the remodel it. Dirty carpets and scuffed up damaged walls...beat up elevators. Just a mess. Human fluids on the carpet by the bed. Dust. Terrible stains and splatter on the curtains. Just GROSS. Then of course at 8 am housekeeping tries to enter to clean. It makes no actual sense.  I'll never stay there again. The morning staff were very kind though. That's about the only positive thing.\", 'time': 1728427353, 'translated': False}, {'author_name': 'Jennifer Miller', 'author_url': 'https://www.google.com/maps/contrib/107918555290558245143/reviews', 'language': 'en', 'original_language': 'en', 'profile_photo_url': 'https://lh3.googleusercontent.com/a/ACg8ocIvfdMOD4e4JMD2xOzy7L_k0uuQAY6qqWG7UG5IaNrrnUr9KA=s128-c0x00000000-cc-rp-mo', 'rating': 3, 'relative_time_description': 'a month ago', 'text': \"You're paying for the convenience of being close to the airport. The cost of the room was a bit much for what you actually get. The indoor pool was not heated and had an oil slick on the top of the water. The room had paint or wallpaper coming off. Small fridge right under the sink. No microwave unless you go down to the lobby. I love Aloft hotels but this one was not on point.\", 'time': 1726406321, 'translated': False}, {'author_name': 'Ron Godbey', 'author_url': 'https://www.google.com/maps/contrib/107837917638123546001/reviews', 'language': 'en', 'original_language': 'en', 'profile_photo_url': 'https://lh3.googleusercontent.com/a-/ALV-UjV-PbRzpWge3yPAWmzrsTLyE3jeH3R6k-qq2QE62O7tNMxoLEWh=s128-c0x00000000-cc-rp-mo-ba6', 'rating': 3, 'relative_time_description': 'a week ago', 'text': \"Check-in was smooth and greeted warmly. The rooms are dated and need some TLC. The TV is terrible only about half of the few channels they offer even work. Don't bring your firestick there isn't a place to plug in with 12 feet of TV. Which BTW is tiny... The lamp was beat up and sorta worked. Not up to Aloft standards and not up to Marriott standards either.\\nBut it's close to the Airport.\", 'time': 1728474922, 'translated': False}, {'author_name': 'matthew hewett', 'author_url': 'https://www.google.com/maps/contrib/112836244782179781876/reviews', 'language': 'en', 'original_language': 'en', 'profile_photo_url': 'https://lh3.googleusercontent.com/a/ACg8ocKiAigsLV-qDqiTW4P0tkeQHy9XdtfaFNTZnobNQAv_gK-dkA=s128-c0x00000000-cc-rp-mo-ba3', 'rating': 1, 'relative_time_description': '2 months ago', 'text': \"Location to the airport is great, service was great. We got a room on first floor. There is bare concrete visible in the hallway. Make me wonder what other problems there are.walls on the room are black. The lighting is horrible. The rugs look like they are older than I am. I'm 63. This is one of the worst rooms I've ever stayed in. I was afraid to let my clothes touch anything in the room.  The AC unit is loud. Profits over people.  The owner does not care, if they did, they'd take action. What do they care, they're laughing all the way to the bank.\\nContrast this review with the one for Hampton Inn, which delivered above and beyond.\", 'time': 1722229160, 'translated': False}, {'author_name': 'Esther Johnson', 'author_url': 'https://www.google.com/maps/contrib/101074386517517864806/reviews', 'language': 'en', 'original_language': 'en', 'profile_photo_url': 'https://lh3.googleusercontent.com/a/ACg8ocIeX8evyW4eL-3QRBGKY1uheCVrA_EDhdooiNpQ2rMDmMkAsQ=s128-c0x00000000-cc-rp-mo', 'rating': 5, 'relative_time_description': '3 months ago', 'text': 'Customer service is always great when I come there to stay. I was just recently there and the Bartender Ms.Robin is just wonderful. She created such a nice vibe for everyone. And her drinks are so darn good. I would give her a liquor choice and a flavor and she’ll create something spectacular.', 'time': 1721095985, 'translated': False}], 'types': ['lodging', 'point_of_interest', 'establishment'], 'url': 'https://maps.google.com/?cid=15858351904331129252', 'user_ratings_total': 1328, 'utc_offset': -240, 'vicinity': '4301 Island Avenue, Philadelphia', 'website': 'https://www.marriott.com/en-us/hotels/phlai-aloft-philadelphia-airport/overview/?scid=f2ae0541-1279-4f24-b197-a979c79310b0', 'wheelchair_accessible_entrance': True}, 'status': 'OK'}\n"
     ]
    }
   ],
   "source": [
    "place_id = 'ChIJKQQQrGTExokRpOHLLAkvFNw'\n",
    "detail = gmap.place(place_id= place_id)\n",
    "print(detail)"
   ]
  },
  {
   "cell_type": "code",
   "execution_count": 12,
   "id": "a7e0a472",
   "metadata": {},
   "outputs": [
    {
     "data": {
      "text/plain": [
       "{'html_attributions': [],\n",
       " 'result': {'address_components': [{'long_name': '4301',\n",
       "    'short_name': '4301',\n",
       "    'types': ['street_number']},\n",
       "   {'long_name': 'Island Avenue',\n",
       "    'short_name': 'Island Ave',\n",
       "    'types': ['route']},\n",
       "   {'long_name': 'Southwest Philadelphia',\n",
       "    'short_name': 'Southwest Philadelphia',\n",
       "    'types': ['neighborhood', 'political']},\n",
       "   {'long_name': 'Philadelphia',\n",
       "    'short_name': 'Philadelphia',\n",
       "    'types': ['locality', 'political']},\n",
       "   {'long_name': 'Philadelphia County',\n",
       "    'short_name': 'Philadelphia County',\n",
       "    'types': ['administrative_area_level_2', 'political']},\n",
       "   {'long_name': 'Pennsylvania',\n",
       "    'short_name': 'PA',\n",
       "    'types': ['administrative_area_level_1', 'political']},\n",
       "   {'long_name': 'United States',\n",
       "    'short_name': 'US',\n",
       "    'types': ['country', 'political']},\n",
       "   {'long_name': '19153', 'short_name': '19153', 'types': ['postal_code']}],\n",
       "  'adr_address': '<span class=\"street-address\">4301 Island Ave</span>, <span class=\"locality\">Philadelphia</span>, <span class=\"region\">PA</span> <span class=\"postal-code\">19153</span>, <span class=\"country-name\">USA</span>',\n",
       "  'business_status': 'OPERATIONAL',\n",
       "  'editorial_summary': {'language': 'en',\n",
       "   'overview': 'Sleek airport hotel offering a stylish bar, a gym & an indoor pool, plus a free airport shuttle.'},\n",
       "  'formatted_address': '4301 Island Ave, Philadelphia, PA 19153, USA',\n",
       "  'formatted_phone_number': '(267) 298-1700',\n",
       "  'geometry': {'location': {'lat': 39.8911197, 'lng': -75.2338319},\n",
       "   'viewport': {'northeast': {'lat': 39.89250823029149,\n",
       "     'lng': -75.2323985697085},\n",
       "    'southwest': {'lat': 39.88981026970849, 'lng': -75.2350965302915}}},\n",
       "  'icon': 'https://maps.gstatic.com/mapfiles/place_api/icons/v1/png_71/lodging-71.png',\n",
       "  'icon_background_color': '#909CE1',\n",
       "  'icon_mask_base_uri': 'https://maps.gstatic.com/mapfiles/place_api/icons/v2/hotel_pinlet',\n",
       "  'international_phone_number': '+1 267-298-1700',\n",
       "  'name': 'Aloft Philadelphia Airport',\n",
       "  'photos': [{'height': 320,\n",
       "    'html_attributions': ['<a href=\"https://maps.google.com/maps/contrib/101679996967793542670\">Aloft Philadelphia Airport</a>'],\n",
       "    'photo_reference': 'AdCG2DPh60SPUXnW9m7Khn7Ou2NgU8fBFMdj-DVQITeUtR6w6PhnJ2lnNe1KIfBqTyQbbh6Ckm6jbqpfVREHAcOeENXhzjntUM9uPorPEv6uX4Q1kZpQ-8zC1Afexpnvr__PivHDiUUicuxZk5Z1KwBLCeeJCx0hIGiiFul2e25XY2efEg0P',\n",
       "    'width': 480},\n",
       "   {'height': 320,\n",
       "    'html_attributions': ['<a href=\"https://maps.google.com/maps/contrib/101679996967793542670\">Aloft Philadelphia Airport</a>'],\n",
       "    'photo_reference': 'AdCG2DO3fuDHg0f0EYNsLhvCCcjc7FkoEmsr5LvYWNuBjp5ESgXla4tskRQeK222MoZCYJdg2W9gc7X-jW_nKT3EgHYhiI7K6BySENHb8CVV3fVFzi--NhienXw5DQjnu9ZiXHwL9jEG0bUH4qPKq1OxFaGpckegmg3n1Hm0wu7bjjlxEdLa',\n",
       "    'width': 480},\n",
       "   {'height': 320,\n",
       "    'html_attributions': ['<a href=\"https://maps.google.com/maps/contrib/101679996967793542670\">Aloft Philadelphia Airport</a>'],\n",
       "    'photo_reference': 'AdCG2DNeGSzh47huOH0tV-K_aI6qWMxPeV25qtxX-0oS376Qzzhcu7dGAV3ItEXP1QgTp7J2nAVhwOKi9WanCR5wAwcjmqr1y5-ETrnnItTk3GF0UqQpP744t4D5irw9Qq0j_-oCGcCF05W_QNM3n3TZ8EGmG-bxwf7Uj7rAEz1Y0K5d-bYO',\n",
       "    'width': 480},\n",
       "   {'height': 320,\n",
       "    'html_attributions': ['<a href=\"https://maps.google.com/maps/contrib/101679996967793542670\">Aloft Philadelphia Airport</a>'],\n",
       "    'photo_reference': 'AdCG2DNpvzjtinCmFqsyCIs4dg-M5D_BF0qMZloXEQ6ScH9A1ISbQbLY2I4nCK6v5-_mH-a3gXhBRaN1wMivuNhdeqmX_aStJdhhGfzZk0O9BcTgB2zCHA5TMaSzGt-pK-MlPXl7XOFHoR2YH5vc8ur9u4JrzGVEddZeLcjZ2Xc4BzWAzPwe',\n",
       "    'width': 480},\n",
       "   {'height': 320,\n",
       "    'html_attributions': ['<a href=\"https://maps.google.com/maps/contrib/101679996967793542670\">Aloft Philadelphia Airport</a>'],\n",
       "    'photo_reference': 'AdCG2DOaRNhCp5lLwe9lIyfofdnjbFzeZAnLdemVlo7MqcPFd6EEgVjTNHq3ERnikg7kVId6IU8N1gRQ7yDoNdkX4-TGsb5X5-kDZsabiewM5DnnP4vrP2ceNX52JP5bfYDyepnR3C9QzSC2MufZ_8FC4O0WJ0QPiDTqNkpDZdifyjIXM1q5',\n",
       "    'width': 480},\n",
       "   {'height': 320,\n",
       "    'html_attributions': ['<a href=\"https://maps.google.com/maps/contrib/101679996967793542670\">Aloft Philadelphia Airport</a>'],\n",
       "    'photo_reference': 'AdCG2DMfO_H87oh9XN5olH9zJCc_b9YHH4h8h2XKymktlsa_N2Qh4hCiGCFylirvqaT4vJptcLlo2IPnndl8kMijFZV1L--CYqIJ7nk5pR7tei0eBfL_xwxaGFVRcUiu3Uf-s-V8rGCw_fSHCxloFLEHEPAWaJ9TVJXnlSyx7zJvER5opI4g',\n",
       "    'width': 480},\n",
       "   {'height': 320,\n",
       "    'html_attributions': ['<a href=\"https://maps.google.com/maps/contrib/101679996967793542670\">Aloft Philadelphia Airport</a>'],\n",
       "    'photo_reference': 'AdCG2DMoxuEMW1txSiDh8bv7DmyQ5bQ22g5BS1PKxtTZNXq13UjgVPWTGFA5J8zXKSNgf8X4B_ivkaeHfzZUtzeuyp4Bfaxcuev8Q67QSV8xVXnWi2B3PTtE4HzRMhCRIRNnToV97-yXG9Bl5TOOLwFeXMqPQKIB2-mZnGuBIPb_9V_dKGIx',\n",
       "    'width': 480},\n",
       "   {'height': 320,\n",
       "    'html_attributions': ['<a href=\"https://maps.google.com/maps/contrib/101679996967793542670\">Aloft Philadelphia Airport</a>'],\n",
       "    'photo_reference': 'AdCG2DM_UAcdFPZJ0tlpG8XC7gEPy2Q7TjkSzwMII73T1Fa-kt4YtDSuFPRpxQt0ilqDTdxQ5FzupYfIP7WJLsZq5FXTsXNo-lIH3LsV35bKdo7LCAaW8L0bNlS4cPo3HznlT02lTatmqip4x9hqA0Ksnoz7vYCs2Bcm1vG9lrzB4E5nf6eg',\n",
       "    'width': 480},\n",
       "   {'height': 320,\n",
       "    'html_attributions': ['<a href=\"https://maps.google.com/maps/contrib/101679996967793542670\">Aloft Philadelphia Airport</a>'],\n",
       "    'photo_reference': 'AdCG2DPdoojSYii9Yt6EsCSo3gtwbcqKreusfO6Xksf6D3jKxqJXQpb1Twdo4aS2YgT4cvnDJG0_r9bkscd6ZIM43S77-01ooG6Eo77kani2SsFADmiuWqN2cDBx_WugC31GpVv5ZiGQ9SWJmEOMxHCxGMUdyvQptuKOtVCHbmDJq4GkV-Fs',\n",
       "    'width': 480},\n",
       "   {'height': 320,\n",
       "    'html_attributions': ['<a href=\"https://maps.google.com/maps/contrib/101679996967793542670\">Aloft Philadelphia Airport</a>'],\n",
       "    'photo_reference': 'AdCG2DM5c-OtmAJUum31und156ThVbCzVwusa4dU4Uur9me9OZ4ILcMcewo0Ka5Y5q3b3K6P2tciGkqQaKJp-33eZ7s_30FalWOPRfxwwRJ2GsUgyi1enV2jEPUcsfrsR7V5ZMRfmyQoRuvtPqVtg6Avv5B0gtL-ACs2yeErT8FWPltTMosw',\n",
       "    'width': 480}],\n",
       "  'place_id': 'ChIJKQQQrGTExokRpOHLLAkvFNw',\n",
       "  'plus_code': {'compound_code': 'VQR8+CF Philadelphia, PA, USA',\n",
       "   'global_code': '87F6VQR8+CF'},\n",
       "  'price_level': 2,\n",
       "  'rating': 3.8,\n",
       "  'reference': 'ChIJKQQQrGTExokRpOHLLAkvFNw',\n",
       "  'reviews': [{'author_name': 'Amy Ritter',\n",
       "    'author_url': 'https://www.google.com/maps/contrib/114672429035547644636/reviews',\n",
       "    'language': 'en',\n",
       "    'original_language': 'en',\n",
       "    'profile_photo_url': 'https://lh3.googleusercontent.com/a/ACg8ocKw7089u71bQKlLn1YAKY-TaniMUCM3omAbTBRuFK9pvXv6kw=s128-c0x00000000-cc-rp-mo-ba3',\n",
       "    'rating': 1,\n",
       "    'relative_time_description': '2 weeks ago',\n",
       "    'text': \"The location is good. And I checked in late after a delayed flight around 1130 but omg. First room I checked into had a broken syringe tip on the floor, a dirty towel in the shower and the counter dirty but somehow the bed made. Dirty carpets so I lugged everything back down and asked for a new room. Without apology for the inconvenience or even a shrug  I was given a key to a new room. It was slightly less disgusting but not much. Also the cover plate to the digital lock was broken so I had to use the metal lock which was fine but still the place is in total disrepair. The owner of the property should be ashamed. Marriott shouldn't allow it to stay under their branding until the remodel it. Dirty carpets and scuffed up damaged walls...beat up elevators. Just a mess. Human fluids on the carpet by the bed. Dust. Terrible stains and splatter on the curtains. Just GROSS. Then of course at 8 am housekeeping tries to enter to clean. It makes no actual sense.  I'll never stay there again. The morning staff were very kind though. That's about the only positive thing.\",\n",
       "    'time': 1728427353,\n",
       "    'translated': False},\n",
       "   {'author_name': 'Jennifer Miller',\n",
       "    'author_url': 'https://www.google.com/maps/contrib/107918555290558245143/reviews',\n",
       "    'language': 'en',\n",
       "    'original_language': 'en',\n",
       "    'profile_photo_url': 'https://lh3.googleusercontent.com/a/ACg8ocIvfdMOD4e4JMD2xOzy7L_k0uuQAY6qqWG7UG5IaNrrnUr9KA=s128-c0x00000000-cc-rp-mo',\n",
       "    'rating': 3,\n",
       "    'relative_time_description': 'a month ago',\n",
       "    'text': \"You're paying for the convenience of being close to the airport. The cost of the room was a bit much for what you actually get. The indoor pool was not heated and had an oil slick on the top of the water. The room had paint or wallpaper coming off. Small fridge right under the sink. No microwave unless you go down to the lobby. I love Aloft hotels but this one was not on point.\",\n",
       "    'time': 1726406321,\n",
       "    'translated': False},\n",
       "   {'author_name': 'Ron Godbey',\n",
       "    'author_url': 'https://www.google.com/maps/contrib/107837917638123546001/reviews',\n",
       "    'language': 'en',\n",
       "    'original_language': 'en',\n",
       "    'profile_photo_url': 'https://lh3.googleusercontent.com/a-/ALV-UjV-PbRzpWge3yPAWmzrsTLyE3jeH3R6k-qq2QE62O7tNMxoLEWh=s128-c0x00000000-cc-rp-mo-ba6',\n",
       "    'rating': 3,\n",
       "    'relative_time_description': 'a week ago',\n",
       "    'text': \"Check-in was smooth and greeted warmly. The rooms are dated and need some TLC. The TV is terrible only about half of the few channels they offer even work. Don't bring your firestick there isn't a place to plug in with 12 feet of TV. Which BTW is tiny... The lamp was beat up and sorta worked. Not up to Aloft standards and not up to Marriott standards either.\\nBut it's close to the Airport.\",\n",
       "    'time': 1728474922,\n",
       "    'translated': False},\n",
       "   {'author_name': 'matthew hewett',\n",
       "    'author_url': 'https://www.google.com/maps/contrib/112836244782179781876/reviews',\n",
       "    'language': 'en',\n",
       "    'original_language': 'en',\n",
       "    'profile_photo_url': 'https://lh3.googleusercontent.com/a/ACg8ocKiAigsLV-qDqiTW4P0tkeQHy9XdtfaFNTZnobNQAv_gK-dkA=s128-c0x00000000-cc-rp-mo-ba3',\n",
       "    'rating': 1,\n",
       "    'relative_time_description': '2 months ago',\n",
       "    'text': \"Location to the airport is great, service was great. We got a room on first floor. There is bare concrete visible in the hallway. Make me wonder what other problems there are.walls on the room are black. The lighting is horrible. The rugs look like they are older than I am. I'm 63. This is one of the worst rooms I've ever stayed in. I was afraid to let my clothes touch anything in the room.  The AC unit is loud. Profits over people.  The owner does not care, if they did, they'd take action. What do they care, they're laughing all the way to the bank.\\nContrast this review with the one for Hampton Inn, which delivered above and beyond.\",\n",
       "    'time': 1722229160,\n",
       "    'translated': False},\n",
       "   {'author_name': 'Esther Johnson',\n",
       "    'author_url': 'https://www.google.com/maps/contrib/101074386517517864806/reviews',\n",
       "    'language': 'en',\n",
       "    'original_language': 'en',\n",
       "    'profile_photo_url': 'https://lh3.googleusercontent.com/a/ACg8ocIeX8evyW4eL-3QRBGKY1uheCVrA_EDhdooiNpQ2rMDmMkAsQ=s128-c0x00000000-cc-rp-mo',\n",
       "    'rating': 5,\n",
       "    'relative_time_description': '3 months ago',\n",
       "    'text': 'Customer service is always great when I come there to stay. I was just recently there and the Bartender Ms.Robin is just wonderful. She created such a nice vibe for everyone. And her drinks are so darn good. I would give her a liquor choice and a flavor and she’ll create something spectacular.',\n",
       "    'time': 1721095985,\n",
       "    'translated': False}],\n",
       "  'types': ['lodging', 'point_of_interest', 'establishment'],\n",
       "  'url': 'https://maps.google.com/?cid=15858351904331129252',\n",
       "  'user_ratings_total': 1328,\n",
       "  'utc_offset': -240,\n",
       "  'vicinity': '4301 Island Avenue, Philadelphia',\n",
       "  'website': 'https://www.marriott.com/en-us/hotels/phlai-aloft-philadelphia-airport/overview/?scid=f2ae0541-1279-4f24-b197-a979c79310b0',\n",
       "  'wheelchair_accessible_entrance': True},\n",
       " 'status': 'OK'}"
      ]
     },
     "execution_count": 12,
     "metadata": {},
     "output_type": "execute_result"
    }
   ],
   "source": [
    "detail"
   ]
  },
  {
   "cell_type": "code",
   "execution_count": null,
   "id": "afb14f36",
   "metadata": {},
   "outputs": [],
   "source": []
  }
 ],
 "metadata": {
  "kernelspec": {
   "display_name": "pytorch",
   "language": "python",
   "name": "python3"
  },
  "language_info": {
   "codemirror_mode": {
    "name": "ipython",
    "version": 3
   },
   "file_extension": ".py",
   "mimetype": "text/x-python",
   "name": "python",
   "nbconvert_exporter": "python",
   "pygments_lexer": "ipython3",
   "version": "3.12.5"
  }
 },
 "nbformat": 4,
 "nbformat_minor": 5
}
