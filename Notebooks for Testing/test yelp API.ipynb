{
 "cells": [
  {
   "cell_type": "code",
   "execution_count": null,
   "metadata": {},
   "outputs": [],
   "source": [
    "import os\n",
    "import requests\n"
   ]
  },
  {
   "cell_type": "code",
   "execution_count": 9,
   "metadata": {},
   "outputs": [],
   "source": [
    "def get_business_details(api_key, business_id):\n",
    "    url = f\"https://api.yelp.com/v3/businesses/{business_id}\"\n",
    "    headers = {\"Authorization\": f\"Bearer {api_key}\"}\n",
    "    response = requests.get(url, headers=headers)\n",
    "    if response.status_code == 200:\n",
    "        business_data = response.json()\n",
    "        return business_data\n",
    "    else:\n",
    "        print(\"Error:\", response.status_code)\n",
    "        return None"
   ]
  },
  {
   "cell_type": "code",
   "execution_count": 10,
   "metadata": {},
   "outputs": [],
   "source": [
    "Yelp_api_key = os.getenv('YELP_API_KEY')\n",
    "business_id = \"FppJo5aymUsfOg68uTOipw\"  # replace with the actual business ID\n",
    "\n",
    "business_data = get_business_details(Yelp_api_key, business_id)"
   ]
  },
  {
   "cell_type": "code",
   "execution_count": 11,
   "metadata": {},
   "outputs": [
    {
     "data": {
      "text/plain": [
       "{'id': 'FppJo5aymUsfOg68uTOipw',\n",
       " 'alias': 'the-inn-at-the-union-league-philadelphia',\n",
       " 'name': 'The Inn at The Union League',\n",
       " 'image_url': 'https://s3-media2.fl.yelpcdn.com/bphoto/lhU2Hk5Nk-iNGv4DsxWY4A/o.jpg',\n",
       " 'is_claimed': True,\n",
       " 'is_closed': False,\n",
       " 'url': 'https://www.yelp.com/biz/the-inn-at-the-union-league-philadelphia?adjust_creative=7Qh2N9ByxbyIDRiutbihsw&utm_campaign=yelp_api_v3&utm_medium=api_v3_business_lookup&utm_source=7Qh2N9ByxbyIDRiutbihsw',\n",
       " 'phone': '+12155875570',\n",
       " 'display_phone': '(215) 587-5570',\n",
       " 'review_count': 20,\n",
       " 'categories': [{'alias': 'hotels', 'title': 'Hotels'}],\n",
       " 'rating': 3.4,\n",
       " 'location': {'address1': '1450 Sansom',\n",
       "  'address2': '',\n",
       "  'address3': None,\n",
       "  'city': 'Philadelphia',\n",
       "  'zip_code': '19103',\n",
       "  'country': 'US',\n",
       "  'state': 'PA',\n",
       "  'display_address': ['1450 Sansom', 'Philadelphia, PA 19103'],\n",
       "  'cross_streets': ''},\n",
       " 'coordinates': {'latitude': 39.950233053755, 'longitude': -75.165187408083},\n",
       " 'photos': [],\n",
       " 'price': '$$$',\n",
       " 'transactions': []}"
      ]
     },
     "execution_count": 11,
     "metadata": {},
     "output_type": "execute_result"
    }
   ],
   "source": [
    "business_data"
   ]
  },
  {
   "cell_type": "code",
   "execution_count": null,
   "metadata": {},
   "outputs": [],
   "source": []
  }
 ],
 "metadata": {
  "kernelspec": {
   "display_name": "pytorch",
   "language": "python",
   "name": "pytorch"
  },
  "language_info": {
   "codemirror_mode": {
    "name": "ipython",
    "version": 3
   },
   "file_extension": ".py",
   "mimetype": "text/x-python",
   "name": "python",
   "nbconvert_exporter": "python",
   "pygments_lexer": "ipython3",
   "version": "3.12.5"
  }
 },
 "nbformat": 4,
 "nbformat_minor": 2
}
