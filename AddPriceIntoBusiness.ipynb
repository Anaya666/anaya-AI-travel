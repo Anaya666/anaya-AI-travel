{
 "cells": [
  {
   "cell_type": "code",
   "execution_count": 1,
   "metadata": {},
   "outputs": [],
   "source": [
    "import numpy as np\n",
    "import pandas as pd\n",
    "import json\n",
    "import matplotlib.pyplot as plt\n",
    "from pprint import pprint\n",
    "import googlemaps\n",
    "import json\n",
    "import os\n",
    "import requests"
   ]
  },
  {
   "cell_type": "code",
   "execution_count": null,
   "metadata": {},
   "outputs": [],
   "source": [
    "API_KEY= os.getenv('GOOGLE_MAP_API_KEY')\n",
    "gmap = googlemaps.Client(API_KEY)"
   ]
  },
  {
   "cell_type": "code",
   "execution_count": 5,
   "metadata": {},
   "outputs": [],
   "source": [
    "hotels = []\n",
    "\n",
    "# Open the file and read it line by line\n",
    "with open('Datasets/Philadelphia_Hotels.jsonl', 'r') as file:\n",
    "    for line in file:\n",
    "        # Parse each line as a JSON object and append to the list\n",
    "        json_obj = json.loads(line.strip())  # strip() removes any leading/trailing whitespace\n",
    "        hotels.append(json_obj)"
   ]
  },
  {
   "cell_type": "code",
   "execution_count": 97,
   "metadata": {},
   "outputs": [
    {
     "name": "stdout",
     "output_type": "stream",
     "text": [
      "{'address': '1208 Walnut St',\n",
      " 'attributes': {'BusinessAcceptsCreditCards': 'True',\n",
      "                'RestaurantsPriceRange2': '2',\n",
      "                'WiFi': \"u'free'\"},\n",
      " 'business_id': 'n4Ns3xLRhpkRwglwiQGKVA',\n",
      " 'categories': 'Event Planning & Services, Hotels & Travel, Hotels',\n",
      " 'city': 'Philadelphia',\n",
      " 'hours': {'Friday': '0:0-0:0',\n",
      "           'Monday': '0:0-0:0',\n",
      "           'Saturday': '0:0-0:0',\n",
      "           'Sunday': '0:0-0:0',\n",
      "           'Thursday': '0:0-0:0',\n",
      "           'Tuesday': '0:0-0:0',\n",
      "           'Wednesday': '0:0-0:0'},\n",
      " 'is_open': 1,\n",
      " 'latitude': 39.948766,\n",
      " 'longitude': -75.161061,\n",
      " 'name': 'Rodeway Inn Center City',\n",
      " 'postal_code': '19107',\n",
      " 'review_count': 119,\n",
      " 'stars': 2.5,\n",
      " 'state': 'PA'}\n"
     ]
    }
   ],
   "source": [
    "pprint(hotels[10])"
   ]
  },
  {
   "cell_type": "code",
   "execution_count": 92,
   "metadata": {},
   "outputs": [
    {
     "name": "stdout",
     "output_type": "stream",
     "text": [
      "Best Western Center City, 501 N 22nd St, Philadelphia\n",
      "{'candidates': [{'formatted_address': '501 N 22nd St, Philadelphia, PA 19130, United States', 'name': 'Best Western Center City Hotel', 'place_id': 'ChIJXcugoMvHxokRTfET8k8ACXo'}], 'status': 'OK'}\n"
     ]
    }
   ],
   "source": [
    "#a working example\n",
    "name = 'Best Western Center City' #name + address + city\n",
    "address = '501 N 22nd St'\n",
    "city = 'Philadelphia'\n",
    "\n",
    "query = f'{name}, {address}, {city}'\n",
    "print(query)\n",
    "\n",
    "\n",
    "url = f'https://maps.googleapis.com/maps/api/place/findplacefromtext/json?fields=formatted_address%2Cname%2Cplace_id&input={query}&inputtype=textquery&key={API_KEY}'\n",
    "\n",
    "response = requests.get(url)\n",
    "\n",
    "if response.status_code == 200:\n",
    "    data = response.json()\n",
    "    print(data)\n",
    "else:\n",
    "    print(\"Error:\", response.status_code)"
   ]
  },
  {
   "cell_type": "code",
   "execution_count": 98,
   "metadata": {},
   "outputs": [
    {
     "name": "stdout",
     "output_type": "stream",
     "text": [
      "{'candidates': [{'formatted_address': '1208 Walnut St, Philadelphia, PA 19107, United States', 'name': 'Quality Inn - Center City', 'place_id': 'ChIJn3S9ub3HxokR5697EmTqp5U'}, {'formatted_address': '1208 Walnut St, Philadelphia, PA 19107, United States', 'name': 'Rodeway Inn Center City', 'place_id': 'ChIJPRoD-CXGxokR3XOibY2ErZc'}], 'status': 'OK'}\n"
     ]
    }
   ],
   "source": [
    "#try on a business that is closed already\n",
    "query = 'Rodeway Inn Center City, 1208 Walnut St, Philadelphia' #name + address + city\n",
    "\n",
    "url = f'https://maps.googleapis.com/maps/api/place/findplacefromtext/json?fields=name%2Cformatted_address%2Cplace_id&input={query}&inputtype=textquery&key={API_KEY}'\n",
    "\n",
    "response = requests.get(url)\n",
    "\n",
    "if response.status_code == 200:\n",
    "    data = response.json()\n",
    "    print(data)\n",
    "else:\n",
    "    print(\"Error:\", response.status_code)\n",
    "\n",
    "#it will return us the current business and the one before. We can just take the last one. "
   ]
  },
  {
   "cell_type": "code",
   "execution_count": 3,
   "metadata": {},
   "outputs": [
    {
     "name": "stdout",
     "output_type": "stream",
     "text": [
      "{'candidates': [{'formatted_address': '2033 Penrose Ave, Philadelphia, PA 19145, United States', 'name': 'Holiday Inn Philadelphia Arpt-Stadium Area, an IHG Hotel', 'place_id': 'ChIJ8QkIp9zFxokRq5byqpgOLeg'}, {'formatted_address': '2033 Penrose Ave, Philadelphia, PA 19145, United States', 'name': 'Radisson Hotel Philadelphia, PA', 'place_id': 'ChIJtaufYTHFxokR7RKXTt1Ysi4'}], 'status': 'OK'}\n"
     ]
    }
   ],
   "source": [
    "\n",
    "#try on a business that is closed already\n",
    "query = 'Skyview Plaza Hotel, 2033 Penrose Ave, Philadelphia' #name + address + city\n",
    "\n",
    "url = f'https://maps.googleapis.com/maps/api/place/findplacefromtext/json?fields=name%2Cformatted_address%2Cplace_id&input={query}&inputtype=textquery&key={API_KEY}'\n",
    "\n",
    "response = requests.get(url)\n",
    "\n",
    "if response.status_code == 200:\n",
    "    data = response.json()\n",
    "    print(data)\n",
    "else:\n",
    "    print(\"Error:\", response.status_code)\n",
    "\n",
    "#it will return us the current business and the one before. We can just take the last one. "
   ]
  },
  {
   "cell_type": "code",
   "execution_count": null,
   "metadata": {},
   "outputs": [],
   "source": []
  },
  {
   "cell_type": "code",
   "execution_count": 99,
   "metadata": {},
   "outputs": [
    {
     "data": {
      "text/plain": [
       "{'html_attributions': [],\n",
       " 'result': {'address_components': [{'long_name': '1208',\n",
       "    'short_name': '1208',\n",
       "    'types': ['street_number']},\n",
       "   {'long_name': 'Walnut Street',\n",
       "    'short_name': 'Walnut St',\n",
       "    'types': ['route']},\n",
       "   {'long_name': 'Washington Square West',\n",
       "    'short_name': 'Washington Square West',\n",
       "    'types': ['neighborhood', 'political']},\n",
       "   {'long_name': 'Philadelphia',\n",
       "    'short_name': 'Philadelphia',\n",
       "    'types': ['locality', 'political']},\n",
       "   {'long_name': 'Philadelphia County',\n",
       "    'short_name': 'Philadelphia County',\n",
       "    'types': ['administrative_area_level_2', 'political']},\n",
       "   {'long_name': 'Pennsylvania',\n",
       "    'short_name': 'PA',\n",
       "    'types': ['administrative_area_level_1', 'political']},\n",
       "   {'long_name': 'United States',\n",
       "    'short_name': 'US',\n",
       "    'types': ['country', 'political']},\n",
       "   {'long_name': '19107', 'short_name': '19107', 'types': ['postal_code']}],\n",
       "  'adr_address': '<span class=\"street-address\">1208 Walnut St</span>, <span class=\"locality\">Philadelphia</span>, <span class=\"region\">PA</span> <span class=\"postal-code\">19107</span>, <span class=\"country-name\">USA</span>',\n",
       "  'business_status': 'CLOSED_PERMANENTLY',\n",
       "  'editorial_summary': {'language': 'en',\n",
       "   'overview': 'Understated budget lodging with a fitness room & a business center, plus free Wi-Fi.'},\n",
       "  'formatted_address': '1208 Walnut St, Philadelphia, PA 19107, USA',\n",
       "  'geometry': {'location': {'lat': 39.948766, 'lng': -75.1610692},\n",
       "   'viewport': {'northeast': {'lat': 39.9502068802915,\n",
       "     'lng': -75.1596887697085},\n",
       "    'southwest': {'lat': 39.9475089197085, 'lng': -75.16238673029152}}},\n",
       "  'icon': 'https://maps.gstatic.com/mapfiles/place_api/icons/v1/png_71/lodging-71.png',\n",
       "  'icon_background_color': '#909CE1',\n",
       "  'icon_mask_base_uri': 'https://maps.gstatic.com/mapfiles/place_api/icons/v2/hotel_pinlet',\n",
       "  'name': 'Rodeway Inn Center City',\n",
       "  'permanently_closed': True,\n",
       "  'photos': [{'height': 3120,\n",
       "    'html_attributions': ['<a href=\"https://maps.google.com/maps/contrib/105243812891822292721\">Erik Johansen</a>'],\n",
       "    'photo_reference': 'AdCG2DNP7omBug9vQzTq0ijwFNiqowJSxer8jCrVlrvZRnd_k3FciVydY0F6zwFggiqIp-kocbm1WQfd9WdTFFimZkcZJkf6XwccuGSmt9wHmDPGd7BixpmxVEznEDPCWkjVuop4NR6GxJfOYPDYj_ZHiscp1yRMr6I6MN1qwDuBWDiQr3Oh',\n",
       "    'width': 4160},\n",
       "   {'height': 1836,\n",
       "    'html_attributions': ['<a href=\"https://maps.google.com/maps/contrib/105634868648602780727\">Sal Hanna</a>'],\n",
       "    'photo_reference': 'AdCG2DMGJ1WO-QdKXsLSCBzVstnieLWS5V8-fQdgyKbbN1K7KlQwptmOnLIco1HOLINm_dI5aBz5DT5uY1NfN9ma6bXCPPF9uMM2lhvr25zhAZnu415lbTo8o5wxCxjoyBAyqHB5V6WxK7fjNF6aQN8s4QgCulVUke7YBwYCH1pyJpnR7dYw',\n",
       "    'width': 3264},\n",
       "   {'height': 4032,\n",
       "    'html_attributions': ['<a href=\"https://maps.google.com/maps/contrib/110065854295757161776\">Rashmi Shantharam</a>'],\n",
       "    'photo_reference': 'AdCG2DN1cE8TU2PbWdDDA05oMwK8BUXmY2Wr_6pZlToG9HQKq1EOTg-pEwDF8txN3Eihj75DZs65szGPVRLv1Y5cwAlQPIqJhNi1VJPadcs4VqfZ723NSQSbouVCp-LxDX7opDikmIuTaI82t__DXFyI0Hg6jMX542II4_U9fZWDiiNo0uyn',\n",
       "    'width': 2268},\n",
       "   {'height': 2048,\n",
       "    'html_attributions': ['<a href=\"https://maps.google.com/maps/contrib/103622658818999338577\">Wilder Eagle Sky</a>'],\n",
       "    'photo_reference': 'AdCG2DOjK7FCDjG5wUy0njh0WHj3ne6eU-Mtc6sCnNoqzBGwEiZtz4YN96dxzYw--EvzxWUK35xCZAoAJbc3jTjD5XwgxbraYpjfNfoR8EqdPHinAUmL6T0VOdJGSNNH3KMqirUIoHSJgOaZsYCb2xF7Sxe2HpTPi9ae5RZfSNFIHjmUNxeI',\n",
       "    'width': 1536},\n",
       "   {'height': 1836,\n",
       "    'html_attributions': ['<a href=\"https://maps.google.com/maps/contrib/110673911109076664956\">Rev. Greg Ellis</a>'],\n",
       "    'photo_reference': 'AdCG2DOGUgWFp-vdsAt7O0AbrevuZKtj_0s4dbJU9IUTlq1BIXM608lUi6EM_8p3a0sHfe9_rkMpNwJxfMCBUcSMl5JrRsJna3kaXhtr6TcHAB1i2S9-4nBqBBz3cXwUh2MG2KNWciibd40hekVqwU2B7JKZIc8BjKQDH-I0PSYqKiy-tk6V',\n",
       "    'width': 3264},\n",
       "   {'height': 3024,\n",
       "    'html_attributions': ['<a href=\"https://maps.google.com/maps/contrib/115344254970398623556\">koo</a>'],\n",
       "    'photo_reference': 'AdCG2DMXIgaRhEH-8BOU1c85AE4z7O3WYLJfgizw-8zdDkh__f56Q5zBzGFr3Ykbyggcu8yer7rF5n1urQEwahEPofH-YFfWbHm4M0wL4ddz97s5i_Fd5_wz8ss5BuwZsEBjVEur3rJTyu7ykH1sxm0epSVnd2W4usDQ2eJOSBJdVIBYwynG',\n",
       "    'width': 4032},\n",
       "   {'height': 3036,\n",
       "    'html_attributions': ['<a href=\"https://maps.google.com/maps/contrib/111729030788532373753\">Kevin Mullins</a>'],\n",
       "    'photo_reference': 'AdCG2DMC4lTSnhqoq85AV5Wqkb9z-uJdyHq8b-iGQf0GozKnD7Dj-MqZLZ0iTZk5f0IVqSCOXIIdWsOiF_1jB4idLIj2VhPAnYUyCyLvQEWNrSLq1VndAvLGFz17WPF9DEyA_aK72Q1X0CJ7XxbwrIBePQrGeB9mc1C2WzK4As4eidsq6tNU',\n",
       "    'width': 4048},\n",
       "   {'height': 4032,\n",
       "    'html_attributions': ['<a href=\"https://maps.google.com/maps/contrib/112337178497108434096\">Gregorio Feldman Sánchez</a>'],\n",
       "    'photo_reference': 'AdCG2DMBmd_fImxrcrOj9M8JSy1TClWMHl-Zzo4LB3WlvIWBywk1wRShYFIapa0xPoMMKhknbdkFJ6UcE7Hp8KhFA3L55lEHmmIL-3T8_rPMc8GMJwHRW69fhgPDbIKAqycm8SG0Z4CWWOG59NkPmsaxvTfcBys0-MTNIGCvVcr_8jPzU5Ct',\n",
       "    'width': 3024},\n",
       "   {'height': 2988,\n",
       "    'html_attributions': ['<a href=\"https://maps.google.com/maps/contrib/100093575728698923019\">Michael Mcdonel</a>'],\n",
       "    'photo_reference': 'AdCG2DMRkWTqp1Se5kbPYR7xDpJY9dcl6Uoe2Ee3q99ZRI7HXtMm6y_ELK4G_Jq_7ndEsXVfxdC2vDo7jU-5jmD1btGwgRXeMuh5krq31LQIe43XYiNrgNpUMSUpDtew_ha4MmvJmPiC98L7VfB9yoKRdORyvnFls1lKSgtnqlOQu7espeLu',\n",
       "    'width': 5312},\n",
       "   {'height': 2970,\n",
       "    'html_attributions': ['<a href=\"https://maps.google.com/maps/contrib/107889779549179281395\">Gothic Serpant-99</a>'],\n",
       "    'photo_reference': 'AdCG2DPFY29mT8HWr7ZvxUQ5SSDyuPgCBdBFMQ_YFJiCnCJBGF3J-_JTOU7u-hV_smELCi_OJug6vd5yGvP-9ZZ-y-qZ8GtklUlRGs06coEvGeNUTrx2x9Zv_fq2xl22V0fLfzXnD-7l58d4NvKW3oFhfmViZuux0oZUerqh8nmsGp5P_-hT',\n",
       "    'width': 2301}],\n",
       "  'place_id': 'ChIJPRoD-CXGxokR3XOibY2ErZc',\n",
       "  'plus_code': {'compound_code': 'WRXQ+GH Philadelphia, PA, USA',\n",
       "   'global_code': '87F6WRXQ+GH'},\n",
       "  'rating': 3.3,\n",
       "  'reference': 'ChIJPRoD-CXGxokR3XOibY2ErZc',\n",
       "  'reviews': [{'author_name': 'Jazzmine Dise',\n",
       "    'author_url': 'https://www.google.com/maps/contrib/104584268382223052190/reviews',\n",
       "    'language': 'en',\n",
       "    'original_language': 'en',\n",
       "    'profile_photo_url': 'https://lh3.googleusercontent.com/a-/ALV-UjWqZrk3jooVd0GzkJaByZMCFULKiM97JQgFtVnN6YbSgKYiTbVQ=s128-c0x00000000-cc-rp-mo',\n",
       "    'rating': 5,\n",
       "    'relative_time_description': '7 years ago',\n",
       "    'text': \"Wonderful staff (very friendly, welcoming and helpful), great location, short walking distance from a lot of fun places, parking prices are better than the other places I looked into and the price for staying in the hotel is great! The room was wonderful! Clean and comfortable. I loved the shower and bed and the fact that they had a coffee machine in the room and a mini fridge so I could put my leftovers in it. My only complaint is that the bathroom was freezing the entire time we were there. But overall I'm so happy with my experience.\",\n",
       "    'time': 1488859205,\n",
       "    'translated': False},\n",
       "   {'author_name': 'Lourdes MacDonald',\n",
       "    'author_url': 'https://www.google.com/maps/contrib/109777094326553161474/reviews',\n",
       "    'language': 'en',\n",
       "    'original_language': 'en',\n",
       "    'profile_photo_url': 'https://lh3.googleusercontent.com/a-/ALV-UjVP1QGdkWMq-aATauAaNKD62nIaSBroYklnveuV_LlY5FboZug=s128-c0x00000000-cc-rp-mo',\n",
       "    'rating': 5,\n",
       "    'relative_time_description': '5 years ago',\n",
       "    'text': \"I reserved two rooms, I requested rooms side by side. When we arrive the young man staff mentioned that there was a problem with one of the rooms, so he put us in the Penthouse suite, without extra charge. Both rooms were very comfortable, very nice and clean. Loved the old fashion, modern feel about this hotel.  It's right on downtown walking distance to the trains. Parking was a breezy to find they validate. The only thing that I to complain is the cold bathroom! Maybe because I'm from Miami and not use to the cold weather,  I found that the bathroom was very cold!  I feel that they should have a heater in there. I recommend this place and will stay again when I visit Philly.\",\n",
       "    'time': 1552177490,\n",
       "    'translated': False},\n",
       "   {'author_name': 'Danielle Mason',\n",
       "    'author_url': 'https://www.google.com/maps/contrib/106806314583831894353/reviews',\n",
       "    'language': 'en',\n",
       "    'original_language': 'en',\n",
       "    'profile_photo_url': 'https://lh3.googleusercontent.com/a/ACg8ocLPJCzA-UNAPfJemRLB2dRKLP3sGn-lDyYouMgmIX3p9JwJyg=s128-c0x00000000-cc-rp-mo-ba3',\n",
       "    'rating': 1,\n",
       "    'relative_time_description': '5 years ago',\n",
       "    'text': 'This was such a let down. I planned a weekend getaway in the city and choose this \"hotel\" because it looked cute and cozy. BIG MISTAKE, HUGE. The staff, while friendly are very unprofessional. The room smelled like stale whatever and bug spray. They had the heat set to a  roasting 80+ degrees. The window in the room opened up to a filthy shaft of some sort. The tile in the bathroom needs cleaned ASAP the scum and mildew turned it black...ugh! ...so these were the mildly annoying issues. What truly disgusted me, made me just never ever want to return...was housekeeping... waking us up on a Saturday morning at 9 am to clean the room I just checked into the night before. 9 am on a Saturday...When we told them we were still asleep they proceeded to knock hourly until we  went out! What are you people doing? This was a deplorable \"hotel\" please never stay here!',\n",
       "    'time': 1541208979,\n",
       "    'translated': False},\n",
       "   {'author_name': 'J d',\n",
       "    'author_url': 'https://www.google.com/maps/contrib/108851220145512511130/reviews',\n",
       "    'language': 'en',\n",
       "    'original_language': 'en',\n",
       "    'profile_photo_url': 'https://lh3.googleusercontent.com/a/ACg8ocJR7VelBV239Q93nnbgQNWqDVK63u7qhU1bxDQVpHEGy-MS9g=s128-c0x00000000-cc-rp-mo-ba3',\n",
       "    'rating': 2,\n",
       "    'relative_time_description': '4 years ago',\n",
       "    'text': \"Great location, if you have an oversized vehicle parking can be a hassle. Room could definitely have been cleaner but it wasn't terrible and smelled fine. Didn't see any bugs and I always look. Day staff was very friendly, late night staff should find sonething else to do. When it comes down to it, I really enjoyed the hotel and Philly. The hotel is old and has character, just like the city. I liked the narrow stairs and halls. Kind of connects you to the past, while you wonder who has walked those halls before. I would definitely stay here again if I didn't have an oversized vehicle. I did mail two packages there and both came up missing never to be found.\",\n",
       "    'time': 1602602857,\n",
       "    'translated': False},\n",
       "   {'author_name': 'Brian Peterson',\n",
       "    'author_url': 'https://www.google.com/maps/contrib/112558898321671424316/reviews',\n",
       "    'language': 'en',\n",
       "    'original_language': 'en',\n",
       "    'profile_photo_url': 'https://lh3.googleusercontent.com/a-/ALV-UjXAZxQMwf2hKps3_7j8Hvf3a-LBzZauDtmB_AcLwxz3ijrJ36Q=s128-c0x00000000-cc-rp-mo',\n",
       "    'rating': 3,\n",
       "    'relative_time_description': '6 years ago',\n",
       "    'text': \"The hotel's location can't be beat. it is near great restaurants, night life, and the convention center. It is in a refurbished old mansion, so the proportions are odd and frankly very small. They have spent money in renovating and making it pleasant to stay in. However there are a couple of points I want to make for future guests at this hotel:\\n\\n1) The rooms are very small. My room didn't have a closet to hang clothes in (despite having a fridge and a microwave, weird). I had to drape my suits over a chair to store them. I also didn't have a phone in my room so I had to go talk to the front desk for any problems\\n\\n2) The walls are so thin as to practically not be there. I was kept awake by my next door neighbor's whispered phone conversations. He was a nice guy it seems, really loves his kids.\\n\\n3) My bathroom was across the hall and required my door key to get into. And it was very very small. I had to sit sideways on the toilet with my knees in the shower because it was so small. The bathroom situation actually didn't bother me too much because I don't mind walking across a hall in a towel. If I were a woman or more modest it might have been an issue\\n\\n4) No air control in the room. When I got to my room it was almost 90 degrees and I searched to no avail for at least a window unit. Fortunately the people at the front desk (remember I had to walk down because no phone) were very nice and when I came back from dinner the entire floor felt much cooler.\\n\\nOverall I will probably stay here again just because of the price and location. But now I know to go in with a mindset that it will be kind of like camping in a tent in the inner city Philadelphia.\",\n",
       "    'time': 1539051723,\n",
       "    'translated': False}],\n",
       "  'types': ['lodging', 'point_of_interest', 'establishment'],\n",
       "  'url': 'https://maps.google.com/?cid=10929537613662680029',\n",
       "  'user_ratings_total': 429,\n",
       "  'utc_offset': -240,\n",
       "  'vicinity': '1208 Walnut Street, Philadelphia',\n",
       "  'wheelchair_accessible_entrance': True},\n",
       " 'status': 'OK'}"
      ]
     },
     "execution_count": 99,
     "metadata": {},
     "output_type": "execute_result"
    }
   ],
   "source": [
    "place_id = 'ChIJPRoD-CXGxokR3XOibY2ErZc'\n",
    "response = gmap.place(place_id = place_id)\n",
    "\n",
    "response\n",
    "\n",
    "\n",
    "# if the id of a permantly closed business is passed into place, it won;t show the price_level, but the permantly closed attribute is true. So we can filter out them."
   ]
  },
  {
   "cell_type": "code",
   "execution_count": null,
   "metadata": {},
   "outputs": [],
   "source": []
  }
 ],
 "metadata": {
  "kernelspec": {
   "display_name": "pytorch",
   "language": "python",
   "name": "pytorch"
  },
  "language_info": {
   "codemirror_mode": {
    "name": "ipython",
    "version": 3
   },
   "file_extension": ".py",
   "mimetype": "text/x-python",
   "name": "python",
   "nbconvert_exporter": "python",
   "pygments_lexer": "ipython3",
   "version": "3.12.5"
  }
 },
 "nbformat": 4,
 "nbformat_minor": 2
}
