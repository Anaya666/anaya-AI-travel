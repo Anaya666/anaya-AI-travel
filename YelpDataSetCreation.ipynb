{
 "cells": [
  {
   "cell_type": "markdown",
   "metadata": {},
   "source": [
    "Parse JSON for only Phil"
   ]
  },
  {
   "cell_type": "code",
   "execution_count": 7,
   "metadata": {},
   "outputs": [],
   "source": [
    "import numpy as np\n",
    "import pandas as pd\n",
    "import json\n",
    "import matplotlib.pyplot as plt"
   ]
  },
  {
   "cell_type": "code",
   "execution_count": 3,
   "metadata": {},
   "outputs": [],
   "source": [
    "json_array = []\n",
    "\n",
    "# Open the file and read it line by line\n",
    "with open('yelp_academic_dataset_business.json', 'r') as file:\n",
    "    for line in file:\n",
    "        # Parse each line as a JSON object and append to the list\n",
    "        json_obj = json.loads(line.strip())  # strip() removes any leading/trailing whitespace\n",
    "        json_array.append(json_obj)"
   ]
  },
  {
   "cell_type": "code",
   "execution_count": null,
   "metadata": {},
   "outputs": [],
   "source": [
    "Phil_only = [obj for obj in json_array if obj['city'] == 'Philadelphia']\n",
    "len(Phil_only)"
   ]
  },
  {
   "cell_type": "code",
   "execution_count": 5,
   "metadata": {},
   "outputs": [],
   "source": [
    "with open('Philadelphia.jsonl', 'w') as json_file:\n",
    "    for item in Phil_only:\n",
    "        json.dump(item, json_file)\n",
    "        json_file.write('\\n') "
   ]
  },
  {
   "cell_type": "markdown",
   "metadata": {},
   "source": [
    "Hotel for Phil"
   ]
  },
  {
   "cell_type": "code",
   "execution_count": 6,
   "metadata": {},
   "outputs": [],
   "source": [
    "Phil_hotel = []\n",
    "for obj in Phil_only:\n",
    "    if(obj['categories']):\n",
    "        for i in obj['categories'].strip().split(','):\n",
    "            if i == ' Hotels' or i == 'Hotels':\n",
    "                Phil_hotel.append(obj)"
   ]
  },
  {
   "cell_type": "code",
   "execution_count": 7,
   "metadata": {},
   "outputs": [],
   "source": [
    "with open('Philadelphia_Hotels.jsonl', 'w') as json_file:\n",
    "    for item in Phil_hotel:\n",
    "        json.dump(item, json_file)\n",
    "        json_file.write('\\n') "
   ]
  },
  {
   "cell_type": "markdown",
   "metadata": {},
   "source": [
    "Resturants"
   ]
  },
  {
   "cell_type": "code",
   "execution_count": 8,
   "metadata": {},
   "outputs": [],
   "source": [
    "Phil_restaurant = []\n",
    "for obj in Phil_only:\n",
    "    if(obj['categories']):\n",
    "        if ('Restaurants' in obj['categories'].strip()) or (' Restaurants' in obj['categories'].strip()):\n",
    "            Phil_restaurant.append(obj)"
   ]
  },
  {
   "cell_type": "code",
   "execution_count": 9,
   "metadata": {},
   "outputs": [],
   "source": [
    "with open('Philadelphia_Restaurants.jsonl', 'w') as json_file:\n",
    "    for item in Phil_restaurant:\n",
    "        json.dump(item, json_file)\n",
    "        json_file.write('\\n') "
   ]
  },
  {
   "cell_type": "markdown",
   "metadata": {},
   "source": [
    "Attractions"
   ]
  },
  {
   "cell_type": "code",
   "execution_count": 10,
   "metadata": {},
   "outputs": [],
   "source": [
    "Phil_attractions = []\n",
    "seen = set()"
   ]
  },
  {
   "cell_type": "markdown",
   "metadata": {},
   "source": [
    "1. museum"
   ]
  },
  {
   "cell_type": "code",
   "execution_count": null,
   "metadata": {},
   "outputs": [],
   "source": [
    "for obj in Phil_only:\n",
    "    if(obj['categories']):\n",
    "        if ('Museums' in obj['categories'].strip().split(',')) or (' Museums' in obj['categories'].strip().split(',')):\n",
    "            identifier = obj['business_id']\n",
    "            if identifier not in seen:\n",
    "                seen.add(identifier)\n",
    "                Phil_attractions.append(obj)\n",
    "print(f'new record: {len(Phil_attractions)}')"
   ]
  },
  {
   "cell_type": "markdown",
   "metadata": {},
   "source": [
    "2. Park"
   ]
  },
  {
   "cell_type": "code",
   "execution_count": null,
   "metadata": {},
   "outputs": [],
   "source": [
    "for obj in Phil_only:\n",
    "    if(obj['categories']):\n",
    "        if ('Parks' in obj['categories'].strip().split(',')) or (' Parks' in obj['categories'].strip().split(',')):\n",
    "            identifier = obj['business_id']\n",
    "            if identifier not in seen:\n",
    "                seen.add(identifier)\n",
    "                Phil_attractions.append(obj)\n",
    "print(f'new record: {len(Phil_attractions)}')"
   ]
  },
  {
   "cell_type": "markdown",
   "metadata": {},
   "source": [
    "3.Local Flavor"
   ]
  },
  {
   "cell_type": "code",
   "execution_count": null,
   "metadata": {},
   "outputs": [],
   "source": [
    "for obj in Phil_only:\n",
    "    if(obj['categories']):\n",
    "        if ('Local Flavor' in obj['categories'].strip().split(',')) or (' Local Flavor' in obj['categories'].strip().split(',')):\n",
    "            identifier = obj['business_id']\n",
    "            if identifier not in seen:\n",
    "                seen.add(identifier)\n",
    "                Phil_attractions.append(obj)\n",
    "print(f'new record: {len(Phil_attractions)}')"
   ]
  },
  {
   "cell_type": "markdown",
   "metadata": {},
   "source": [
    "4. Zoo"
   ]
  },
  {
   "cell_type": "code",
   "execution_count": null,
   "metadata": {},
   "outputs": [],
   "source": [
    "for obj in Phil_only:\n",
    "    if(obj['categories']):\n",
    "        if ('Zoos' in obj['categories'].strip().split(',')) or (' Zoos' in obj['categories'].strip().split(',')):\n",
    "            identifier = obj['business_id']\n",
    "            if identifier not in seen:\n",
    "                seen.add(identifier)\n",
    "                Phil_attractions.append(obj)\n",
    "print(f'new record: {len(Phil_attractions)}')"
   ]
  },
  {
   "cell_type": "markdown",
   "metadata": {},
   "source": [
    "5. Tours"
   ]
  },
  {
   "cell_type": "code",
   "execution_count": null,
   "metadata": {},
   "outputs": [],
   "source": [
    "for obj in Phil_only:\n",
    "    if(obj['categories']):\n",
    "        if ('Tours' in obj['categories'].strip().split(',')) or (' Tours' in obj['categories'].strip().split(',')):\n",
    "            identifier = obj['business_id']\n",
    "            if identifier not in seen:\n",
    "                seen.add(identifier)\n",
    "                Phil_attractions.append(obj)\n",
    "print(f'new record: {len(Phil_attractions)}')"
   ]
  },
  {
   "cell_type": "markdown",
   "metadata": {},
   "source": [
    "6. Historical tours"
   ]
  },
  {
   "cell_type": "code",
   "execution_count": null,
   "metadata": {},
   "outputs": [],
   "source": [
    "for obj in Phil_only:\n",
    "    if(obj['categories']):\n",
    "        if ('Historical Tours' in obj['categories'].strip().split(',')) or (' Historical Tours' in obj['categories'].strip().split(',')):\n",
    "            identifier = obj['business_id']\n",
    "            if identifier not in seen:\n",
    "                seen.add(identifier)\n",
    "                Phil_attractions.append(obj)\n",
    "print(f'new record: {len(Phil_attractions)}')"
   ]
  },
  {
   "cell_type": "markdown",
   "metadata": {},
   "source": [
    "7. Landmark and historical buildings"
   ]
  },
  {
   "cell_type": "code",
   "execution_count": null,
   "metadata": {},
   "outputs": [],
   "source": [
    "for obj in Phil_only:\n",
    "    if(obj['categories']):\n",
    "        if ('Landmarks & Historical Buildings' in obj['categories'].strip().split(',')) or (' Landmarks & Historical Buildings' in obj['categories'].strip().split(',')):\n",
    "            identifier = obj['business_id']\n",
    "            if identifier not in seen:\n",
    "                seen.add(identifier)\n",
    "                Phil_attractions.append(obj)\n",
    "print(f'new record: {len(Phil_attractions)}')"
   ]
  },
  {
   "cell_type": "markdown",
   "metadata": {},
   "source": [
    "8. sourvenir shops"
   ]
  },
  {
   "cell_type": "code",
   "execution_count": null,
   "metadata": {},
   "outputs": [],
   "source": [
    "for obj in Phil_only:\n",
    "    if(obj['categories']):\n",
    "        if ('Souvenir Shops' in obj['categories'].strip().split(',')) or (' Souvenir Shops' in obj['categories'].strip().split(',')):\n",
    "            identifier = obj['business_id']\n",
    "            if identifier not in seen:\n",
    "                seen.add(identifier)\n",
    "                Phil_attractions.append(obj)\n",
    "print(f'new record: {len(Phil_attractions)}')"
   ]
  },
  {
   "cell_type": "code",
   "execution_count": 19,
   "metadata": {},
   "outputs": [],
   "source": [
    "with open('Philadelphia_Attractions.jsonl', 'w') as json_file:\n",
    "    for item in Phil_attractions:\n",
    "        json.dump(item, json_file)\n",
    "        json_file.write('\\n') "
   ]
  },
  {
   "cell_type": "markdown",
   "metadata": {},
   "source": [
    "All the reviews"
   ]
  },
  {
   "cell_type": "code",
   "execution_count": 3,
   "metadata": {},
   "outputs": [],
   "source": [
    "json_array = []\n",
    "\n",
    "# Open the file and read it line by line\n",
    "with open('yelp_academic_dataset_review.json', 'r') as file:\n",
    "    for line in file:\n",
    "        # Parse each line as a JSON object and append to the list\n",
    "        json_obj = json.loads(line.strip())  # strip() removes any leading/trailing whitespace\n",
    "        json_array.append(json_obj)"
   ]
  },
  {
   "cell_type": "code",
   "execution_count": null,
   "metadata": {},
   "outputs": [],
   "source": [
    "json_array[0]"
   ]
  },
  {
   "cell_type": "markdown",
   "metadata": {},
   "source": [
    "1. Reviews for Hotels"
   ]
  },
  {
   "cell_type": "code",
   "execution_count": 22,
   "metadata": {},
   "outputs": [],
   "source": [
    "hotel_json_array = []\n",
    "\n",
    "# Open the file and read it line by line\n",
    "with open('Philadelphia_Hotels.jsonl', 'r') as file:\n",
    "    for line in file:\n",
    "        # Parse each line as a JSON object and append to the list\n",
    "        json_obj = json.loads(line.strip())  # strip() removes any leading/trailing whitespace\n",
    "        hotel_json_array.append(json_obj)"
   ]
  },
  {
   "cell_type": "code",
   "execution_count": null,
   "metadata": {},
   "outputs": [],
   "source": [
    "review_json_array = []\n",
    "for hotel in hotel_json_array:\n",
    "    biz_id = hotel['business_id']\n",
    "    for review in json_array:\n",
    "        if review['business_id'] == biz_id:\n",
    "            review_json_array.append(review)"
   ]
  },
  {
   "cell_type": "code",
   "execution_count": 41,
   "metadata": {},
   "outputs": [],
   "source": [
    "with open('Philadelphia_Hotels_Reviews.jsonl', 'w') as json_file:\n",
    "    for item in review_json_array:\n",
    "        json.dump(item, json_file)\n",
    "        json_file.write('\\n') "
   ]
  },
  {
   "cell_type": "markdown",
   "metadata": {},
   "source": [
    "2. Reviews for Attractions"
   ]
  },
  {
   "cell_type": "code",
   "execution_count": 42,
   "metadata": {},
   "outputs": [],
   "source": [
    "attraction_json_array = []\n",
    "\n",
    "# Open the file and read it line by line\n",
    "with open('Philadelphia_Attractions.jsonl', 'r') as file:\n",
    "    for line in file:\n",
    "        # Parse each line as a JSON object and append to the list\n",
    "        json_obj = json.loads(line.strip())  # strip() removes any leading/trailing whitespace\n",
    "        attraction_json_array.append(json_obj)"
   ]
  },
  {
   "cell_type": "code",
   "execution_count": 43,
   "metadata": {},
   "outputs": [],
   "source": [
    "review_json_array = []\n",
    "for attraction in attraction_json_array:\n",
    "    biz_id = attraction['business_id']\n",
    "    for review in json_array:\n",
    "        if review['business_id'] == biz_id:\n",
    "            review_json_array.append(review)"
   ]
  },
  {
   "cell_type": "code",
   "execution_count": 44,
   "metadata": {},
   "outputs": [],
   "source": [
    "with open('Philadelphia_Attractions_Reviews.jsonl', 'w') as json_file:\n",
    "    for item in review_json_array:\n",
    "        json.dump(item, json_file)\n",
    "        json_file.write('\\n') "
   ]
  },
  {
   "cell_type": "markdown",
   "metadata": {},
   "source": [
    "3. Reviews for Restaurants"
   ]
  },
  {
   "cell_type": "code",
   "execution_count": 45,
   "metadata": {},
   "outputs": [],
   "source": [
    "restaurant_json_array = []\n",
    "\n",
    "# Open the file and read it line by line\n",
    "with open('Philadelphia_Restaurants.jsonl', 'r') as file:\n",
    "    for line in file:\n",
    "        # Parse each line as a JSON object and append to the list\n",
    "        json_obj = json.loads(line.strip())  # strip() removes any leading/trailing whitespace\n",
    "        restaurant_json_array.append(json_obj)"
   ]
  },
  {
   "cell_type": "code",
   "execution_count": 46,
   "metadata": {},
   "outputs": [],
   "source": [
    "review_json_array = []\n",
    "for restaurant in restaurant_json_array:\n",
    "    biz_id = restaurant['business_id']\n",
    "    for review in json_array:\n",
    "        if review['business_id'] == biz_id:\n",
    "            review_json_array.append(review)"
   ]
  },
  {
   "cell_type": "code",
   "execution_count": 47,
   "metadata": {},
   "outputs": [],
   "source": [
    "with open('Philadelphia_Restaurants_Reviews.jsonl', 'w') as json_file:\n",
    "    for item in review_json_array:\n",
    "        json.dump(item, json_file)\n",
    "        json_file.write('\\n') "
   ]
  },
  {
   "cell_type": "markdown",
   "metadata": {},
   "source": [
    "Validation of the integrity of the data retrived (if the review counts match)"
   ]
  },
  {
   "cell_type": "code",
   "execution_count": 5,
   "metadata": {},
   "outputs": [],
   "source": [
    "#just to get one review for \"6I_DA3uqOox50rBvjrQ_-g\"\n",
    "review_json_array = []\n",
    "biz_id = '6I_DA3uqOox50rBvjrQ_-g'\n",
    "for review in json_array:\n",
    "    if review['business_id'] == biz_id:\n",
    "        review_json_array.append(review)\n",
    "        break"
   ]
  },
  {
   "cell_type": "code",
   "execution_count": 7,
   "metadata": {},
   "outputs": [],
   "source": [
    "review_json_array[0]"
   ]
  },
  {
   "cell_type": "markdown",
   "metadata": {},
   "source": [
    "Get rid of not open anymore places"
   ]
  },
  {
   "cell_type": "markdown",
   "metadata": {},
   "source": [
    "1. Hotel"
   ]
  },
  {
   "cell_type": "code",
   "execution_count": 2,
   "metadata": {},
   "outputs": [],
   "source": [
    "hotels = []\n",
    "\n",
    "# Open the file and read it line by line\n",
    "with open('Philadelphia_Hotels.jsonl', 'r') as file:\n",
    "    for line in file:\n",
    "        # Parse each line as a JSON object and append to the list\n",
    "        json_obj = json.loads(line.strip())  # strip() removes any leading/trailing whitespace\n",
    "        hotels.append(json_obj)"
   ]
  },
  {
   "cell_type": "code",
   "execution_count": 6,
   "metadata": {},
   "outputs": [],
   "source": [
    "openning_hotels = []\n",
    "\n",
    "for hotel in hotels:\n",
    "    if(hotel['is_open'] == 1):\n",
    "        openning_hotels.append(hotel)\n",
    "len(openning_hotels)\n",
    "\n",
    "#write the cleaned data to a new jsonl file\n",
    "with open('Hotels.jsonl', 'w') as json_file:    \n",
    "    for item in openning_hotels:\n",
    "        json.dump(item, json_file)\n",
    "        json_file.write('\\n')"
   ]
  },
  {
   "cell_type": "code",
   "execution_count": 8,
   "metadata": {},
   "outputs": [],
   "source": [
    "hotel_reviews = []\n",
    "\n",
    "# Open the file and read it line by line\n",
    "with open('Philadelphia_Hotels_Reviews.jsonl', 'r') as file:\n",
    "    for line in file:\n",
    "        # Parse each line as a JSON object and append to the list\n",
    "        json_obj = json.loads(line.strip())  # strip() removes any leading/trailing whitespace\n",
    "        hotel_reviews.append(json_obj)"
   ]
  },
  {
   "cell_type": "code",
   "execution_count": 12,
   "metadata": {},
   "outputs": [],
   "source": [
    "openning_hotels_reviews = []\n",
    "\n",
    "for hotel in openning_hotels:\n",
    "    biz_id = hotel['business_id']\n",
    "    for review in hotel_reviews:\n",
    "        if review['business_id'] == biz_id:\n",
    "            openning_hotels_reviews.append(review)\n",
    "\n",
    "with open('Hotels_Reviews.jsonl', 'w') as json_file:    \n",
    "    for item in openning_hotels_reviews:\n",
    "        json.dump(item, json_file)\n",
    "        json_file.write('\\n')"
   ]
  },
  {
   "cell_type": "markdown",
   "metadata": {},
   "source": [
    "2. Attractions"
   ]
  },
  {
   "cell_type": "markdown",
   "metadata": {},
   "source": []
  },
  {
   "cell_type": "code",
   "execution_count": 2,
   "metadata": {},
   "outputs": [],
   "source": [
    "attractions = []\n",
    "\n",
    "# Open the file and read it line by line\n",
    "with open('Philadelphia_Attractions.jsonl', 'r') as file:\n",
    "    for line in file:\n",
    "        # Parse each line as a JSON object and append to the list\n",
    "        json_obj = json.loads(line.strip())  # strip() removes any leading/trailing whitespace\n",
    "        attractions.append(json_obj)"
   ]
  },
  {
   "cell_type": "code",
   "execution_count": 4,
   "metadata": {},
   "outputs": [],
   "source": [
    "openning_attractions = []\n",
    "\n",
    "for attraction in attractions:\n",
    "    if(attraction['is_open'] == 1):\n",
    "        openning_attractions.append(attraction)\n",
    "\n",
    "#write the cleaned data to a new jsonl file\n",
    "with open('Attractions.jsonl', 'w') as json_file:    \n",
    "    for item in openning_attractions:\n",
    "        json.dump(item, json_file)\n",
    "        json_file.write('\\n')"
   ]
  },
  {
   "cell_type": "code",
   "execution_count": 5,
   "metadata": {},
   "outputs": [],
   "source": [
    "attractions_reviews = []\n",
    "\n",
    "# Open the file and read it line by line\n",
    "with open('Philadelphia_Attractions_Reviews.jsonl', 'r') as file:\n",
    "    for line in file:\n",
    "        # Parse each line as a JSON object and append to the list\n",
    "        json_obj = json.loads(line.strip())  # strip() removes any leading/trailing whitespace\n",
    "        attractions_reviews.append(json_obj)"
   ]
  },
  {
   "cell_type": "code",
   "execution_count": 7,
   "metadata": {},
   "outputs": [],
   "source": [
    "openning_attractions_reviews = []\n",
    "\n",
    "for attraction in openning_attractions:\n",
    "    biz_id = attraction['business_id']\n",
    "    for review in attractions_reviews:\n",
    "        if review['business_id'] == biz_id:\n",
    "            openning_attractions_reviews.append(review)\n",
    "\n",
    "with open('Attractions_Reviews.jsonl', 'w') as json_file:    \n",
    "    for item in openning_attractions_reviews:\n",
    "        json.dump(item, json_file)\n",
    "        json_file.write('\\n')"
   ]
  },
  {
   "cell_type": "code",
   "execution_count": null,
   "metadata": {},
   "outputs": [],
   "source": []
  },
  {
   "cell_type": "markdown",
   "metadata": {},
   "source": [
    "3. Restaurants"
   ]
  },
  {
   "cell_type": "markdown",
   "metadata": {},
   "source": []
  },
  {
   "cell_type": "code",
   "execution_count": 3,
   "metadata": {},
   "outputs": [],
   "source": [
    "restaurants = []\n",
    "\n",
    "# Open the file and read it line by line\n",
    "with open('Philadelphia_Restaurants.jsonl', 'r') as file:\n",
    "    for line in file:\n",
    "        # Parse each line as a JSON object and append to the list\n",
    "        json_obj = json.loads(line.strip())  # strip() removes any leading/trailing whitespace\n",
    "        restaurants.append(json_obj)"
   ]
  },
  {
   "cell_type": "code",
   "execution_count": 4,
   "metadata": {},
   "outputs": [],
   "source": [
    "openning_restaurants = []\n",
    "\n",
    "for restaurant in restaurants:\n",
    "    if(restaurant['is_open'] == 1):\n",
    "        openning_restaurants.append(restaurant)\n",
    "\n",
    "#write the cleaned data to a new jsonl file\n",
    "with open('Restaurants.jsonl', 'w') as json_file:    \n",
    "    for item in openning_restaurants:\n",
    "        json.dump(item, json_file)\n",
    "        json_file.write('\\n')"
   ]
  },
  {
   "cell_type": "code",
   "execution_count": 5,
   "metadata": {},
   "outputs": [],
   "source": [
    "restaurants_reviews = []\n",
    "\n",
    "# Open the file and read it line by line\n",
    "with open('Philadelphia_Restaurants_Reviews.jsonl', 'r') as file:\n",
    "    for line in file:\n",
    "        # Parse each line as a JSON object and append to the list\n",
    "        json_obj = json.loads(line.strip())  # strip() removes any leading/trailing whitespace\n",
    "        restaurants_reviews.append(json_obj)"
   ]
  },
  {
   "cell_type": "code",
   "execution_count": 6,
   "metadata": {},
   "outputs": [],
   "source": [
    "openning_restaurants_reviews = []\n",
    "\n",
    "for restaurant in openning_restaurants:\n",
    "    biz_id = restaurant['business_id']\n",
    "    for review in restaurants_reviews:\n",
    "        if review['business_id'] == biz_id:\n",
    "            openning_restaurants_reviews.append(review)\n",
    "\n",
    "with open('Restaurants_Reviews.jsonl', 'w') as json_file:    \n",
    "    for item in openning_restaurants_reviews:\n",
    "        json.dump(item, json_file)\n",
    "        json_file.write('\\n')"
   ]
  },
  {
   "cell_type": "markdown",
   "metadata": {},
   "source": [
    "For restaurants, keep top 1000 review count restaurants"
   ]
  },
  {
   "cell_type": "code",
   "execution_count": 2,
   "metadata": {},
   "outputs": [],
   "source": [
    "restaurants = []\n",
    "\n",
    "# Open the file and read it line by line\n",
    "with open('Datasets/Restaurants.jsonl', 'r') as file:\n",
    "    for line in file:\n",
    "        # Parse each line as a JSON object and append to the list\n",
    "        json_obj = json.loads(line.strip())  # strip() removes any leading/trailing whitespace\n",
    "        restaurants.append(json_obj)"
   ]
  },
  {
   "cell_type": "code",
   "execution_count": 4,
   "metadata": {},
   "outputs": [],
   "source": [
    "#sort restaurants by review count descending\n",
    "sorted_restaurants = sorted(restaurants, key=lambda x: x['review_count'], reverse=True)\n",
    "top_1000 = sorted_restaurants[:1000]\n",
    "#write the cleaned data to a new jsonl file\n",
    "with open('Datasets/Restaurants_top1000.jsonl', 'w') as json_file:    \n",
    "    for item in top_1000:\n",
    "        json.dump(item, json_file)\n",
    "        json_file.write('\\n')"
   ]
  },
  {
   "cell_type": "code",
   "execution_count": 5,
   "metadata": {},
   "outputs": [],
   "source": [
    "#find the reviews for the top 1000 restaurants\n",
    "restaurants_reviews = []\n",
    "\n",
    "# Open the file and read it line by line\n",
    "with open('Datasets/Restaurants_Reviews.jsonl', 'r') as file:\n",
    "    for line in file:\n",
    "        # Parse each line as a JSON object and append to the list\n",
    "        json_obj = json.loads(line.strip())  # strip() removes any leading/trailing whitespace\n",
    "        restaurants_reviews.append(json_obj)\n",
    "\n",
    "top1000_restaurants_reviews = []\n",
    "\n",
    "for restaurant in top_1000:\n",
    "    biz_id = restaurant['business_id']\n",
    "    for review in restaurants_reviews:\n",
    "        if review['business_id'] == biz_id:\n",
    "            top1000_restaurants_reviews.append(review)\n",
    "\n",
    "with open('Datasets/Restaurants_top1000_Reviews.jsonl', 'w') as json_file:    \n",
    "    for item in top1000_restaurants_reviews:\n",
    "        json.dump(item, json_file)\n",
    "        json_file.write('\\n')"
   ]
  },
  {
   "cell_type": "markdown",
   "metadata": {},
   "source": [
    "Combine origial and detail, and clean up uncessray attributes"
   ]
  },
  {
   "cell_type": "code",
   "execution_count": 3,
   "metadata": {},
   "outputs": [],
   "source": [
    "hotels = []\n",
    "\n",
    "# Open the file and read it line by line\n",
    "with open('Datasets/Hotels.jsonl', 'r') as file:\n",
    "    for line in file:\n",
    "        # Parse each line as a JSON object and append to the list\n",
    "        json_obj = json.loads(line.strip())  # strip() removes any leading/trailing whitespace\n",
    "        hotels.append(json_obj)"
   ]
  },
  {
   "cell_type": "code",
   "execution_count": 4,
   "metadata": {},
   "outputs": [],
   "source": [
    "hotels_detail = []\n",
    "\n",
    "# Open the file and read it line by line\n",
    "with open('Datasets/Hotels_detail.jsonl', 'r') as file:\n",
    "    for line in file:\n",
    "        # Parse each line as a JSON object and append to the list\n",
    "        json_obj = json.loads(line.strip())  # strip() removes any leading/trailing whitespace\n",
    "        hotels_detail.append(json_obj)"
   ]
  },
  {
   "cell_type": "code",
   "execution_count": 5,
   "metadata": {},
   "outputs": [
    {
     "data": {
      "text/plain": [
       "{'business_id': 'D5V0Fawd6ODVgqCY8xngsw',\n",
       " 'name': 'Loews Philadelphia Hotel',\n",
       " 'address': '1200 Market St',\n",
       " 'city': 'Philadelphia',\n",
       " 'state': 'PA',\n",
       " 'postal_code': '19107',\n",
       " 'latitude': 39.9517461,\n",
       " 'longitude': -75.1602286,\n",
       " 'stars': 3.5,\n",
       " 'review_count': 505,\n",
       " 'is_open': 1,\n",
       " 'attributes': {'Caters': 'True',\n",
       "  'RestaurantsPriceRange2': '3',\n",
       "  'WiFi': \"u'paid'\",\n",
       "  'NoiseLevel': \"u'average'\",\n",
       "  'OutdoorSeating': 'False',\n",
       "  'GoodForKids': 'True',\n",
       "  'Alcohol': \"u'full_bar'\",\n",
       "  'RestaurantsDelivery': 'False',\n",
       "  'RestaurantsReservations': 'True',\n",
       "  'BusinessAcceptsCreditCards': 'True',\n",
       "  'RestaurantsAttire': \"u'casual'\",\n",
       "  'HasTV': 'True',\n",
       "  'BusinessParking': \"{'garage': False, 'street': False, 'validated': False, 'lot': False, 'valet': True}\",\n",
       "  'DogsAllowed': 'True'},\n",
       " 'categories': 'Event Planning & Services, Hotels & Travel, Restaurants, Hotels, Seafood',\n",
       " 'hours': None}"
      ]
     },
     "execution_count": 5,
     "metadata": {},
     "output_type": "execute_result"
    }
   ],
   "source": [
    "hotels[10]"
   ]
  },
  {
   "cell_type": "code",
   "execution_count": 6,
   "metadata": {},
   "outputs": [],
   "source": [
    "hotel_clean_attributes = ['business_id','name','address','city','stars','review_count']\n",
    "\n",
    "hotel_clean = [{attr: record[attr] for attr in hotel_clean_attributes} for record in hotels]"
   ]
  },
  {
   "cell_type": "code",
   "execution_count": 7,
   "metadata": {},
   "outputs": [
    {
     "data": {
      "text/plain": [
       "{'business_id': '6I_DA3uqOox50rBvjrQ_-g',\n",
       " 'name': 'Aloft Philadelphia Airport',\n",
       " 'address': '4301 Island Ave',\n",
       " 'city': 'Philadelphia',\n",
       " 'stars': 3.0,\n",
       " 'review_count': 175}"
      ]
     },
     "execution_count": 7,
     "metadata": {},
     "output_type": "execute_result"
    }
   ],
   "source": [
    "hotel_clean[0]"
   ]
  },
  {
   "cell_type": "code",
   "execution_count": 8,
   "metadata": {},
   "outputs": [
    {
     "data": {
      "text/plain": [
       "'$$'"
      ]
     },
     "execution_count": 8,
     "metadata": {},
     "output_type": "execute_result"
    }
   ],
   "source": [
    "hotels_detail[0]['price']"
   ]
  },
  {
   "cell_type": "code",
   "execution_count": 9,
   "metadata": {},
   "outputs": [],
   "source": [
    "hotel_detail_clean_attributes = ['id','price']\n",
    "\n",
    "hotel_detail_clean = [{attr: record.get(attr) for attr in hotel_detail_clean_attributes} for record in hotels_detail]"
   ]
  },
  {
   "cell_type": "code",
   "execution_count": 10,
   "metadata": {},
   "outputs": [
    {
     "data": {
      "text/plain": [
       "[{'id': '6I_DA3uqOox50rBvjrQ_-g', 'price': '$$'},\n",
       " {'id': 'FppJo5aymUsfOg68uTOipw', 'price': '$$$'},\n",
       " {'id': 'qluIWCzDpeZfddykm_2gYg', 'price': '$'},\n",
       " {'id': '2oav5QoWgnvTI2gO5xFMjw', 'price': '$$$'},\n",
       " {'id': 'jTI5Xjk27An8ceJ6VwpXiQ', 'price': '$$'},\n",
       " {'id': 'Pd-r2emx-k0GB3f2Iv4-zA', 'price': '$$'},\n",
       " {'id': 'zJErbOQMKX-MwHs_ulV7DA', 'price': '$$$'},\n",
       " {'id': 'n4Ns3xLRhpkRwglwiQGKVA', 'price': '$$'},\n",
       " {'id': 'HF1YWT8QVR7095r-aLbV5g', 'price': '$$'},\n",
       " {'id': 'TZhCpOoo4TIg7dgftWNKyQ', 'price': '$$$'},\n",
       " {'id': 'D5V0Fawd6ODVgqCY8xngsw', 'price': '$$$'},\n",
       " {'id': 'HsBN0LiWQnbcltRIOWOslg', 'price': '$$'},\n",
       " {'id': 'CFlW9bfl4N63fZpQsZIkRQ', 'price': '$$$'},\n",
       " {'id': 'Q5-CkgsvtlRF5GphtoBFRQ', 'price': '$$'},\n",
       " {'id': 'wDaZZM-R-DvhoWR8y8q0mg', 'price': '$$'},\n",
       " {'id': '_AVG0GvrMfBRK5jyuwSwrg', 'price': '$$'},\n",
       " {'id': 'cdZf-iYQRy5D18gTM95aew', 'price': '$$$'},\n",
       " {'id': 'jDds2solrdvoyK7sB97Eog', 'price': '$$'},\n",
       " {'id': 'KGBjEO-FilXoCK_Pk-jsvA', 'price': '$$'},\n",
       " {'id': 'NvaHGU03m-hvXIGScPe6WQ', 'price': '$$'},\n",
       " {'id': 'EgI6S-JxwpxICPsqmaggiw', 'price': '$$'},\n",
       " {'id': 'taVKq3N2vPxeNAHYDJAL5g', 'price': None},\n",
       " {'id': 'bjkA3ustWdg3EsTLRiUNKA', 'price': '$$$'},\n",
       " {'id': '5CCWbCvlxPCX3kLSSFTfEA', 'price': None},\n",
       " {'id': '3QPAh9VvYNTnqAFgBeBcng', 'price': '$$'},\n",
       " {'id': 'Je10gqBQIqSvYNS8XGrYnw', 'price': '$$'},\n",
       " {'id': 'sBZClv18j7gr1HIGIMXNcA', 'price': '$$'},\n",
       " {'id': 'xcySfsPDols3EdtFC6b76g', 'price': '$$'},\n",
       " {'id': 'SEFujmfGZI08JWRyhIpYeQ', 'price': '$$'},\n",
       " {'id': 'zy2p8yfx_fgXMCCUo8nWsA', 'price': '$'},\n",
       " {'id': 'yrpbZJblFvKpXSMvj--WVQ', 'price': '$$'},\n",
       " {'id': 'JIrsBVXBPGeW5hRZvX7ZuA', 'price': '$$'},\n",
       " {'id': 'bTNwrkDJ2HSIQo5egSX37g', 'price': '$'},\n",
       " {'id': 'HjewUoIXMm7yLu3aqQVTLg', 'price': '$$'},\n",
       " {'id': 'THeEPb1SgJLhwMlWrxOeSQ', 'price': '$$'},\n",
       " {'id': '53ZvKaO19YS6Gt5x-va0BA', 'price': '$$'},\n",
       " {'id': '-D_3emciINpjvYXsHCf8OA', 'price': '$$$'},\n",
       " {'id': 'kM0CewxK3Ize1SF92bfJYQ', 'price': '$$$'},\n",
       " {'id': 'VJpuuNZ8QXR2zTHIhB0yhw', 'price': '$$'},\n",
       " {'id': 'HVOHC7EyUMYdgV7S6kd0uQ', 'price': '$$'},\n",
       " {'id': 'hh6t95hiS-RqRt6bEz1SPw', 'price': None},\n",
       " {'id': 'QMHd6Z2djm_SBLzGhLvFqw', 'price': '$$'},\n",
       " {'id': 'oZxSL3PFX15Lzr8cjszmgQ', 'price': None},\n",
       " {'id': '6gdAMPGsK0D_3u8h3A8H2A', 'price': '$$$'},\n",
       " {'id': 'egk4EEv8KcmI6ZFyUieVeQ', 'price': None},\n",
       " {'id': 'dSdnWJxvhLwvsDfRI1lKuQ', 'price': '$$'},\n",
       " {'id': '1QlgJVS-WEb9KGS42sQMIA', 'price': None},\n",
       " {'id': 'QX3g1tCeHvb_kIhLmtBj0A', 'price': '$'},\n",
       " {'id': 'TDLkD6gOkn1jJ93go1ZySQ', 'price': '$$'},\n",
       " {'id': 'mlb7G66nkwYddPBfldUtIQ', 'price': '$$$'},\n",
       " {'id': 'Qy8eNnWB1bTYnvRQ9jgOOQ', 'price': '$$$'},\n",
       " {'id': 'jMqEQYBIztLtcvnTujfHUA', 'price': None},\n",
       " {'id': 'dkxCH6f6-YXsmfWDEiZs-Q', 'price': '$$'},\n",
       " {'id': 'lZX5_8qspEXtMJGFQ0-Mow', 'price': '$$'},\n",
       " {'id': 'toEYTrafM81UMo2GyCSxFw', 'price': '$$$'},\n",
       " {'id': 'M4y3CIkX3uG9HPN4ZNqD_g', 'price': '$$$'},\n",
       " {'id': 'lQwSrnzTxhssWHRGyq5rvQ', 'price': '$$'},\n",
       " {'id': 'VEsI9_aDFzIrk8wh0QCOAw', 'price': '$$$'},\n",
       " {'id': 'vAjNHtuCm1Pwu47PEOTwXA', 'price': '$$'},\n",
       " {'id': 'sHumMO208xz2rMKYD-TrPA', 'price': None},\n",
       " {'id': '4UZgIeaRWuOj3Z6LNMyaDA', 'price': '$$$'},\n",
       " {'id': 'KGvGSfvlWzurRu247ckEPw', 'price': '$$'},\n",
       " {'id': 'tvBz80VKCtWAVbA6VmJufg', 'price': '$$'},\n",
       " {'id': 'SO8kTCSO5dP5KyaX1JHDiA', 'price': '$$$'},\n",
       " {'id': 'X_AVbwQcF3dcSWP6TlErcw', 'price': '$$'},\n",
       " {'id': '55gCXlWDDCdttR3yRss1xw', 'price': '$$$'},\n",
       " {'id': 'fJhOwBljOz3VJV-BhCB3hg', 'price': '$$'},\n",
       " {'id': 's7GZ95hHqmr9WreRU62iBQ', 'price': '$$$'},\n",
       " {'id': 'j7dMQazjHXoBTsbpw5B28Q', 'price': '$$'},\n",
       " {'id': 'dvph41fD_t6Kd_ChSpmNSA', 'price': '$$$'},\n",
       " {'id': 'TTgpKmTSJs1w60DJkWlLWw', 'price': '$$'},\n",
       " {'id': '0bvtIbpsqBJZpRKSPwIfNw', 'price': '$$$'},\n",
       " {'id': 'X_1PaKwj4GhqwZ9Fi22WRA', 'price': '$$'},\n",
       " {'id': 'NK0_YatQwVmIFJJyrdNNpQ', 'price': '$$'},\n",
       " {'id': '7WD63dyoVXKdCFb9ly5EhA', 'price': '$$'},\n",
       " {'id': 'AXinWDle4ZYGtkdwqkBETQ', 'price': '$$$'},\n",
       " {'id': 'pFMGXlE1NwEXYPBgw3kRnA', 'price': '$'},\n",
       " {'id': 'uTZNjhXe5yCTMuEEN_xwEQ', 'price': '$'},\n",
       " {'id': 'EMviUh7Lud2nqnarrqi_tQ', 'price': '$'},\n",
       " {'id': 'EaBgGhjd8rB9KVvCXKaiAw', 'price': '$$'},\n",
       " {'id': 'ZLjUCF2UaML7S5pSmn5BKg', 'price': None},\n",
       " {'id': 'xV32Y7jne4duaM3H_r_ryQ', 'price': '$$'},\n",
       " {'id': '_BTdfZLpjdkdXwA-JuLwhw', 'price': '$$'},\n",
       " {'id': 'YrbQ_OrRo-TYHnVw5y4Kew', 'price': None},\n",
       " {'id': 'lxIJfx79uxpR27Mly3lZ0Q', 'price': '$$'},\n",
       " {'id': '_8QkK3WwGxNnn54Q1VTTcA', 'price': '$'},\n",
       " {'id': 'fUntC7lbyc2VR3np-29D4g', 'price': None},\n",
       " {'id': 'UeoR9zNgHzBFFVvbq_44MQ', 'price': None},\n",
       " {'id': 'JKR09pJneafnwpUg0FNEzw', 'price': '$$'},\n",
       " {'id': 'S2ljhPVQb8wxIN98j0Stcw', 'price': None},\n",
       " {'id': 'YGVBacpj1YW4q69hlYKoVA', 'price': '$$'},\n",
       " {'id': 'ppEDJRsyGcFqBw10STGDqw', 'price': '$$'},\n",
       " {'id': '0hVf3a0oq8ckB8JIDwSgig', 'price': '$$'},\n",
       " {'id': 'tPu6ZX94n260wQprRVohvA', 'price': '$$'},\n",
       " {'id': 'd_AEJ6ekjX79tL5RZtwZ_g', 'price': '$$$'},\n",
       " {'id': '9VEnlasR3YppxZuDyUv3iA', 'price': None},\n",
       " {'id': 'A9El2DdT9Qx2tfFc_f279A', 'price': '$$$'},\n",
       " {'id': 'MdxSCDMlOPZ2peHIDUZSFg', 'price': '$$'},\n",
       " {'id': 'xTCSNzu7387VHOPO7DkEzA', 'price': '$$$'},\n",
       " {'id': 'Tb-TrnvMd0iSA2AMHLyGEQ', 'price': '$$$'},\n",
       " {'id': 'mKJZREPhvsVgHebHK8dFew', 'price': '$$'},\n",
       " {'id': '8XtpIfn6bjrzKQraKuZHEQ', 'price': '$$'},\n",
       " {'id': 'd9T1Jgf4N2vY3dcMlnCgeA', 'price': '$$'},\n",
       " {'id': '4hM6GbEq5Jt-YZ0vRN1-Lw', 'price': None},\n",
       " {'id': '0FMOvA2Noq-gieWfnXB7aQ', 'price': None},\n",
       " {'id': 'p6H295aQCbDJ80GcpqFvwA', 'price': '$$'},\n",
       " {'id': 'X7TvrNg6jY1Q0JHJXjlQ2g', 'price': '$$'}]"
      ]
     },
     "execution_count": 10,
     "metadata": {},
     "output_type": "execute_result"
    }
   ],
   "source": [
    "hotel_detail_clean"
   ]
  },
  {
   "cell_type": "code",
   "execution_count": 11,
   "metadata": {},
   "outputs": [],
   "source": [
    "df1 = pd.DataFrame(hotel_clean)\n",
    "df2 = pd.DataFrame(hotel_detail_clean)"
   ]
  },
  {
   "cell_type": "code",
   "execution_count": 12,
   "metadata": {},
   "outputs": [
    {
     "data": {
      "text/html": [
       "<div>\n",
       "<style scoped>\n",
       "    .dataframe tbody tr th:only-of-type {\n",
       "        vertical-align: middle;\n",
       "    }\n",
       "\n",
       "    .dataframe tbody tr th {\n",
       "        vertical-align: top;\n",
       "    }\n",
       "\n",
       "    .dataframe thead th {\n",
       "        text-align: right;\n",
       "    }\n",
       "</style>\n",
       "<table border=\"1\" class=\"dataframe\">\n",
       "  <thead>\n",
       "    <tr style=\"text-align: right;\">\n",
       "      <th></th>\n",
       "      <th>business_id</th>\n",
       "      <th>price</th>\n",
       "    </tr>\n",
       "  </thead>\n",
       "  <tbody>\n",
       "    <tr>\n",
       "      <th>0</th>\n",
       "      <td>6I_DA3uqOox50rBvjrQ_-g</td>\n",
       "      <td>$$</td>\n",
       "    </tr>\n",
       "    <tr>\n",
       "      <th>1</th>\n",
       "      <td>FppJo5aymUsfOg68uTOipw</td>\n",
       "      <td>$$$</td>\n",
       "    </tr>\n",
       "    <tr>\n",
       "      <th>2</th>\n",
       "      <td>qluIWCzDpeZfddykm_2gYg</td>\n",
       "      <td>$</td>\n",
       "    </tr>\n",
       "    <tr>\n",
       "      <th>3</th>\n",
       "      <td>2oav5QoWgnvTI2gO5xFMjw</td>\n",
       "      <td>$$$</td>\n",
       "    </tr>\n",
       "    <tr>\n",
       "      <th>4</th>\n",
       "      <td>jTI5Xjk27An8ceJ6VwpXiQ</td>\n",
       "      <td>$$</td>\n",
       "    </tr>\n",
       "    <tr>\n",
       "      <th>...</th>\n",
       "      <td>...</td>\n",
       "      <td>...</td>\n",
       "    </tr>\n",
       "    <tr>\n",
       "      <th>102</th>\n",
       "      <td>d9T1Jgf4N2vY3dcMlnCgeA</td>\n",
       "      <td>$$</td>\n",
       "    </tr>\n",
       "    <tr>\n",
       "      <th>103</th>\n",
       "      <td>4hM6GbEq5Jt-YZ0vRN1-Lw</td>\n",
       "      <td>None</td>\n",
       "    </tr>\n",
       "    <tr>\n",
       "      <th>104</th>\n",
       "      <td>0FMOvA2Noq-gieWfnXB7aQ</td>\n",
       "      <td>None</td>\n",
       "    </tr>\n",
       "    <tr>\n",
       "      <th>105</th>\n",
       "      <td>p6H295aQCbDJ80GcpqFvwA</td>\n",
       "      <td>$$</td>\n",
       "    </tr>\n",
       "    <tr>\n",
       "      <th>106</th>\n",
       "      <td>X7TvrNg6jY1Q0JHJXjlQ2g</td>\n",
       "      <td>$$</td>\n",
       "    </tr>\n",
       "  </tbody>\n",
       "</table>\n",
       "<p>107 rows × 2 columns</p>\n",
       "</div>"
      ],
      "text/plain": [
       "                business_id price\n",
       "0    6I_DA3uqOox50rBvjrQ_-g    $$\n",
       "1    FppJo5aymUsfOg68uTOipw   $$$\n",
       "2    qluIWCzDpeZfddykm_2gYg     $\n",
       "3    2oav5QoWgnvTI2gO5xFMjw   $$$\n",
       "4    jTI5Xjk27An8ceJ6VwpXiQ    $$\n",
       "..                      ...   ...\n",
       "102  d9T1Jgf4N2vY3dcMlnCgeA    $$\n",
       "103  4hM6GbEq5Jt-YZ0vRN1-Lw  None\n",
       "104  0FMOvA2Noq-gieWfnXB7aQ  None\n",
       "105  p6H295aQCbDJ80GcpqFvwA    $$\n",
       "106  X7TvrNg6jY1Q0JHJXjlQ2g    $$\n",
       "\n",
       "[107 rows x 2 columns]"
      ]
     },
     "execution_count": 12,
     "metadata": {},
     "output_type": "execute_result"
    }
   ],
   "source": [
    "df2 = df2.rename(columns =  {'id':'business_id'})\n",
    "df2"
   ]
  },
  {
   "cell_type": "code",
   "execution_count": 13,
   "metadata": {},
   "outputs": [
    {
     "data": {
      "text/plain": [
       "107"
      ]
     },
     "execution_count": 13,
     "metadata": {},
     "output_type": "execute_result"
    }
   ],
   "source": [
    "merged_df = pd.merge(df1, df2, on='business_id', how='outer')\n",
    "merged_array = merged_df.to_dict('records')\n",
    "len(merged_array)"
   ]
  },
  {
   "cell_type": "code",
   "execution_count": 14,
   "metadata": {},
   "outputs": [],
   "source": [
    "with open('Datasets/Hotels_pruned.jsonl', 'w') as json_file:    \n",
    "    for item in merged_array:\n",
    "        json.dump(item, json_file)\n",
    "        json_file.write('\\n')"
   ]
  },
  {
   "cell_type": "markdown",
   "metadata": {},
   "source": [
    "Attractions"
   ]
  },
  {
   "cell_type": "code",
   "execution_count": 14,
   "metadata": {},
   "outputs": [],
   "source": [
    "attractions = []\n",
    "\n",
    "# Open the file and read it line by line\n",
    "with open('Datasets/Attractions.jsonl', 'r') as file:\n",
    "    for line in file:\n",
    "        # Parse each line as a JSON object and append to the list\n",
    "        json_obj = json.loads(line.strip())  # strip() removes any leading/trailing whitespace\n",
    "        attractions.append(json_obj)"
   ]
  },
  {
   "cell_type": "code",
   "execution_count": 15,
   "metadata": {},
   "outputs": [
    {
     "data": {
      "text/plain": [
       "{'business_id': 'MyE_zdul_JO-dOHOug4GQQ',\n",
       " 'name': 'Watson Adventures Scavenger Hunts',\n",
       " 'address': '',\n",
       " 'city': 'Philadelphia',\n",
       " 'state': 'PA',\n",
       " 'postal_code': '19019',\n",
       " 'latitude': 40.1197128,\n",
       " 'longitude': -75.0097103,\n",
       " 'stars': 3.0,\n",
       " 'review_count': 8,\n",
       " 'is_open': 1,\n",
       " 'attributes': {'BusinessAcceptsCreditCards': 'True'},\n",
       " 'categories': 'Local Flavor, Team Building Activities, Active Life, Arts & Entertainment, Event Planning & Services, Walking Tours, Scavenger Hunts, Museums, Hotels & Travel, Tours',\n",
       " 'hours': {'Monday': '9:0-17:0',\n",
       "  'Tuesday': '9:0-17:0',\n",
       "  'Wednesday': '9:0-17:0',\n",
       "  'Thursday': '9:0-17:0',\n",
       "  'Friday': '9:0-17:0'}}"
      ]
     },
     "execution_count": 15,
     "metadata": {},
     "output_type": "execute_result"
    }
   ],
   "source": [
    "attractions[0]"
   ]
  },
  {
   "cell_type": "code",
   "execution_count": 16,
   "metadata": {},
   "outputs": [],
   "source": [
    "attraction_attr = ['business_id','name','address','city','stars','review_count','categories','hours']\n",
    "\n",
    "\n",
    "attraction_clean=[{attr:record.get(attr) for attr in attraction_attr}for record in attractions]"
   ]
  },
  {
   "cell_type": "code",
   "execution_count": 17,
   "metadata": {},
   "outputs": [
    {
     "data": {
      "text/plain": [
       "{'business_id': 'MyE_zdul_JO-dOHOug4GQQ',\n",
       " 'name': 'Watson Adventures Scavenger Hunts',\n",
       " 'address': '',\n",
       " 'city': 'Philadelphia',\n",
       " 'stars': 3.0,\n",
       " 'review_count': 8,\n",
       " 'categories': 'Local Flavor, Team Building Activities, Active Life, Arts & Entertainment, Event Planning & Services, Walking Tours, Scavenger Hunts, Museums, Hotels & Travel, Tours',\n",
       " 'hours': {'Monday': '9:0-17:0',\n",
       "  'Tuesday': '9:0-17:0',\n",
       "  'Wednesday': '9:0-17:0',\n",
       "  'Thursday': '9:0-17:0',\n",
       "  'Friday': '9:0-17:0'}}"
      ]
     },
     "execution_count": 17,
     "metadata": {},
     "output_type": "execute_result"
    }
   ],
   "source": [
    "attraction_clean[0]"
   ]
  },
  {
   "cell_type": "code",
   "execution_count": 20,
   "metadata": {},
   "outputs": [],
   "source": [
    "attractions_detail = []\n",
    "\n",
    "# Open the file and read it line by line\n",
    "with open('Datasets/Attractions_detail.jsonl', 'r') as file:\n",
    "    for line in file:\n",
    "        # Parse each line as a JSON object and append to the list\n",
    "        json_obj = json.loads(line.strip())  # strip() removes any leading/trailing whitespace\n",
    "        attractions_detail.append(json_obj)"
   ]
  },
  {
   "cell_type": "code",
   "execution_count": 25,
   "metadata": {},
   "outputs": [
    {
     "data": {
      "text/plain": [
       "{'id': 's8fPo7SUAHCRal8uX9XLpQ',\n",
       " 'alias': 'fdr-park-philadelphia',\n",
       " 'name': 'FDR Park',\n",
       " 'image_url': 'https://s3-media2.fl.yelpcdn.com/bphoto/eJxWAiwy82RYWdZNnZbT3Q/o.jpg',\n",
       " 'is_claimed': True,\n",
       " 'is_closed': False,\n",
       " 'url': 'https://www.yelp.com/biz/fdr-park-philadelphia?adjust_creative=7Qh2N9ByxbyIDRiutbihsw&utm_campaign=yelp_api_v3&utm_medium=api_v3_business_lookup&utm_source=7Qh2N9ByxbyIDRiutbihsw',\n",
       " 'phone': '+12154628997',\n",
       " 'display_phone': '(215) 462-8997',\n",
       " 'review_count': 56,\n",
       " 'categories': [{'alias': 'parks', 'title': 'Parks'}],\n",
       " 'rating': 4.0,\n",
       " 'location': {'address1': '1500 Pattison Ave',\n",
       "  'address2': '',\n",
       "  'address3': '',\n",
       "  'city': 'Philadelphia',\n",
       "  'zip_code': '19145',\n",
       "  'country': 'US',\n",
       "  'state': 'PA',\n",
       "  'display_address': ['1500 Pattison Ave', 'Philadelphia, PA 19145'],\n",
       "  'cross_streets': ''},\n",
       " 'coordinates': {'latitude': 39.9055107, 'longitude': -75.1757231},\n",
       " 'photos': [],\n",
       " 'hours': [{'open': [{'is_overnight': False,\n",
       "     'start': '0600',\n",
       "     'end': '1800',\n",
       "     'day': 0},\n",
       "    {'is_overnight': False, 'start': '0600', 'end': '1800', 'day': 1},\n",
       "    {'is_overnight': False, 'start': '0600', 'end': '1800', 'day': 2},\n",
       "    {'is_overnight': False, 'start': '0600', 'end': '1800', 'day': 3},\n",
       "    {'is_overnight': False, 'start': '0600', 'end': '1800', 'day': 4},\n",
       "    {'is_overnight': False, 'start': '0600', 'end': '1800', 'day': 5},\n",
       "    {'is_overnight': False, 'start': '0600', 'end': '1800', 'day': 6}],\n",
       "   'hours_type': 'REGULAR',\n",
       "   'is_open_now': True}],\n",
       " 'transactions': []}"
      ]
     },
     "execution_count": 25,
     "metadata": {},
     "output_type": "execute_result"
    }
   ],
   "source": [
    "attractions_detail[60]"
   ]
  },
  {
   "cell_type": "code",
   "execution_count": 26,
   "metadata": {},
   "outputs": [],
   "source": [
    "attractions_detail_attr = ['id','price']\n",
    "attraction_detail_clean=[{attr:record.get(attr) for attr in attractions_detail_attr}for record in attractions_detail]"
   ]
  },
  {
   "cell_type": "code",
   "execution_count": 28,
   "metadata": {},
   "outputs": [
    {
     "data": {
      "text/plain": [
       "{'id': 'gcTHLDX2jcc1LiXsqyaNtg', 'price': '$'}"
      ]
     },
     "execution_count": 28,
     "metadata": {},
     "output_type": "execute_result"
    }
   ],
   "source": [
    "attraction_detail_clean[15]"
   ]
  },
  {
   "cell_type": "code",
   "execution_count": 29,
   "metadata": {},
   "outputs": [],
   "source": [
    "df1 = pd.DataFrame(attraction_clean)\n",
    "df2 = pd.DataFrame(attraction_detail_clean)"
   ]
  },
  {
   "cell_type": "code",
   "execution_count": 30,
   "metadata": {},
   "outputs": [
    {
     "data": {
      "text/html": [
       "<div>\n",
       "<style scoped>\n",
       "    .dataframe tbody tr th:only-of-type {\n",
       "        vertical-align: middle;\n",
       "    }\n",
       "\n",
       "    .dataframe tbody tr th {\n",
       "        vertical-align: top;\n",
       "    }\n",
       "\n",
       "    .dataframe thead th {\n",
       "        text-align: right;\n",
       "    }\n",
       "</style>\n",
       "<table border=\"1\" class=\"dataframe\">\n",
       "  <thead>\n",
       "    <tr style=\"text-align: right;\">\n",
       "      <th></th>\n",
       "      <th>business_id</th>\n",
       "      <th>price</th>\n",
       "    </tr>\n",
       "  </thead>\n",
       "  <tbody>\n",
       "    <tr>\n",
       "      <th>0</th>\n",
       "      <td>MyE_zdul_JO-dOHOug4GQQ</td>\n",
       "      <td>None</td>\n",
       "    </tr>\n",
       "    <tr>\n",
       "      <th>1</th>\n",
       "      <td>n09hgXTl3gsDo1lLDvHZGQ</td>\n",
       "      <td>None</td>\n",
       "    </tr>\n",
       "    <tr>\n",
       "      <th>2</th>\n",
       "      <td>HlzbNeFmy-EyZUBth5iNWQ</td>\n",
       "      <td>$$$</td>\n",
       "    </tr>\n",
       "    <tr>\n",
       "      <th>3</th>\n",
       "      <td>W-sA8QCwkbkHnFJG1D5IGw</td>\n",
       "      <td>None</td>\n",
       "    </tr>\n",
       "    <tr>\n",
       "      <th>4</th>\n",
       "      <td>QFzJKnSUtkgSs1lKOOxXeA</td>\n",
       "      <td>None</td>\n",
       "    </tr>\n",
       "    <tr>\n",
       "      <th>...</th>\n",
       "      <td>...</td>\n",
       "      <td>...</td>\n",
       "    </tr>\n",
       "    <tr>\n",
       "      <th>341</th>\n",
       "      <td>OMieiNtpV9INei8voiGMqw</td>\n",
       "      <td>None</td>\n",
       "    </tr>\n",
       "    <tr>\n",
       "      <th>342</th>\n",
       "      <td>lKlRRS26_eTA_eCjrWBT4w</td>\n",
       "      <td>$$</td>\n",
       "    </tr>\n",
       "    <tr>\n",
       "      <th>343</th>\n",
       "      <td>CVrU9WrUHs2SShb6RRMwVA</td>\n",
       "      <td>$</td>\n",
       "    </tr>\n",
       "    <tr>\n",
       "      <th>344</th>\n",
       "      <td>v-Ei13KTC1CMV7-yMGHAug</td>\n",
       "      <td>$$</td>\n",
       "    </tr>\n",
       "    <tr>\n",
       "      <th>345</th>\n",
       "      <td>4xu5AxIquZThauX74w5hSA</td>\n",
       "      <td>$$</td>\n",
       "    </tr>\n",
       "  </tbody>\n",
       "</table>\n",
       "<p>346 rows × 2 columns</p>\n",
       "</div>"
      ],
      "text/plain": [
       "                business_id price\n",
       "0    MyE_zdul_JO-dOHOug4GQQ  None\n",
       "1    n09hgXTl3gsDo1lLDvHZGQ  None\n",
       "2    HlzbNeFmy-EyZUBth5iNWQ   $$$\n",
       "3    W-sA8QCwkbkHnFJG1D5IGw  None\n",
       "4    QFzJKnSUtkgSs1lKOOxXeA  None\n",
       "..                      ...   ...\n",
       "341  OMieiNtpV9INei8voiGMqw  None\n",
       "342  lKlRRS26_eTA_eCjrWBT4w    $$\n",
       "343  CVrU9WrUHs2SShb6RRMwVA     $\n",
       "344  v-Ei13KTC1CMV7-yMGHAug    $$\n",
       "345  4xu5AxIquZThauX74w5hSA    $$\n",
       "\n",
       "[346 rows x 2 columns]"
      ]
     },
     "execution_count": 30,
     "metadata": {},
     "output_type": "execute_result"
    }
   ],
   "source": [
    "df2 = df2.rename(columns =  {'id':'business_id'})\n",
    "df2"
   ]
  },
  {
   "cell_type": "code",
   "execution_count": 31,
   "metadata": {},
   "outputs": [
    {
     "data": {
      "text/plain": [
       "347"
      ]
     },
     "execution_count": 31,
     "metadata": {},
     "output_type": "execute_result"
    }
   ],
   "source": [
    "merged_df = pd.merge(df1, df2, on='business_id', how='outer')\n",
    "merged_array = merged_df.to_dict('records')\n",
    "len(merged_array)"
   ]
  },
  {
   "cell_type": "code",
   "execution_count": 32,
   "metadata": {},
   "outputs": [],
   "source": [
    "with open('Datasets/Attractions_pruned.jsonl', 'w') as json_file:    \n",
    "    for item in merged_array:\n",
    "        json.dump(item, json_file)\n",
    "        json_file.write('\\n')"
   ]
  },
  {
   "cell_type": "markdown",
   "metadata": {},
   "source": [
    "Restaurants"
   ]
  },
  {
   "cell_type": "code",
   "execution_count": 37,
   "metadata": {},
   "outputs": [],
   "source": [
    "restaurants = []\n",
    "\n",
    "# Open the file and read it line by line\n",
    "with open('Datasets/Restaurants_top1000.jsonl', 'r') as file:\n",
    "    for line in file:\n",
    "        # Parse each line as a JSON object and append to the list\n",
    "        json_obj = json.loads(line.strip())  # strip() removes any leading/trailing whitespace\n",
    "        restaurants.append(json_obj)"
   ]
  },
  {
   "cell_type": "code",
   "execution_count": 39,
   "metadata": {},
   "outputs": [
    {
     "data": {
      "text/plain": [
       "{'business_id': 'PP3BBaVxZLcJU54uP_wL6Q',\n",
       " 'name': \"Pat's King of Steaks\",\n",
       " 'address': '1237 E Passyunk Ave',\n",
       " 'city': 'Philadelphia',\n",
       " 'state': 'PA',\n",
       " 'postal_code': '19147',\n",
       " 'latitude': 39.9332010583,\n",
       " 'longitude': -75.159265814,\n",
       " 'stars': 3.0,\n",
       " 'review_count': 4250,\n",
       " 'is_open': 1,\n",
       " 'attributes': {'RestaurantsReservations': 'False',\n",
       "  'Corkage': 'False',\n",
       "  'RestaurantsTakeOut': 'True',\n",
       "  'BYOBCorkage': \"'no'\",\n",
       "  'BikeParking': 'True',\n",
       "  'Alcohol': \"'none'\",\n",
       "  'RestaurantsAttire': \"'casual'\",\n",
       "  'BusinessAcceptsCreditCards': 'False',\n",
       "  'RestaurantsGoodForGroups': 'True',\n",
       "  'GoodForKids': 'True',\n",
       "  'WiFi': \"u'no'\",\n",
       "  'Caters': 'False',\n",
       "  'HasTV': 'True',\n",
       "  'GoodForMeal': \"{'dessert': False, 'latenight': True, 'lunch': True, 'dinner': True, 'brunch': False, 'breakfast': False}\",\n",
       "  'OutdoorSeating': 'True',\n",
       "  'RestaurantsDelivery': 'True',\n",
       "  'BusinessParking': \"{'garage': False, 'street': True, 'validated': False, 'lot': True, 'valet': False}\",\n",
       "  'RestaurantsTableService': 'False',\n",
       "  'Ambience': \"{'touristy': True, 'hipster': False, 'romantic': False, 'divey': False, 'intimate': False, 'trendy': False, 'upscale': False, 'classy': True, 'casual': False}\",\n",
       "  'HappyHour': 'False',\n",
       "  'NoiseLevel': \"u'average'\",\n",
       "  'DogsAllowed': 'True',\n",
       "  'RestaurantsPriceRange2': '2'},\n",
       " 'categories': 'Italian, American (Traditional), Sandwiches, Fast Food, Restaurants, Local Flavor, Cheesesteaks',\n",
       " 'hours': {'Monday': '0:0-0:0',\n",
       "  'Tuesday': '0:0-0:0',\n",
       "  'Wednesday': '0:0-0:0',\n",
       "  'Thursday': '0:0-0:0',\n",
       "  'Friday': '0:0-0:0',\n",
       "  'Saturday': '0:0-0:0',\n",
       "  'Sunday': '0:0-0:0'}}"
      ]
     },
     "execution_count": 39,
     "metadata": {},
     "output_type": "execute_result"
    }
   ],
   "source": [
    "restaurants[1]"
   ]
  },
  {
   "cell_type": "code",
   "execution_count": 40,
   "metadata": {},
   "outputs": [],
   "source": [
    "restaurants_attr = ['business_id','name','address','city','stars','review_count','good_for_meal','categories']\n",
    "#also want the GoodForMeal in attributes\n",
    "for record in restaurants:\n",
    "    record['good_for_meal'] = record.get('attributes', {}).get('GoodForMeal', None)"
   ]
  },
  {
   "cell_type": "code",
   "execution_count": null,
   "metadata": {},
   "outputs": [
    {
     "data": {
      "text/plain": [
       "{'business_id': 'cOXc8c85Ms6dMEAJazLXHQ',\n",
       " 'name': \"McGillin's Olde Ale House\",\n",
       " 'address': '1310 Drury St',\n",
       " 'city': 'Philadelphia',\n",
       " 'state': 'PA',\n",
       " 'postal_code': '19107',\n",
       " 'latitude': 39.950168,\n",
       " 'longitude': -75.162607,\n",
       " 'stars': 4.0,\n",
       " 'review_count': 979,\n",
       " 'is_open': 1,\n",
       " 'attributes': {'BYOBCorkage': \"'yes_free'\",\n",
       "  'Alcohol': \"'full_bar'\",\n",
       "  'BusinessAcceptsCreditCards': 'True',\n",
       "  'Corkage': 'False',\n",
       "  'RestaurantsTakeOut': 'True',\n",
       "  'BikeParking': 'True',\n",
       "  'GoodForKids': 'False',\n",
       "  'RestaurantsGoodForGroups': 'True',\n",
       "  'RestaurantsAttire': \"'casual'\",\n",
       "  'HasTV': 'True',\n",
       "  'BusinessParking': \"{'garage': False, 'street': True, 'validated': False, 'lot': False, 'valet': False}\",\n",
       "  'Caters': 'False',\n",
       "  'RestaurantsDelivery': 'False',\n",
       "  'NoiseLevel': \"u'loud'\",\n",
       "  'GoodForDancing': 'False',\n",
       "  'WiFi': \"u'free'\",\n",
       "  'ByAppointmentOnly': 'False',\n",
       "  'OutdoorSeating': 'True',\n",
       "  'RestaurantsReservations': 'False',\n",
       "  'CoatCheck': 'False',\n",
       "  'HappyHour': 'True',\n",
       "  'DogsAllowed': 'True',\n",
       "  'BestNights': \"{'monday': False, 'tuesday': False, 'friday': True, 'wednesday': False, 'thursday': True, 'sunday': False, 'saturday': True}\",\n",
       "  'Ambience': \"{'touristy': False, 'hipster': False, 'romantic': False, 'divey': False, 'intimate': False, 'trendy': False, 'upscale': False, 'classy': True, 'casual': True}\",\n",
       "  'WheelchairAccessible': 'True',\n",
       "  'RestaurantsPriceRange2': '2',\n",
       "  'BYOB': 'False',\n",
       "  'Smoking': \"u'no'\",\n",
       "  'Music': \"{'dj': False, 'background_music': False, 'no_music': False, 'jukebox': False, 'live': False, 'video': False, 'karaoke': False}\"},\n",
       " 'categories': 'Bars, Nightlife, Pubs, American (Traditional), Event Planning & Services, Karaoke, Restaurants, Venues & Event Spaces, Irish Pub, Sports Bars, Irish',\n",
       " 'hours': {'Monday': '0:0-0:0',\n",
       "  'Tuesday': '12:0-2:0',\n",
       "  'Wednesday': '12:0-2:0',\n",
       "  'Thursday': '12:0-2:0',\n",
       "  'Friday': '11:0-17:0',\n",
       "  'Saturday': '11:0-2:0',\n",
       "  'Sunday': '11:0-2:0'},\n",
       " 'good_for_meal': None}"
      ]
     },
     "execution_count": 44,
     "metadata": {},
     "output_type": "execute_result"
    }
   ],
   "source": [
    "restaurants[62]"
   ]
  },
  {
   "cell_type": "code",
   "execution_count": 45,
   "metadata": {},
   "outputs": [],
   "source": [
    "restaurants_clean = [{attr:record.get(attr) for attr in restaurants_attr}for record in restaurants]"
   ]
  },
  {
   "cell_type": "code",
   "execution_count": 50,
   "metadata": {},
   "outputs": [
    {
     "data": {
      "text/plain": [
       "{'business_id': 'FqOCC8Y9xryaX7sIBJcrxA',\n",
       " 'name': 'Vic Sushi Bar',\n",
       " 'address': '2035 Sansom St',\n",
       " 'city': 'Philadelphia',\n",
       " 'stars': 4.0,\n",
       " 'review_count': 884,\n",
       " 'good_for_meal': \"{'dessert': False, 'latenight': False, 'lunch': True, 'dinner': True, 'brunch': False, 'breakfast': False}\",\n",
       " 'categories': 'Japanese, Sushi Bars, Restaurants'}"
      ]
     },
     "execution_count": 50,
     "metadata": {},
     "output_type": "execute_result"
    }
   ],
   "source": [
    "restaurants_clean[70]"
   ]
  },
  {
   "cell_type": "code",
   "execution_count": 52,
   "metadata": {},
   "outputs": [],
   "source": [
    "restaurants_detail = []\n",
    "\n",
    "# Open the file and read it line by line\n",
    "with open('Datasets/Restaurants_detail.jsonl', 'r') as file:\n",
    "    for line in file:\n",
    "        # Parse each line as a JSON object and append to the list\n",
    "        json_obj = json.loads(line.strip())  # strip() removes any leading/trailing whitespace\n",
    "        restaurants_detail.append(json_obj)"
   ]
  },
  {
   "cell_type": "code",
   "execution_count": 55,
   "metadata": {},
   "outputs": [
    {
     "data": {
      "text/plain": [
       "{'id': 'GKNknnI7pZgPwjOKNI9NPQ',\n",
       " 'alias': 'lucky-13-pub-philadelphia',\n",
       " 'name': 'Lucky 13 Pub',\n",
       " 'image_url': 'https://s3-media2.fl.yelpcdn.com/bphoto/fwLyO11n-SiMQsP0H2S-Pw/o.jpg',\n",
       " 'is_claimed': True,\n",
       " 'is_closed': False,\n",
       " 'url': 'https://www.yelp.com/biz/lucky-13-pub-philadelphia?adjust_creative=YdUq-dicqQkhZLKJNx4eHg&utm_campaign=yelp_api_v3&utm_medium=api_v3_business_lookup&utm_source=YdUq-dicqQkhZLKJNx4eHg',\n",
       " 'phone': '+12153368467',\n",
       " 'display_phone': '(215) 336-8467',\n",
       " 'review_count': 139,\n",
       " 'categories': [{'alias': 'pubs', 'title': 'Pubs'},\n",
       "  {'alias': 'newamerican', 'title': 'New American'}],\n",
       " 'rating': 3.9,\n",
       " 'location': {'address1': '1820 S 13th St',\n",
       "  'address2': '',\n",
       "  'address3': '',\n",
       "  'city': 'Philadelphia',\n",
       "  'zip_code': '19148',\n",
       "  'country': 'US',\n",
       "  'state': 'PA',\n",
       "  'display_address': ['1820 S 13th St', 'Philadelphia, PA 19148'],\n",
       "  'cross_streets': ''},\n",
       " 'coordinates': {'latitude': 39.92716, 'longitude': -75.16713},\n",
       " 'photos': [],\n",
       " 'price': '$$',\n",
       " 'hours': [{'open': [{'is_overnight': True,\n",
       "     'start': '1600',\n",
       "     'end': '0200',\n",
       "     'day': 0},\n",
       "    {'is_overnight': True, 'start': '1600', 'end': '0200', 'day': 1},\n",
       "    {'is_overnight': True, 'start': '1600', 'end': '0200', 'day': 2},\n",
       "    {'is_overnight': True, 'start': '1600', 'end': '0200', 'day': 3},\n",
       "    {'is_overnight': True, 'start': '1600', 'end': '0200', 'day': 4},\n",
       "    {'is_overnight': True, 'start': '1200', 'end': '0200', 'day': 5},\n",
       "    {'is_overnight': True, 'start': '1200', 'end': '0200', 'day': 6}],\n",
       "   'hours_type': 'REGULAR',\n",
       "   'is_open_now': True}],\n",
       " 'transactions': ['delivery']}"
      ]
     },
     "execution_count": 55,
     "metadata": {},
     "output_type": "execute_result"
    }
   ],
   "source": [
    "restaurants_detail[999]"
   ]
  },
  {
   "cell_type": "code",
   "execution_count": 56,
   "metadata": {},
   "outputs": [],
   "source": [
    "restaurants_detail_attr = ['id','price']\n",
    "restaurants_detail_clean=[{attr:record.get(attr) for attr in restaurants_detail_attr}for record in restaurants_detail]"
   ]
  },
  {
   "cell_type": "code",
   "execution_count": 64,
   "metadata": {},
   "outputs": [],
   "source": [
    "df1 = pd.DataFrame(restaurants_clean)\n",
    "df2 = pd.DataFrame(restaurants_detail_clean)\n",
    "df2 = df2.rename(columns =  {'id':'business_id'})\n",
    "merged_df = pd.merge(df1, df2, on='business_id', how='outer')\n",
    "merged_array = merged_df.to_dict('records')"
   ]
  },
  {
   "cell_type": "code",
   "execution_count": 65,
   "metadata": {},
   "outputs": [],
   "source": [
    "with open('Datasets/Restaurants_pruned.jsonl', 'w') as json_file:    \n",
    "    for item in merged_array:\n",
    "        json.dump(item, json_file)\n",
    "        json_file.write('\\n')"
   ]
  },
  {
   "cell_type": "code",
   "execution_count": null,
   "metadata": {},
   "outputs": [],
   "source": []
  }
 ],
 "metadata": {
  "kernelspec": {
   "display_name": "torchgpu",
   "language": "python",
   "name": "python3"
  },
  "language_info": {
   "codemirror_mode": {
    "name": "ipython",
    "version": 3
   },
   "file_extension": ".py",
   "mimetype": "text/x-python",
   "name": "python",
   "nbconvert_exporter": "python",
   "pygments_lexer": "ipython3",
   "version": "3.11.0"
  }
 },
 "nbformat": 4,
 "nbformat_minor": 2
}
