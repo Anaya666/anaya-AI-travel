{
 "cells": [
  {
   "cell_type": "markdown",
   "metadata": {},
   "source": [
    "Parse JSON for only Phil"
   ]
  },
  {
   "cell_type": "code",
   "execution_count": 1,
   "metadata": {},
   "outputs": [],
   "source": [
    "import numpy as np\n",
    "import pandas as pd\n",
    "import json\n",
    "import matplotlib.pyplot as plt"
   ]
  },
  {
   "cell_type": "code",
   "execution_count": 3,
   "metadata": {},
   "outputs": [],
   "source": [
    "json_array = []\n",
    "\n",
    "# Open the file and read it line by line\n",
    "with open('yelp_academic_dataset_business.json', 'r') as file:\n",
    "    for line in file:\n",
    "        # Parse each line as a JSON object and append to the list\n",
    "        json_obj = json.loads(line.strip())  # strip() removes any leading/trailing whitespace\n",
    "        json_array.append(json_obj)"
   ]
  },
  {
   "cell_type": "code",
   "execution_count": null,
   "metadata": {},
   "outputs": [],
   "source": [
    "Phil_only = [obj for obj in json_array if obj['city'] == 'Philadelphia']\n",
    "len(Phil_only)"
   ]
  },
  {
   "cell_type": "code",
   "execution_count": 5,
   "metadata": {},
   "outputs": [],
   "source": [
    "with open('Philadelphia.jsonl', 'w') as json_file:\n",
    "    for item in Phil_only:\n",
    "        json.dump(item, json_file)\n",
    "        json_file.write('\\n') "
   ]
  },
  {
   "cell_type": "markdown",
   "metadata": {},
   "source": [
    "Hotel for Phil"
   ]
  },
  {
   "cell_type": "code",
   "execution_count": 6,
   "metadata": {},
   "outputs": [],
   "source": [
    "Phil_hotel = []\n",
    "for obj in Phil_only:\n",
    "    if(obj['categories']):\n",
    "        for i in obj['categories'].strip().split(','):\n",
    "            if i == ' Hotels' or i == 'Hotels':\n",
    "                Phil_hotel.append(obj)"
   ]
  },
  {
   "cell_type": "code",
   "execution_count": 7,
   "metadata": {},
   "outputs": [],
   "source": [
    "with open('Philadelphia_Hotels.jsonl', 'w') as json_file:\n",
    "    for item in Phil_hotel:\n",
    "        json.dump(item, json_file)\n",
    "        json_file.write('\\n') "
   ]
  },
  {
   "cell_type": "markdown",
   "metadata": {},
   "source": [
    "Resturants"
   ]
  },
  {
   "cell_type": "code",
   "execution_count": 8,
   "metadata": {},
   "outputs": [],
   "source": [
    "Phil_restaurant = []\n",
    "for obj in Phil_only:\n",
    "    if(obj['categories']):\n",
    "        if ('Restaurants' in obj['categories'].strip()) or (' Restaurants' in obj['categories'].strip()):\n",
    "            Phil_restaurant.append(obj)"
   ]
  },
  {
   "cell_type": "code",
   "execution_count": 9,
   "metadata": {},
   "outputs": [],
   "source": [
    "with open('Philadelphia_Restaurants.jsonl', 'w') as json_file:\n",
    "    for item in Phil_restaurant:\n",
    "        json.dump(item, json_file)\n",
    "        json_file.write('\\n') "
   ]
  },
  {
   "cell_type": "markdown",
   "metadata": {},
   "source": [
    "Attractions"
   ]
  },
  {
   "cell_type": "code",
   "execution_count": 10,
   "metadata": {},
   "outputs": [],
   "source": [
    "Phil_attractions = []\n",
    "seen = set()"
   ]
  },
  {
   "cell_type": "markdown",
   "metadata": {},
   "source": [
    "1. museum"
   ]
  },
  {
   "cell_type": "code",
   "execution_count": null,
   "metadata": {},
   "outputs": [],
   "source": [
    "for obj in Phil_only:\n",
    "    if(obj['categories']):\n",
    "        if ('Museums' in obj['categories'].strip().split(',')) or (' Museums' in obj['categories'].strip().split(',')):\n",
    "            identifier = obj['business_id']\n",
    "            if identifier not in seen:\n",
    "                seen.add(identifier)\n",
    "                Phil_attractions.append(obj)\n",
    "print(f'new record: {len(Phil_attractions)}')"
   ]
  },
  {
   "cell_type": "markdown",
   "metadata": {},
   "source": [
    "2. Park"
   ]
  },
  {
   "cell_type": "code",
   "execution_count": null,
   "metadata": {},
   "outputs": [],
   "source": [
    "for obj in Phil_only:\n",
    "    if(obj['categories']):\n",
    "        if ('Parks' in obj['categories'].strip().split(',')) or (' Parks' in obj['categories'].strip().split(',')):\n",
    "            identifier = obj['business_id']\n",
    "            if identifier not in seen:\n",
    "                seen.add(identifier)\n",
    "                Phil_attractions.append(obj)\n",
    "print(f'new record: {len(Phil_attractions)}')"
   ]
  },
  {
   "cell_type": "markdown",
   "metadata": {},
   "source": [
    "3.Local Flavor"
   ]
  },
  {
   "cell_type": "code",
   "execution_count": null,
   "metadata": {},
   "outputs": [],
   "source": [
    "for obj in Phil_only:\n",
    "    if(obj['categories']):\n",
    "        if ('Local Flavor' in obj['categories'].strip().split(',')) or (' Local Flavor' in obj['categories'].strip().split(',')):\n",
    "            identifier = obj['business_id']\n",
    "            if identifier not in seen:\n",
    "                seen.add(identifier)\n",
    "                Phil_attractions.append(obj)\n",
    "print(f'new record: {len(Phil_attractions)}')"
   ]
  },
  {
   "cell_type": "markdown",
   "metadata": {},
   "source": [
    "4. Zoo"
   ]
  },
  {
   "cell_type": "code",
   "execution_count": null,
   "metadata": {},
   "outputs": [],
   "source": [
    "for obj in Phil_only:\n",
    "    if(obj['categories']):\n",
    "        if ('Zoos' in obj['categories'].strip().split(',')) or (' Zoos' in obj['categories'].strip().split(',')):\n",
    "            identifier = obj['business_id']\n",
    "            if identifier not in seen:\n",
    "                seen.add(identifier)\n",
    "                Phil_attractions.append(obj)\n",
    "print(f'new record: {len(Phil_attractions)}')"
   ]
  },
  {
   "cell_type": "markdown",
   "metadata": {},
   "source": [
    "5. Tours"
   ]
  },
  {
   "cell_type": "code",
   "execution_count": null,
   "metadata": {},
   "outputs": [],
   "source": [
    "for obj in Phil_only:\n",
    "    if(obj['categories']):\n",
    "        if ('Tours' in obj['categories'].strip().split(',')) or (' Tours' in obj['categories'].strip().split(',')):\n",
    "            identifier = obj['business_id']\n",
    "            if identifier not in seen:\n",
    "                seen.add(identifier)\n",
    "                Phil_attractions.append(obj)\n",
    "print(f'new record: {len(Phil_attractions)}')"
   ]
  },
  {
   "cell_type": "markdown",
   "metadata": {},
   "source": [
    "6. Historical tours"
   ]
  },
  {
   "cell_type": "code",
   "execution_count": null,
   "metadata": {},
   "outputs": [],
   "source": [
    "for obj in Phil_only:\n",
    "    if(obj['categories']):\n",
    "        if ('Historical Tours' in obj['categories'].strip().split(',')) or (' Historical Tours' in obj['categories'].strip().split(',')):\n",
    "            identifier = obj['business_id']\n",
    "            if identifier not in seen:\n",
    "                seen.add(identifier)\n",
    "                Phil_attractions.append(obj)\n",
    "print(f'new record: {len(Phil_attractions)}')"
   ]
  },
  {
   "cell_type": "markdown",
   "metadata": {},
   "source": [
    "7. Landmark and historical buildings"
   ]
  },
  {
   "cell_type": "code",
   "execution_count": null,
   "metadata": {},
   "outputs": [],
   "source": [
    "for obj in Phil_only:\n",
    "    if(obj['categories']):\n",
    "        if ('Landmarks & Historical Buildings' in obj['categories'].strip().split(',')) or (' Landmarks & Historical Buildings' in obj['categories'].strip().split(',')):\n",
    "            identifier = obj['business_id']\n",
    "            if identifier not in seen:\n",
    "                seen.add(identifier)\n",
    "                Phil_attractions.append(obj)\n",
    "print(f'new record: {len(Phil_attractions)}')"
   ]
  },
  {
   "cell_type": "markdown",
   "metadata": {},
   "source": [
    "8. sourvenir shops"
   ]
  },
  {
   "cell_type": "code",
   "execution_count": null,
   "metadata": {},
   "outputs": [],
   "source": [
    "for obj in Phil_only:\n",
    "    if(obj['categories']):\n",
    "        if ('Souvenir Shops' in obj['categories'].strip().split(',')) or (' Souvenir Shops' in obj['categories'].strip().split(',')):\n",
    "            identifier = obj['business_id']\n",
    "            if identifier not in seen:\n",
    "                seen.add(identifier)\n",
    "                Phil_attractions.append(obj)\n",
    "print(f'new record: {len(Phil_attractions)}')"
   ]
  },
  {
   "cell_type": "code",
   "execution_count": 19,
   "metadata": {},
   "outputs": [],
   "source": [
    "with open('Philadelphia_Attractions.jsonl', 'w') as json_file:\n",
    "    for item in Phil_attractions:\n",
    "        json.dump(item, json_file)\n",
    "        json_file.write('\\n') "
   ]
  },
  {
   "cell_type": "markdown",
   "metadata": {},
   "source": [
    "All the reviews"
   ]
  },
  {
   "cell_type": "code",
   "execution_count": 3,
   "metadata": {},
   "outputs": [],
   "source": [
    "json_array = []\n",
    "\n",
    "# Open the file and read it line by line\n",
    "with open('yelp_academic_dataset_review.json', 'r') as file:\n",
    "    for line in file:\n",
    "        # Parse each line as a JSON object and append to the list\n",
    "        json_obj = json.loads(line.strip())  # strip() removes any leading/trailing whitespace\n",
    "        json_array.append(json_obj)"
   ]
  },
  {
   "cell_type": "code",
   "execution_count": null,
   "metadata": {},
   "outputs": [],
   "source": [
    "json_array[0]"
   ]
  },
  {
   "cell_type": "markdown",
   "metadata": {},
   "source": [
    "1. Reviews for Hotels"
   ]
  },
  {
   "cell_type": "code",
   "execution_count": 22,
   "metadata": {},
   "outputs": [],
   "source": [
    "hotel_json_array = []\n",
    "\n",
    "# Open the file and read it line by line\n",
    "with open('Philadelphia_Hotels.jsonl', 'r') as file:\n",
    "    for line in file:\n",
    "        # Parse each line as a JSON object and append to the list\n",
    "        json_obj = json.loads(line.strip())  # strip() removes any leading/trailing whitespace\n",
    "        hotel_json_array.append(json_obj)"
   ]
  },
  {
   "cell_type": "code",
   "execution_count": null,
   "metadata": {},
   "outputs": [],
   "source": [
    "review_json_array = []\n",
    "for hotel in hotel_json_array:\n",
    "    biz_id = hotel['business_id']\n",
    "    for review in json_array:\n",
    "        if review['business_id'] == biz_id:\n",
    "            review_json_array.append(review)"
   ]
  },
  {
   "cell_type": "code",
   "execution_count": 41,
   "metadata": {},
   "outputs": [],
   "source": [
    "with open('Philadelphia_Hotels_Reviews.jsonl', 'w') as json_file:\n",
    "    for item in review_json_array:\n",
    "        json.dump(item, json_file)\n",
    "        json_file.write('\\n') "
   ]
  },
  {
   "cell_type": "markdown",
   "metadata": {},
   "source": [
    "2. Reviews for Attractions"
   ]
  },
  {
   "cell_type": "code",
   "execution_count": 42,
   "metadata": {},
   "outputs": [],
   "source": [
    "attraction_json_array = []\n",
    "\n",
    "# Open the file and read it line by line\n",
    "with open('Philadelphia_Attractions.jsonl', 'r') as file:\n",
    "    for line in file:\n",
    "        # Parse each line as a JSON object and append to the list\n",
    "        json_obj = json.loads(line.strip())  # strip() removes any leading/trailing whitespace\n",
    "        attraction_json_array.append(json_obj)"
   ]
  },
  {
   "cell_type": "code",
   "execution_count": 43,
   "metadata": {},
   "outputs": [],
   "source": [
    "review_json_array = []\n",
    "for attraction in attraction_json_array:\n",
    "    biz_id = attraction['business_id']\n",
    "    for review in json_array:\n",
    "        if review['business_id'] == biz_id:\n",
    "            review_json_array.append(review)"
   ]
  },
  {
   "cell_type": "code",
   "execution_count": 44,
   "metadata": {},
   "outputs": [],
   "source": [
    "with open('Philadelphia_Attractions_Reviews.jsonl', 'w') as json_file:\n",
    "    for item in review_json_array:\n",
    "        json.dump(item, json_file)\n",
    "        json_file.write('\\n') "
   ]
  },
  {
   "cell_type": "markdown",
   "metadata": {},
   "source": [
    "3. Reviews for Restaurants"
   ]
  },
  {
   "cell_type": "code",
   "execution_count": 45,
   "metadata": {},
   "outputs": [],
   "source": [
    "restaurant_json_array = []\n",
    "\n",
    "# Open the file and read it line by line\n",
    "with open('Philadelphia_Restaurants.jsonl', 'r') as file:\n",
    "    for line in file:\n",
    "        # Parse each line as a JSON object and append to the list\n",
    "        json_obj = json.loads(line.strip())  # strip() removes any leading/trailing whitespace\n",
    "        restaurant_json_array.append(json_obj)"
   ]
  },
  {
   "cell_type": "code",
   "execution_count": 46,
   "metadata": {},
   "outputs": [],
   "source": [
    "review_json_array = []\n",
    "for restaurant in restaurant_json_array:\n",
    "    biz_id = restaurant['business_id']\n",
    "    for review in json_array:\n",
    "        if review['business_id'] == biz_id:\n",
    "            review_json_array.append(review)"
   ]
  },
  {
   "cell_type": "code",
   "execution_count": 47,
   "metadata": {},
   "outputs": [],
   "source": [
    "with open('Philadelphia_Restaurants_Reviews.jsonl', 'w') as json_file:\n",
    "    for item in review_json_array:\n",
    "        json.dump(item, json_file)\n",
    "        json_file.write('\\n') "
   ]
  },
  {
   "cell_type": "markdown",
   "metadata": {},
   "source": [
    "Validation of the integrity of the data retrived (if the review counts match)"
   ]
  },
  {
   "cell_type": "code",
   "execution_count": 5,
   "metadata": {},
   "outputs": [],
   "source": [
    "#just to get one review for \"6I_DA3uqOox50rBvjrQ_-g\"\n",
    "review_json_array = []\n",
    "biz_id = '6I_DA3uqOox50rBvjrQ_-g'\n",
    "for review in json_array:\n",
    "    if review['business_id'] == biz_id:\n",
    "        review_json_array.append(review)\n",
    "        break"
   ]
  },
  {
   "cell_type": "code",
   "execution_count": 7,
   "metadata": {},
   "outputs": [],
   "source": [
    "review_json_array[0]"
   ]
  },
  {
   "cell_type": "markdown",
   "metadata": {},
   "source": [
    "Get rid of not open anymore places"
   ]
  },
  {
   "cell_type": "markdown",
   "metadata": {},
   "source": [
    "1. Hotel"
   ]
  },
  {
   "cell_type": "code",
   "execution_count": 2,
   "metadata": {},
   "outputs": [],
   "source": [
    "hotels = []\n",
    "\n",
    "# Open the file and read it line by line\n",
    "with open('Philadelphia_Hotels.jsonl', 'r') as file:\n",
    "    for line in file:\n",
    "        # Parse each line as a JSON object and append to the list\n",
    "        json_obj = json.loads(line.strip())  # strip() removes any leading/trailing whitespace\n",
    "        hotels.append(json_obj)"
   ]
  },
  {
   "cell_type": "code",
   "execution_count": 6,
   "metadata": {},
   "outputs": [],
   "source": [
    "openning_hotels = []\n",
    "\n",
    "for hotel in hotels:\n",
    "    if(hotel['is_open'] == 1):\n",
    "        openning_hotels.append(hotel)\n",
    "len(openning_hotels)\n",
    "\n",
    "#write the cleaned data to a new jsonl file\n",
    "with open('Hotels.jsonl', 'w') as json_file:    \n",
    "    for item in openning_hotels:\n",
    "        json.dump(item, json_file)\n",
    "        json_file.write('\\n')"
   ]
  },
  {
   "cell_type": "code",
   "execution_count": 8,
   "metadata": {},
   "outputs": [],
   "source": [
    "hotel_reviews = []\n",
    "\n",
    "# Open the file and read it line by line\n",
    "with open('Philadelphia_Hotels_Reviews.jsonl', 'r') as file:\n",
    "    for line in file:\n",
    "        # Parse each line as a JSON object and append to the list\n",
    "        json_obj = json.loads(line.strip())  # strip() removes any leading/trailing whitespace\n",
    "        hotel_reviews.append(json_obj)"
   ]
  },
  {
   "cell_type": "code",
   "execution_count": 12,
   "metadata": {},
   "outputs": [],
   "source": [
    "openning_hotels_reviews = []\n",
    "\n",
    "for hotel in openning_hotels:\n",
    "    biz_id = hotel['business_id']\n",
    "    for review in hotel_reviews:\n",
    "        if review['business_id'] == biz_id:\n",
    "            openning_hotels_reviews.append(review)\n",
    "\n",
    "with open('Hotels_Reviews.jsonl', 'w') as json_file:    \n",
    "    for item in openning_hotels_reviews:\n",
    "        json.dump(item, json_file)\n",
    "        json_file.write('\\n')"
   ]
  },
  {
   "cell_type": "markdown",
   "metadata": {},
   "source": [
    "2. Attractions"
   ]
  },
  {
   "cell_type": "markdown",
   "metadata": {},
   "source": []
  },
  {
   "cell_type": "code",
   "execution_count": 2,
   "metadata": {},
   "outputs": [],
   "source": [
    "attractions = []\n",
    "\n",
    "# Open the file and read it line by line\n",
    "with open('Philadelphia_Attractions.jsonl', 'r') as file:\n",
    "    for line in file:\n",
    "        # Parse each line as a JSON object and append to the list\n",
    "        json_obj = json.loads(line.strip())  # strip() removes any leading/trailing whitespace\n",
    "        attractions.append(json_obj)"
   ]
  },
  {
   "cell_type": "code",
   "execution_count": 4,
   "metadata": {},
   "outputs": [],
   "source": [
    "openning_attractions = []\n",
    "\n",
    "for attraction in attractions:\n",
    "    if(attraction['is_open'] == 1):\n",
    "        openning_attractions.append(attraction)\n",
    "\n",
    "#write the cleaned data to a new jsonl file\n",
    "with open('Attractions.jsonl', 'w') as json_file:    \n",
    "    for item in openning_attractions:\n",
    "        json.dump(item, json_file)\n",
    "        json_file.write('\\n')"
   ]
  },
  {
   "cell_type": "code",
   "execution_count": 5,
   "metadata": {},
   "outputs": [],
   "source": [
    "attractions_reviews = []\n",
    "\n",
    "# Open the file and read it line by line\n",
    "with open('Philadelphia_Attractions_Reviews.jsonl', 'r') as file:\n",
    "    for line in file:\n",
    "        # Parse each line as a JSON object and append to the list\n",
    "        json_obj = json.loads(line.strip())  # strip() removes any leading/trailing whitespace\n",
    "        attractions_reviews.append(json_obj)"
   ]
  },
  {
   "cell_type": "code",
   "execution_count": 7,
   "metadata": {},
   "outputs": [],
   "source": [
    "openning_attractions_reviews = []\n",
    "\n",
    "for attraction in openning_attractions:\n",
    "    biz_id = attraction['business_id']\n",
    "    for review in attractions_reviews:\n",
    "        if review['business_id'] == biz_id:\n",
    "            openning_attractions_reviews.append(review)\n",
    "\n",
    "with open('Attractions_Reviews.jsonl', 'w') as json_file:    \n",
    "    for item in openning_attractions_reviews:\n",
    "        json.dump(item, json_file)\n",
    "        json_file.write('\\n')"
   ]
  },
  {
   "cell_type": "code",
   "execution_count": null,
   "metadata": {},
   "outputs": [],
   "source": []
  },
  {
   "cell_type": "markdown",
   "metadata": {},
   "source": [
    "3. Restaurants"
   ]
  },
  {
   "cell_type": "markdown",
   "metadata": {},
   "source": []
  },
  {
   "cell_type": "code",
   "execution_count": 3,
   "metadata": {},
   "outputs": [],
   "source": [
    "restaurants = []\n",
    "\n",
    "# Open the file and read it line by line\n",
    "with open('Philadelphia_Restaurants.jsonl', 'r') as file:\n",
    "    for line in file:\n",
    "        # Parse each line as a JSON object and append to the list\n",
    "        json_obj = json.loads(line.strip())  # strip() removes any leading/trailing whitespace\n",
    "        restaurants.append(json_obj)"
   ]
  },
  {
   "cell_type": "code",
   "execution_count": 4,
   "metadata": {},
   "outputs": [],
   "source": [
    "openning_restaurants = []\n",
    "\n",
    "for restaurant in restaurants:\n",
    "    if(restaurant['is_open'] == 1):\n",
    "        openning_restaurants.append(restaurant)\n",
    "\n",
    "#write the cleaned data to a new jsonl file\n",
    "with open('Restaurants.jsonl', 'w') as json_file:    \n",
    "    for item in openning_restaurants:\n",
    "        json.dump(item, json_file)\n",
    "        json_file.write('\\n')"
   ]
  },
  {
   "cell_type": "code",
   "execution_count": 5,
   "metadata": {},
   "outputs": [],
   "source": [
    "restaurants_reviews = []\n",
    "\n",
    "# Open the file and read it line by line\n",
    "with open('Philadelphia_Restaurants_Reviews.jsonl', 'r') as file:\n",
    "    for line in file:\n",
    "        # Parse each line as a JSON object and append to the list\n",
    "        json_obj = json.loads(line.strip())  # strip() removes any leading/trailing whitespace\n",
    "        restaurants_reviews.append(json_obj)"
   ]
  },
  {
   "cell_type": "code",
   "execution_count": 6,
   "metadata": {},
   "outputs": [],
   "source": [
    "openning_restaurants_reviews = []\n",
    "\n",
    "for restaurant in openning_restaurants:\n",
    "    biz_id = restaurant['business_id']\n",
    "    for review in restaurants_reviews:\n",
    "        if review['business_id'] == biz_id:\n",
    "            openning_restaurants_reviews.append(review)\n",
    "\n",
    "with open('Restaurants_Reviews.jsonl', 'w') as json_file:    \n",
    "    for item in openning_restaurants_reviews:\n",
    "        json.dump(item, json_file)\n",
    "        json_file.write('\\n')"
   ]
  },
  {
   "cell_type": "markdown",
   "metadata": {},
   "source": [
    "For restaurants, keep top 1000 review count restaurants"
   ]
  },
  {
   "cell_type": "code",
   "execution_count": 2,
   "metadata": {},
   "outputs": [],
   "source": [
    "restaurants = []\n",
    "\n",
    "# Open the file and read it line by line\n",
    "with open('Datasets/Restaurants.jsonl', 'r') as file:\n",
    "    for line in file:\n",
    "        # Parse each line as a JSON object and append to the list\n",
    "        json_obj = json.loads(line.strip())  # strip() removes any leading/trailing whitespace\n",
    "        restaurants.append(json_obj)"
   ]
  },
  {
   "cell_type": "code",
   "execution_count": 4,
   "metadata": {},
   "outputs": [],
   "source": [
    "#sort restaurants by review count descending\n",
    "sorted_restaurants = sorted(restaurants, key=lambda x: x['review_count'], reverse=True)\n",
    "top_1000 = sorted_restaurants[:1000]\n",
    "#write the cleaned data to a new jsonl file\n",
    "with open('Datasets/Restaurants_top1000.jsonl', 'w') as json_file:    \n",
    "    for item in top_1000:\n",
    "        json.dump(item, json_file)\n",
    "        json_file.write('\\n')"
   ]
  },
  {
   "cell_type": "code",
   "execution_count": 5,
   "metadata": {},
   "outputs": [],
   "source": [
    "#find the reviews for the top 1000 restaurants\n",
    "restaurants_reviews = []\n",
    "\n",
    "# Open the file and read it line by line\n",
    "with open('Datasets/Restaurants_Reviews.jsonl', 'r') as file:\n",
    "    for line in file:\n",
    "        # Parse each line as a JSON object and append to the list\n",
    "        json_obj = json.loads(line.strip())  # strip() removes any leading/trailing whitespace\n",
    "        restaurants_reviews.append(json_obj)\n",
    "\n",
    "top1000_restaurants_reviews = []\n",
    "\n",
    "for restaurant in top_1000:\n",
    "    biz_id = restaurant['business_id']\n",
    "    for review in restaurants_reviews:\n",
    "        if review['business_id'] == biz_id:\n",
    "            top1000_restaurants_reviews.append(review)\n",
    "\n",
    "with open('Datasets/Restaurants_top1000_Reviews.jsonl', 'w') as json_file:    \n",
    "    for item in top1000_restaurants_reviews:\n",
    "        json.dump(item, json_file)\n",
    "        json_file.write('\\n')"
   ]
  },
  {
   "cell_type": "markdown",
   "metadata": {},
   "source": [
    "Combine origial and detail, and clean up uncessray attributes"
   ]
  },
  {
   "cell_type": "code",
   "execution_count": 3,
   "metadata": {},
   "outputs": [],
   "source": [
    "hotels = []\n",
    "\n",
    "# Open the file and read it line by line\n",
    "with open('Datasets/Hotels.jsonl', 'r') as file:\n",
    "    for line in file:\n",
    "        # Parse each line as a JSON object and append to the list\n",
    "        json_obj = json.loads(line.strip())  # strip() removes any leading/trailing whitespace\n",
    "        hotels.append(json_obj)"
   ]
  },
  {
   "cell_type": "code",
   "execution_count": 4,
   "metadata": {},
   "outputs": [],
   "source": [
    "hotels_detail = []\n",
    "\n",
    "# Open the file and read it line by line\n",
    "with open('Datasets/Hotels_detail.jsonl', 'r') as file:\n",
    "    for line in file:\n",
    "        # Parse each line as a JSON object and append to the list\n",
    "        json_obj = json.loads(line.strip())  # strip() removes any leading/trailing whitespace\n",
    "        hotels_detail.append(json_obj)"
   ]
  },
  {
   "cell_type": "code",
   "execution_count": 10,
   "metadata": {},
   "outputs": [
    {
     "data": {
      "text/plain": [
       "{'business_id': 'D5V0Fawd6ODVgqCY8xngsw',\n",
       " 'name': 'Loews Philadelphia Hotel',\n",
       " 'address': '1200 Market St',\n",
       " 'city': 'Philadelphia',\n",
       " 'state': 'PA',\n",
       " 'postal_code': '19107',\n",
       " 'latitude': 39.9517461,\n",
       " 'longitude': -75.1602286,\n",
       " 'stars': 3.5,\n",
       " 'review_count': 505,\n",
       " 'is_open': 1,\n",
       " 'attributes': {'Caters': 'True',\n",
       "  'RestaurantsPriceRange2': '3',\n",
       "  'WiFi': \"u'paid'\",\n",
       "  'NoiseLevel': \"u'average'\",\n",
       "  'OutdoorSeating': 'False',\n",
       "  'GoodForKids': 'True',\n",
       "  'Alcohol': \"u'full_bar'\",\n",
       "  'RestaurantsDelivery': 'False',\n",
       "  'RestaurantsReservations': 'True',\n",
       "  'BusinessAcceptsCreditCards': 'True',\n",
       "  'RestaurantsAttire': \"u'casual'\",\n",
       "  'HasTV': 'True',\n",
       "  'BusinessParking': \"{'garage': False, 'street': False, 'validated': False, 'lot': False, 'valet': True}\",\n",
       "  'DogsAllowed': 'True'},\n",
       " 'categories': 'Event Planning & Services, Hotels & Travel, Restaurants, Hotels, Seafood',\n",
       " 'hours': None}"
      ]
     },
     "execution_count": 10,
     "metadata": {},
     "output_type": "execute_result"
    }
   ],
   "source": [
    "hotels[10]"
   ]
  },
  {
   "cell_type": "code",
   "execution_count": 11,
   "metadata": {},
   "outputs": [],
   "source": [
    "hotel_clean_attributes = ['business_id','name','address','city','stars','review_count']\n",
    "\n",
    "hotel_clean = [{attr: record[attr] for attr in hotel_clean_attributes} for record in hotels]"
   ]
  },
  {
   "cell_type": "code",
   "execution_count": 12,
   "metadata": {},
   "outputs": [
    {
     "data": {
      "text/plain": [
       "{'business_id': '6I_DA3uqOox50rBvjrQ_-g',\n",
       " 'name': 'Aloft Philadelphia Airport',\n",
       " 'address': '4301 Island Ave',\n",
       " 'city': 'Philadelphia',\n",
       " 'stars': 3.0,\n",
       " 'review_count': 175}"
      ]
     },
     "execution_count": 12,
     "metadata": {},
     "output_type": "execute_result"
    }
   ],
   "source": [
    "hotel_clean[0]"
   ]
  },
  {
   "cell_type": "code",
   "execution_count": 15,
   "metadata": {},
   "outputs": [
    {
     "data": {
      "text/plain": [
       "'$$'"
      ]
     },
     "execution_count": 15,
     "metadata": {},
     "output_type": "execute_result"
    }
   ],
   "source": [
    "hotels_detail[0]['price']"
   ]
  },
  {
   "cell_type": "code",
   "execution_count": 18,
   "metadata": {},
   "outputs": [],
   "source": [
    "hotel_detail_clean_attributes = ['id','price']\n",
    "\n",
    "hotel_detail_clean = [{attr: record.get(attr) for attr in hotel_detail_clean_attributes} for record in hotels_detail]"
   ]
  },
  {
   "cell_type": "code",
   "execution_count": 19,
   "metadata": {},
   "outputs": [
    {
     "data": {
      "text/plain": [
       "[{'id': '6I_DA3uqOox50rBvjrQ_-g', 'price': '$'},\n",
       " {'id': 'FppJo5aymUsfOg68uTOipw', 'price': '$'},\n",
       " {'id': 'qluIWCzDpeZfddykm_2gYg', 'price': '$'},\n",
       " {'id': '2oav5QoWgnvTI2gO5xFMjw', 'price': '$'},\n",
       " {'id': 'jTI5Xjk27An8ceJ6VwpXiQ', 'price': '$'},\n",
       " {'id': 'Pd-r2emx-k0GB3f2Iv4-zA', 'price': '$'},\n",
       " {'id': 'zJErbOQMKX-MwHs_ulV7DA', 'price': '$'},\n",
       " {'id': 'n4Ns3xLRhpkRwglwiQGKVA', 'price': '$'},\n",
       " {'id': 'HF1YWT8QVR7095r-aLbV5g', 'price': '$'},\n",
       " {'id': 'TZhCpOoo4TIg7dgftWNKyQ', 'price': '$'},\n",
       " {'id': 'D5V0Fawd6ODVgqCY8xngsw', 'price': '$'},\n",
       " {'id': 'HsBN0LiWQnbcltRIOWOslg', 'price': '$'},\n",
       " {'id': 'CFlW9bfl4N63fZpQsZIkRQ', 'price': '$'},\n",
       " {'id': 'Q5-CkgsvtlRF5GphtoBFRQ', 'price': '$'},\n",
       " {'id': 'wDaZZM-R-DvhoWR8y8q0mg', 'price': '$'},\n",
       " {'id': '_AVG0GvrMfBRK5jyuwSwrg', 'price': '$'},\n",
       " {'id': 'cdZf-iYQRy5D18gTM95aew', 'price': '$'},\n",
       " {'id': 'jDds2solrdvoyK7sB97Eog', 'price': '$'},\n",
       " {'id': 'KGBjEO-FilXoCK_Pk-jsvA', 'price': '$'},\n",
       " {'id': 'NvaHGU03m-hvXIGScPe6WQ', 'price': '$'},\n",
       " {'id': 'EgI6S-JxwpxICPsqmaggiw', 'price': '$'},\n",
       " {'id': 'taVKq3N2vPxeNAHYDJAL5g', 'price': None},\n",
       " {'id': 'bjkA3ustWdg3EsTLRiUNKA', 'price': '$$$'},\n",
       " {'id': '5CCWbCvlxPCX3kLSSFTfEA', 'price': None},\n",
       " {'id': '3QPAh9VvYNTnqAFgBeBcng', 'price': '$$'},\n",
       " {'id': 'Je10gqBQIqSvYNS8XGrYnw', 'price': '$$'},\n",
       " {'id': 'sBZClv18j7gr1HIGIMXNcA', 'price': '$$'},\n",
       " {'id': 'xcySfsPDols3EdtFC6b76g', 'price': '$$'},\n",
       " {'id': 'SEFujmfGZI08JWRyhIpYeQ', 'price': '$$'},\n",
       " {'id': 'zy2p8yfx_fgXMCCUo8nWsA', 'price': '$'},\n",
       " {'id': 'yrpbZJblFvKpXSMvj--WVQ', 'price': '$$'},\n",
       " {'id': 'JIrsBVXBPGeW5hRZvX7ZuA', 'price': '$$'},\n",
       " {'id': 'bTNwrkDJ2HSIQo5egSX37g', 'price': '$'},\n",
       " {'id': 'HjewUoIXMm7yLu3aqQVTLg', 'price': '$$'},\n",
       " {'id': 'THeEPb1SgJLhwMlWrxOeSQ', 'price': '$$'},\n",
       " {'id': '53ZvKaO19YS6Gt5x-va0BA', 'price': '$$'},\n",
       " {'id': '-D_3emciINpjvYXsHCf8OA', 'price': '$$$'},\n",
       " {'id': 'kM0CewxK3Ize1SF92bfJYQ', 'price': '$$$'},\n",
       " {'id': 'VJpuuNZ8QXR2zTHIhB0yhw', 'price': '$$'},\n",
       " {'id': 'HVOHC7EyUMYdgV7S6kd0uQ', 'price': '$$'},\n",
       " {'id': 'hh6t95hiS-RqRt6bEz1SPw', 'price': None},\n",
       " {'id': 'QMHd6Z2djm_SBLzGhLvFqw', 'price': '$$'},\n",
       " {'id': 'oZxSL3PFX15Lzr8cjszmgQ', 'price': None},\n",
       " {'id': '6gdAMPGsK0D_3u8h3A8H2A', 'price': '$$$'},\n",
       " {'id': 'egk4EEv8KcmI6ZFyUieVeQ', 'price': None},\n",
       " {'id': 'dSdnWJxvhLwvsDfRI1lKuQ', 'price': '$$'},\n",
       " {'id': '1QlgJVS-WEb9KGS42sQMIA', 'price': None},\n",
       " {'id': 'QX3g1tCeHvb_kIhLmtBj0A', 'price': '$'},\n",
       " {'id': 'TDLkD6gOkn1jJ93go1ZySQ', 'price': '$$'},\n",
       " {'id': 'mlb7G66nkwYddPBfldUtIQ', 'price': '$$$'},\n",
       " {'id': 'Qy8eNnWB1bTYnvRQ9jgOOQ', 'price': '$$$'},\n",
       " {'id': 'jMqEQYBIztLtcvnTujfHUA', 'price': None},\n",
       " {'id': 'dkxCH6f6-YXsmfWDEiZs-Q', 'price': '$$'},\n",
       " {'id': 'lZX5_8qspEXtMJGFQ0-Mow', 'price': '$$'},\n",
       " {'id': 'toEYTrafM81UMo2GyCSxFw', 'price': '$$$'},\n",
       " {'id': 'M4y3CIkX3uG9HPN4ZNqD_g', 'price': '$$$'},\n",
       " {'id': 'lQwSrnzTxhssWHRGyq5rvQ', 'price': '$$'},\n",
       " {'id': 'VEsI9_aDFzIrk8wh0QCOAw', 'price': '$$$'},\n",
       " {'id': 'vAjNHtuCm1Pwu47PEOTwXA', 'price': '$$'},\n",
       " {'id': 'sHumMO208xz2rMKYD-TrPA', 'price': None},\n",
       " {'id': '4UZgIeaRWuOj3Z6LNMyaDA', 'price': '$$$'},\n",
       " {'id': 'KGvGSfvlWzurRu247ckEPw', 'price': '$$'},\n",
       " {'id': 'tvBz80VKCtWAVbA6VmJufg', 'price': '$$'},\n",
       " {'id': 'SO8kTCSO5dP5KyaX1JHDiA', 'price': '$$$'},\n",
       " {'id': 'X_AVbwQcF3dcSWP6TlErcw', 'price': '$$'},\n",
       " {'id': '55gCXlWDDCdttR3yRss1xw', 'price': '$$$'},\n",
       " {'id': 'fJhOwBljOz3VJV-BhCB3hg', 'price': '$$'},\n",
       " {'id': 's7GZ95hHqmr9WreRU62iBQ', 'price': '$$$'},\n",
       " {'id': 'j7dMQazjHXoBTsbpw5B28Q', 'price': '$$'},\n",
       " {'id': 'dvph41fD_t6Kd_ChSpmNSA', 'price': '$$$'},\n",
       " {'id': 'TTgpKmTSJs1w60DJkWlLWw', 'price': '$$'},\n",
       " {'id': '0bvtIbpsqBJZpRKSPwIfNw', 'price': '$$$'},\n",
       " {'id': 'X_1PaKwj4GhqwZ9Fi22WRA', 'price': '$$'},\n",
       " {'id': 'NK0_YatQwVmIFJJyrdNNpQ', 'price': '$$'},\n",
       " {'id': '7WD63dyoVXKdCFb9ly5EhA', 'price': '$$'},\n",
       " {'id': 'AXinWDle4ZYGtkdwqkBETQ', 'price': '$$$'},\n",
       " {'id': 'pFMGXlE1NwEXYPBgw3kRnA', 'price': '$'},\n",
       " {'id': 'uTZNjhXe5yCTMuEEN_xwEQ', 'price': '$'},\n",
       " {'id': 'EMviUh7Lud2nqnarrqi_tQ', 'price': '$'},\n",
       " {'id': 'EaBgGhjd8rB9KVvCXKaiAw', 'price': '$$'},\n",
       " {'id': 'ZLjUCF2UaML7S5pSmn5BKg', 'price': None},\n",
       " {'id': 'xV32Y7jne4duaM3H_r_ryQ', 'price': '$$'},\n",
       " {'id': '_BTdfZLpjdkdXwA-JuLwhw', 'price': '$$'},\n",
       " {'id': 'YrbQ_OrRo-TYHnVw5y4Kew', 'price': None},\n",
       " {'id': 'lxIJfx79uxpR27Mly3lZ0Q', 'price': '$$'},\n",
       " {'id': '_8QkK3WwGxNnn54Q1VTTcA', 'price': '$'},\n",
       " {'id': 'fUntC7lbyc2VR3np-29D4g', 'price': None},\n",
       " {'id': 'UeoR9zNgHzBFFVvbq_44MQ', 'price': None},\n",
       " {'id': 'JKR09pJneafnwpUg0FNEzw', 'price': '$$'},\n",
       " {'id': 'S2ljhPVQb8wxIN98j0Stcw', 'price': None},\n",
       " {'id': 'YGVBacpj1YW4q69hlYKoVA', 'price': '$$'},\n",
       " {'id': 'ppEDJRsyGcFqBw10STGDqw', 'price': '$$'},\n",
       " {'id': '0hVf3a0oq8ckB8JIDwSgig', 'price': '$$'},\n",
       " {'id': 'tPu6ZX94n260wQprRVohvA', 'price': '$$'},\n",
       " {'id': 'd_AEJ6ekjX79tL5RZtwZ_g', 'price': '$$$'},\n",
       " {'id': '9VEnlasR3YppxZuDyUv3iA', 'price': None},\n",
       " {'id': 'A9El2DdT9Qx2tfFc_f279A', 'price': '$$$'},\n",
       " {'id': 'MdxSCDMlOPZ2peHIDUZSFg', 'price': '$$'},\n",
       " {'id': 'xTCSNzu7387VHOPO7DkEzA', 'price': '$$$'},\n",
       " {'id': 'Tb-TrnvMd0iSA2AMHLyGEQ', 'price': '$$$'},\n",
       " {'id': 'mKJZREPhvsVgHebHK8dFew', 'price': '$$'},\n",
       " {'id': '8XtpIfn6bjrzKQraKuZHEQ', 'price': '$$'},\n",
       " {'id': 'd9T1Jgf4N2vY3dcMlnCgeA', 'price': '$$'},\n",
       " {'id': '4hM6GbEq5Jt-YZ0vRN1-Lw', 'price': None},\n",
       " {'id': '0FMOvA2Noq-gieWfnXB7aQ', 'price': None},\n",
       " {'id': 'p6H295aQCbDJ80GcpqFvwA', 'price': '$$'},\n",
       " {'id': 'X7TvrNg6jY1Q0JHJXjlQ2g', 'price': '$$'}]"
      ]
     },
     "execution_count": 19,
     "metadata": {},
     "output_type": "execute_result"
    }
   ],
   "source": [
    "hotel_detail_clean"
   ]
  },
  {
   "cell_type": "code",
   "execution_count": 20,
   "metadata": {},
   "outputs": [],
   "source": [
    "df1 = pd.DataFrame(hotel_clean)\n",
    "df2 = pd.DataFrame(hotel_detail_clean)"
   ]
  },
  {
   "cell_type": "code",
   "execution_count": 22,
   "metadata": {},
   "outputs": [
    {
     "data": {
      "text/html": [
       "<div>\n",
       "<style scoped>\n",
       "    .dataframe tbody tr th:only-of-type {\n",
       "        vertical-align: middle;\n",
       "    }\n",
       "\n",
       "    .dataframe tbody tr th {\n",
       "        vertical-align: top;\n",
       "    }\n",
       "\n",
       "    .dataframe thead th {\n",
       "        text-align: right;\n",
       "    }\n",
       "</style>\n",
       "<table border=\"1\" class=\"dataframe\">\n",
       "  <thead>\n",
       "    <tr style=\"text-align: right;\">\n",
       "      <th></th>\n",
       "      <th>business_id</th>\n",
       "      <th>price</th>\n",
       "    </tr>\n",
       "  </thead>\n",
       "  <tbody>\n",
       "    <tr>\n",
       "      <th>0</th>\n",
       "      <td>6I_DA3uqOox50rBvjrQ_-g</td>\n",
       "      <td>$</td>\n",
       "    </tr>\n",
       "    <tr>\n",
       "      <th>1</th>\n",
       "      <td>FppJo5aymUsfOg68uTOipw</td>\n",
       "      <td>$</td>\n",
       "    </tr>\n",
       "    <tr>\n",
       "      <th>2</th>\n",
       "      <td>qluIWCzDpeZfddykm_2gYg</td>\n",
       "      <td>$</td>\n",
       "    </tr>\n",
       "    <tr>\n",
       "      <th>3</th>\n",
       "      <td>2oav5QoWgnvTI2gO5xFMjw</td>\n",
       "      <td>$</td>\n",
       "    </tr>\n",
       "    <tr>\n",
       "      <th>4</th>\n",
       "      <td>jTI5Xjk27An8ceJ6VwpXiQ</td>\n",
       "      <td>$</td>\n",
       "    </tr>\n",
       "    <tr>\n",
       "      <th>...</th>\n",
       "      <td>...</td>\n",
       "      <td>...</td>\n",
       "    </tr>\n",
       "    <tr>\n",
       "      <th>102</th>\n",
       "      <td>d9T1Jgf4N2vY3dcMlnCgeA</td>\n",
       "      <td>$$</td>\n",
       "    </tr>\n",
       "    <tr>\n",
       "      <th>103</th>\n",
       "      <td>4hM6GbEq5Jt-YZ0vRN1-Lw</td>\n",
       "      <td>None</td>\n",
       "    </tr>\n",
       "    <tr>\n",
       "      <th>104</th>\n",
       "      <td>0FMOvA2Noq-gieWfnXB7aQ</td>\n",
       "      <td>None</td>\n",
       "    </tr>\n",
       "    <tr>\n",
       "      <th>105</th>\n",
       "      <td>p6H295aQCbDJ80GcpqFvwA</td>\n",
       "      <td>$$</td>\n",
       "    </tr>\n",
       "    <tr>\n",
       "      <th>106</th>\n",
       "      <td>X7TvrNg6jY1Q0JHJXjlQ2g</td>\n",
       "      <td>$$</td>\n",
       "    </tr>\n",
       "  </tbody>\n",
       "</table>\n",
       "<p>107 rows × 2 columns</p>\n",
       "</div>"
      ],
      "text/plain": [
       "                business_id price\n",
       "0    6I_DA3uqOox50rBvjrQ_-g     $\n",
       "1    FppJo5aymUsfOg68uTOipw     $\n",
       "2    qluIWCzDpeZfddykm_2gYg     $\n",
       "3    2oav5QoWgnvTI2gO5xFMjw     $\n",
       "4    jTI5Xjk27An8ceJ6VwpXiQ     $\n",
       "..                      ...   ...\n",
       "102  d9T1Jgf4N2vY3dcMlnCgeA    $$\n",
       "103  4hM6GbEq5Jt-YZ0vRN1-Lw  None\n",
       "104  0FMOvA2Noq-gieWfnXB7aQ  None\n",
       "105  p6H295aQCbDJ80GcpqFvwA    $$\n",
       "106  X7TvrNg6jY1Q0JHJXjlQ2g    $$\n",
       "\n",
       "[107 rows x 2 columns]"
      ]
     },
     "execution_count": 22,
     "metadata": {},
     "output_type": "execute_result"
    }
   ],
   "source": [
    "df2 = df2.rename(columns =  {'id':'business_id'})\n",
    "df2"
   ]
  },
  {
   "cell_type": "code",
   "execution_count": 25,
   "metadata": {},
   "outputs": [
    {
     "data": {
      "text/plain": [
       "107"
      ]
     },
     "execution_count": 25,
     "metadata": {},
     "output_type": "execute_result"
    }
   ],
   "source": [
    "merged_df = pd.merge(df1, df2, on='business_id', how='outer')\n",
    "merged_array = merged_df.to_dict('records')\n",
    "len(merged_array)"
   ]
  },
  {
   "cell_type": "code",
   "execution_count": 27,
   "metadata": {},
   "outputs": [],
   "source": [
    "with open('Datasets/Hotels_pruned.jsonl', 'w') as json_file:    \n",
    "    for item in merged_array:\n",
    "        json.dump(item, json_file)\n",
    "        json_file.write('\\n')"
   ]
  },
  {
   "cell_type": "code",
   "execution_count": null,
   "metadata": {},
   "outputs": [],
   "source": []
  }
 ],
 "metadata": {
  "kernelspec": {
   "display_name": "torchgpu",
   "language": "python",
   "name": "python3"
  },
  "language_info": {
   "codemirror_mode": {
    "name": "ipython",
    "version": 3
   },
   "file_extension": ".py",
   "mimetype": "text/x-python",
   "name": "python",
   "nbconvert_exporter": "python",
   "pygments_lexer": "ipython3",
   "version": "3.11.0"
  }
 },
 "nbformat": 4,
 "nbformat_minor": 2
}
