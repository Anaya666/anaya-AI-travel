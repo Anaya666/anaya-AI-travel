{
 "cells": [
  {
   "cell_type": "code",
   "execution_count": 1,
   "metadata": {},
   "outputs": [],
   "source": [
    "import os\n",
    "import requests\n",
    "import json"
   ]
  },
  {
   "cell_type": "code",
   "execution_count": 3,
   "metadata": {},
   "outputs": [],
   "source": [
    "def get_business_details(api_key, business_id):\n",
    "    url = f\"https://api.yelp.com/v3/businesses/{business_id}\"\n",
    "    headers = {\"Authorization\": f\"Bearer {api_key}\"}\n",
    "    response = requests.get(url, headers=headers)\n",
    "    if response.status_code == 200:\n",
    "        business_data = response.json()\n",
    "        return business_data\n",
    "    else:\n",
    "        return response.status_code"
   ]
  },
  {
   "cell_type": "code",
   "execution_count": 4,
   "metadata": {},
   "outputs": [],
   "source": [
    "Yelp_api_key = os.getenv('YELP_API_KEY')"
   ]
  },
  {
   "cell_type": "markdown",
   "metadata": {},
   "source": [
    "1. All Hotels"
   ]
  },
  {
   "cell_type": "code",
   "execution_count": 6,
   "metadata": {},
   "outputs": [],
   "source": [
    "#load all hotels from dataset Hotels.jsonl\n",
    "hotels = []\n",
    "\n",
    "# Open the file and read it line by line\n",
    "with open('Datasets/Hotels.jsonl', 'r') as file:\n",
    "    for line in file:\n",
    "        # Parse each line as a JSON object and append to the list\n",
    "        json_obj = json.loads(line.strip())  # strip() removes any leading/trailing whitespace\n",
    "        hotels.append(json_obj)\n",
    "\n",
    "assert len(hotels) == 107"
   ]
  },
  {
   "cell_type": "code",
   "execution_count": 9,
   "metadata": {},
   "outputs": [],
   "source": [
    "hotels_detail = []\n",
    "\n",
    "for hotel in hotels:\n",
    "    business_id = hotel['business_id']\n",
    "    detail = get_business_details(Yelp_api_key, business_id)\n",
    "    hotels_detail.append(detail)"
   ]
  },
  {
   "cell_type": "code",
   "execution_count": 17,
   "metadata": {},
   "outputs": [],
   "source": [
    "with open('Datasets/Hotels_detail.jsonl', 'w') as json_file:    \n",
    "    for item in hotels_detail:\n",
    "        json.dump(item, json_file)\n",
    "        json_file.write('\\n')"
   ]
  },
  {
   "cell_type": "code",
   "execution_count": null,
   "metadata": {},
   "outputs": [],
   "source": []
  }
 ],
 "metadata": {
  "kernelspec": {
   "display_name": "pytorch",
   "language": "python",
   "name": "pytorch"
  },
  "language_info": {
   "codemirror_mode": {
    "name": "ipython",
    "version": 3
   },
   "file_extension": ".py",
   "mimetype": "text/x-python",
   "name": "python",
   "nbconvert_exporter": "python",
   "pygments_lexer": "ipython3",
   "version": "3.12.5"
  }
 },
 "nbformat": 4,
 "nbformat_minor": 2
}
